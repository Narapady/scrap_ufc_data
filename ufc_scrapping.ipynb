{
 "metadata": {
  "language_info": {
   "codemirror_mode": {
    "name": "ipython",
    "version": 3
   },
   "file_extension": ".py",
   "mimetype": "text/x-python",
   "name": "python",
   "nbconvert_exporter": "python",
   "pygments_lexer": "ipython3",
   "version": "3.8.5"
  },
  "orig_nbformat": 2,
  "kernelspec": {
   "name": "python385jvsc74a57bd08c03d0fe320ba32e87ec146cf627d054e13fa481ad050a28b68cf8f09939554b",
   "display_name": "Python 3.8.5 64-bit (conda)"
  }
 },
 "nbformat": 4,
 "nbformat_minor": 2,
 "cells": [
  {
   "cell_type": "code",
   "execution_count": 54,
   "metadata": {},
   "outputs": [
    {
     "output_type": "stream",
     "name": "stdout",
     "text": [
      "Requirement already satisfied: pyopenssl in /Users/anaconda3/lib/python3.8/site-packages (19.1.0)\n",
      "Collecting ndg-httpsclient\n",
      "  Downloading ndg_httpsclient-0.5.1-py3-none-any.whl (34 kB)\n",
      "Collecting pyasn1\n",
      "  Downloading pyasn1-0.4.8-py2.py3-none-any.whl (77 kB)\n",
      "\u001b[K     |████████████████████████████████| 77 kB 18 kB/s \n",
      "\u001b[?25hRequirement already satisfied: six>=1.5.2 in /Users/anaconda3/lib/python3.8/site-packages (from pyopenssl) (1.15.0)\n",
      "Requirement already satisfied: cryptography>=2.8 in /Users/anaconda3/lib/python3.8/site-packages (from pyopenssl) (3.1.1)\n",
      "Requirement already satisfied: cffi!=1.11.3,>=1.8 in /Users/anaconda3/lib/python3.8/site-packages (from cryptography>=2.8->pyopenssl) (1.14.3)\n",
      "Requirement already satisfied: pycparser in /Users/anaconda3/lib/python3.8/site-packages (from cffi!=1.11.3,>=1.8->cryptography>=2.8->pyopenssl) (2.20)\n",
      "Installing collected packages: pyasn1, ndg-httpsclient\n",
      "Successfully installed ndg-httpsclient-0.5.1 pyasn1-0.4.8\n",
      "Note: you may need to restart the kernel to use updated packages.\n"
     ]
    }
   ],
   "source": [
    "pip install pyopenssl ndg-httpsclient pyasn1"
   ]
  },
  {
   "cell_type": "code",
   "execution_count": 47,
   "metadata": {},
   "outputs": [],
   "source": [
    "from bs4 import BeautifulSoup\n",
    "import requests"
   ]
  },
  {
   "source": [
    "### Task 1: Get all links to the each event"
   ],
   "cell_type": "markdown",
   "metadata": {}
  },
  {
   "cell_type": "code",
   "execution_count": 48,
   "metadata": {},
   "outputs": [],
   "source": [
    "base_url = 'http://www.ufcstats.com./statistics/events/completed'\n",
    "all_urls = [base_url + f\"?page={i}\" for i in range(2,23)]\n",
    "all_urls.insert(0,base_url)"
   ]
  },
  {
   "cell_type": "code",
   "execution_count": 53,
   "metadata": {},
   "outputs": [],
   "source": [
    "def get_links_event(urls):\n",
    "    \"\"\" Return each link to the UFC events\"\"\"\n",
    "    links = []\n",
    "    for url in urls:\n",
    "        r = requests.get(url)\n",
    "        soup = BeautifulSoup(r.content)\n",
    "        info_rows = soup.find_all('tr', class_='b-statistics__table-row')[2:]\n",
    "    \n",
    "        for row in info_rows:\n",
    "            link = row.find('a')['href']\n",
    "            links.append(link)\n",
    "    return links\n",
    "\n",
    "event_urls = get_links_event(all_urls)"
   ]
  },
  {
   "source": [
    "### Task 2: Get information from each event"
   ],
   "cell_type": "markdown",
   "metadata": {}
  },
  {
   "cell_type": "code",
   "execution_count": 5,
   "metadata": {
    "tags": []
   },
   "outputs": [],
   "source": [
    "def get_links_fight(urls):\n",
    "    \"\"\"Return each link to the fight detail\"\"\"\n",
    "    links = []\n",
    "    for url in urls:\n",
    "        r = requests.get(url)\n",
    "        soup = BeautifulSoup(r.content)\n",
    "        table = soup.find('table', class_='b-fight-details__table')\n",
    "        rows = table.find_all('tr')\n",
    "        for row in rows[1:]:\n",
    "            links.append(row['data-link'])\n",
    "    return links\n",
    "\n",
    "fight_urls = get_links_fight(event_urls)"
   ]
  },
  {
   "cell_type": "code",
   "execution_count": 39,
   "metadata": {},
   "outputs": [],
   "source": [
    "link = fight_urls[1]\n",
    "def get_info_box(soup_obj):\n",
    "    \"\"\"Return a dictinary about the information box (method, round,time,referee,and detail)\"\"\"\n",
    "    my_dict = {}\n",
    "    \n",
    "    ## get info box\n",
    "    fight_title = soup_obj.find('div', class_='b-fight-details__fight-head').get_text(strip=True)\n",
    "    my_dict['Fight Type'] = fight_title\n",
    "    box = soup_obj.find('p', class_='b-fight-details__text')\n",
    "    method = box.find_all(class_='b-fight-details__text-item_first')\n",
    "    method = method[0].get_text('\\n', strip=True).split('\\n')\n",
    "    if len(method) >=2:\n",
    "        my_dict[method[0]] = method[1]\n",
    "    \n",
    "    content = box.find_all(class_='b-fight-details__text-item')\n",
    "    #print(content)\n",
    "    for item in content:\n",
    "        pair = item.get_text('\\n', strip=True).split('\\n')\n",
    "        if len(pair) >= 2:\n",
    "            my_dict[pair[0]] = pair[1]\n",
    "        else:\n",
    "            my_dict[pair[0]] = None\n",
    "    detail = box.find_next_sibling(\"p\").get_text(strip=True).split(':')\n",
    "    my_dict[detail[0]] = detail[1]\n",
    "    \n",
    "    return my_dict\n",
    "\n",
    "def get_fight_detail(soup_obj):\n",
    "    \"\"\"Return a dictionary about fight details (fighter's names, significant strike\"\"\"\n",
    "    my_dict = {}\n",
    "    table = soup_obj.find('tbody', class_='b-fight-details__table-body')\n",
    "    info = table.select('.b-fight-details__table-col')\n",
    "    index = [0,2,3,4]\n",
    "    info = [info[i].get_text('\\n',strip=True) for i in index]\n",
    "    \n",
    "    # Red and blue figters\n",
    "    fighters = info[0].split('\\n')\n",
    "    my_dict['r_figher'] = fighters[0]\n",
    "    my_dict['b_figher'] = fighters[1]\n",
    "\n",
    "    # significant strike\n",
    "    sig_str = info[1].split('\\n')\n",
    "    my_dict['r_figher_sig_str'] = sig_str[0]\n",
    "    my_dict['b_figher_sig_str'] = sig_str[1]\n",
    "\n",
    "    # significant strik percentage\n",
    "    sig_str_pct = info[2].split('\\n')\n",
    "    my_dict['r_figher_sig_str %'] = sig_str_pct[0]\n",
    "    my_dict['b_figher_sig_str %'] = sig_str_pct[1]\n",
    "\n",
    "    # total strike\n",
    "    total_str = info[3].split('\\n')\n",
    "    my_dict['r_figher_total_str'] = total_str[0]\n",
    "    my_dict['b_figher_total_str'] = total_str[1]\n",
    "\n",
    "    return my_dict\n",
    "\n",
    "def merge(dict1,dict2):\n",
    "    \"\"\"Merge two dictionaries\"\"\"\n",
    "    res = {**dict1, **dict2}\n",
    "    return res\n",
    "\n",
    "def get_fight_info(url):\n",
    "    \"\"\"Return dictionary with information about the fight\"\"\"\n",
    "    r = requests.get(url)\n",
    "    soup = BeautifulSoup(r.content)\n",
    "    \n",
    "    # get info box\n",
    "    dict_list = get_info_box(soup)\n",
    "    # get the winner\n",
    "    winner = soup.find('i', class_='b-fight-details__person-status_style_green')\n",
    "    if winner is not None:\n",
    "        winner = winner.find_next('div', class_='b-fight-details__person-text')\n",
    "        winner = winner.find('a').get_text(strip=True)\n",
    "        dict_list['Winner'] = winner\n",
    "    else:\n",
    "        dict_list['Winner'] = 'draw'\n",
    "\n",
    "    # get fight info\n",
    "    fight_info = get_fight_detail(soup)\n",
    "    new_dict = merge(dict_list, fight_info)\n",
    "    return new_dict\n"
   ]
  },
  {
   "cell_type": "code",
   "execution_count": 42,
   "metadata": {
    "tags": [
     "outputPrepend"
    ]
   },
   "outputs": [
    {
     "output_type": "stream",
     "name": "stdout",
     "text": [
      "imous', 'Round:': '3', 'Time:': '5:00', 'Time format:': '3 Rnd (5-5-5)', 'Referee:': 'Herb Dean', 'Details': \"Mike Bell27 - 30.Sal D'amato27 - 30.Tony Weeks27 - 30.\", 'Winner': 'Bill Algeo', 'r_figher': 'Spike Carlyle', 'b_figher': 'Bill Algeo', 'r_figher_sig_str': '23 of 53', 'b_figher_sig_str': '70 of 95', 'r_figher_sig_str %': '43%', 'b_figher_sig_str %': '73%', 'r_figher_total_str': '28 of 65', 'b_figher_total_str': '118 of 150'}\n",
      "====================================207========================================\n",
      "{'Fight Type': \"Women's Bantamweight Bout\", 'Method:': 'Decision - Unanimous', 'Round:': '3', 'Time:': '5:00', 'Time format:': '3 Rnd (5-5-5)', 'Referee:': 'Jason Herzog', 'Details': 'Mike Bell26 - 30.Derek Cleary26 - 30.Dave Hagen26 - 30.', 'Winner': 'Norma Dumont', 'r_figher': 'Ashlee Evans-Smith', 'b_figher': 'Norma Dumont', 'r_figher_sig_str': '42 of 164', 'b_figher_sig_str': '94 of 161', 'r_figher_sig_str %': '25%', 'b_figher_sig_str %': '58%', 'r_figher_total_str': '47 of 169', 'b_figher_total_str': '109 of 178'}\n",
      "====================================208========================================\n",
      "{'Fight Type': 'Featherweight Bout', 'Method:': 'KO/TKO', 'Round:': '2', 'Time:': '4:28', 'Time format:': '3 Rnd (5-5-5)', 'Referee:': 'Dan Miragliotta', 'Details': 'Punches to Head From Back Control', 'Winner': 'Jonathan Pearce', 'r_figher': 'Jonathan Pearce', 'b_figher': 'Kai Kamaka', 'r_figher_sig_str': '51 of 100', 'b_figher_sig_str': '47 of 83', 'r_figher_sig_str %': '51%', 'b_figher_sig_str %': '56%', 'r_figher_total_str': '113 of 172', 'b_figher_total_str': '48 of 84'}\n",
      "====================================209========================================\n",
      "{'Fight Type': 'Bantamweight Bout', 'Method:': 'Submission', 'Round:': '1', 'Time:': '4:35', 'Time format:': '3 Rnd (5-5-5)', 'Referee:': 'Herb Dean', 'Details': 'Guillotine Choke From Bottom Guard', 'Winner': 'Anderson Dos Santos', 'r_figher': 'Martin Day', 'b_figher': 'Anderson Dos Santos', 'r_figher_sig_str': '9 of 12', 'b_figher_sig_str': '11 of 20', 'r_figher_sig_str %': '75%', 'b_figher_sig_str %': '55%', 'r_figher_total_str': '16 of 19', 'b_figher_total_str': '22 of 31'}\n",
      "====================================210========================================\n",
      "{'Fight Type': \"Women's Flyweight Bout\", 'Method:': 'KO/TKO', 'Round:': '3', 'Time:': '4:10', 'Time format:': '3 Rnd (5-5-5)', 'Referee:': 'Mark Smith', 'Details': 'Kick to Body At Distance', 'Winner': 'Gina Mazany', 'r_figher': 'Gina Mazany', 'b_figher': 'Rachael Ostovich', 'r_figher_sig_str': '72 of 162', 'b_figher_sig_str': '41 of 95', 'r_figher_sig_str %': '44%', 'b_figher_sig_str %': '43%', 'r_figher_total_str': '106 of 216', 'b_figher_total_str': '49 of 106'}\n",
      "====================================211========================================\n",
      "{'Fight Type': 'Flyweight Bout', 'Method:': 'KO/TKO', 'Round:': '1', 'Time:': '0:44', 'Time format:': '3 Rnd (5-5-5)', 'Referee:': 'Dan Miragliotta', 'Details': 'Punches to Head At Distance', 'Winner': 'Su Mudaerji', 'r_figher': 'Su Mudaerji', 'b_figher': 'Malcolm Gordon', 'r_figher_sig_str': '9 of 18', 'b_figher_sig_str': '0 of 6', 'r_figher_sig_str %': '50%', 'b_figher_sig_str %': '0%', 'r_figher_total_str': '9 of 18', 'b_figher_total_str': '0 of 6'}\n",
      "====================================212========================================\n",
      "{'Fight Type': 'Catch Weight Bout', 'Method:': 'Submission', 'Round:': '2', 'Time:': '2:29', 'Time format:': '3 Rnd (5-5-5)', 'Referee:': 'Jason Herzog', 'Details': 'Rear Naked Choke', 'Winner': 'Nate Maness', 'r_figher': 'Luke Sanders', 'b_figher': 'Nate Maness', 'r_figher_sig_str': '55 of 112', 'b_figher_sig_str': '33 of 70', 'r_figher_sig_str %': '49%', 'b_figher_sig_str %': '47%', 'r_figher_total_str': '63 of 120', 'b_figher_total_str': '38 of 75'}\n",
      "====================================213========================================\n",
      "{'Fight Type': 'UFC Flyweight Title Bout', 'Method:': 'Submission', 'Round:': '1', 'Time:': '1:57', 'Time format:': '5 Rnd (5-5-5-5-5)', 'Referee:': 'Marc Goddard', 'Details': 'Guillotine Choke From Bottom Guard', 'Winner': 'Deiveson Figueiredo', 'r_figher': 'Deiveson Figueiredo', 'b_figher': 'Alex Perez', 'r_figher_sig_str': '5 of 8', 'b_figher_sig_str': '6 of 14', 'r_figher_sig_str %': '62%', 'b_figher_sig_str %': '42%', 'r_figher_total_str': '5 of 8', 'b_figher_total_str': '6 of 14'}\n",
      "====================================214========================================\n",
      "{'Fight Type': \"UFC Women's Flyweight Title Bout\", 'Method:': 'Decision - Unanimous', 'Round:': '5', 'Time:': '5:00', 'Time format:': '5 Rnd (5-5-5-5-5)', 'Referee:': 'Herb Dean', 'Details': \"Sal D'amato46 - 49.Mike Bell46 - 49.Junichiro Kamijo46 - 49.\", 'Winner': 'Valentina Shevchenko', 'r_figher': 'Valentina Shevchenko', 'b_figher': 'Jennifer Maia', 'r_figher_sig_str': '62 of 119', 'b_figher_sig_str': '36 of 88', 'r_figher_sig_str %': '52%', 'b_figher_sig_str %': '40%', 'r_figher_total_str': '249 of 317', 'b_figher_total_str': '94 of 152'}\n",
      "====================================215========================================\n",
      "{'Fight Type': 'Welterweight Bout', 'Method:': 'Decision - Unanimous', 'Round:': '3', 'Time:': '5:00', 'Time format:': '3 Rnd (5-5-5)', 'Referee:': 'Marc Goddard', 'Details': 'Dave Hagen27 - 30.Chris Lee28 - 29.Mike Bell28 - 29.', 'Winner': 'Tim Means', 'r_figher': 'Mike Perry', 'b_figher': 'Tim Means', 'r_figher_sig_str': '64 of 161', 'b_figher_sig_str': '128 of 192', 'r_figher_sig_str %': '39%', 'b_figher_sig_str %': '66%', 'r_figher_total_str': '69 of 166', 'b_figher_total_str': '143 of 207'}\n",
      "====================================216========================================\n",
      "{'Fight Type': \"Women's Flyweight Bout\", 'Method:': 'Decision - Unanimous', 'Round:': '3', 'Time:': '5:00', 'Time format:': '3 Rnd (5-5-5)', 'Referee:': 'Mark Smith', 'Details': \"Junichiro Kamijo27 - 30.Sal D'amato27 - 30.Derek Cleary27 - 30.\", 'Winner': 'Katlyn Chookagian', 'r_figher': 'Katlyn Chookagian', 'b_figher': 'Cynthia Calvillo', 'r_figher_sig_str': '69 of 230', 'b_figher_sig_str': '60 of 197', 'r_figher_sig_str %': '30%', 'b_figher_sig_str %': '30%', 'r_figher_total_str': '69 of 230', 'b_figher_total_str': '60 of 197'}\n",
      "====================================217========================================\n",
      "{'Fight Type': 'Light Heavyweight Bout', 'Method:': 'KO/TKO', 'Round:': '2', 'Time:': '3:36', 'Time format:': '3 Rnd (5-5-5)', 'Referee:': 'Herb Dean', 'Details': 'Punches to Head From Back Control', 'Winner': 'Paul Craig', 'r_figher': 'Mauricio Rua', 'b_figher': 'Paul Craig', 'r_figher_sig_str': '10 of 28', 'b_figher_sig_str': '29 of 57', 'r_figher_sig_str %': '35%', 'b_figher_sig_str %': '50%', 'r_figher_total_str': '25 of 46', 'b_figher_total_str': '54 of 88'}\n",
      "====================================218========================================\n",
      "{'Fight Type': 'Flyweight Bout', 'Method:': 'KO/TKO', 'Round:': '1', 'Time:': '4:59', 'Time format:': '3 Rnd (5-5-5)', 'Referee:': 'Marc Goddard', 'Details': 'Punches to Head On Ground', 'Winner': 'Brandon Moreno', 'r_figher': 'Brandon Moreno', 'b_figher': 'Brandon Royval', 'r_figher_sig_str': '16 of 34', 'b_figher_sig_str': '17 of 52', 'r_figher_sig_str %': '47%', 'b_figher_sig_str %': '32%', 'r_figher_total_str': '53 of 73', 'b_figher_total_str': '24 of 62'}\n",
      "====================================219========================================\n",
      "{'Fight Type': 'Middleweight Bout', 'Method:': 'KO/TKO', 'Round:': '2', 'Time:': '0:18', 'Time format:': '3 Rnd (5-5-5)', 'Referee:': 'Herb Dean', 'Details': 'Punches to Head At Distance', 'Winner': 'Joaquin Buckley', 'r_figher': 'Joaquin Buckley', 'b_figher': 'Jordan Wright', 'r_figher_sig_str': '43 of 80', 'b_figher_sig_str': '18 of 47', 'r_figher_sig_str %': '53%', 'b_figher_sig_str %': '38%', 'r_figher_total_str': '59 of 96', 'b_figher_total_str': '36 of 66'}\n",
      "====================================220========================================\n",
      "{'Fight Type': \"Women's Flyweight Bout\", 'Method:': 'KO/TKO', 'Round:': '2', 'Time:': '4:33', 'Time format:': '3 Rnd (5-5-5)', 'Referee:': 'Chris Tognoni', 'Details': 'Punches to Head From Back Control', 'Winner': 'Antonina Shevchenko', 'r_figher': 'Antonina Shevchenko', 'b_figher': 'Ariane Lipski', 'r_figher_sig_str': '39 of 57', 'b_figher_sig_str': '15 of 26', 'r_figher_sig_str %': '68%', 'b_figher_sig_str %': '57%', 'r_figher_total_str': '94 of 128', 'b_figher_total_str': '25 of 36'}\n",
      "====================================221========================================\n",
      "{'Fight Type': 'Welterweight Bout', 'Method:': 'Decision - Unanimous', 'Round:': '3', 'Time:': '5:00', 'Time format:': '3 Rnd (5-5-5)', 'Referee:': 'Mark Smith', 'Details': 'Tony Weeks27 - 30.Anthony Maness28 - 29.Derek Cleary28 - 29.', 'Winner': 'Nicolas Dalby', 'r_figher': 'Daniel Rodriguez', 'b_figher': 'Nicolas Dalby', 'r_figher_sig_str': '83 of 199', 'b_figher_sig_str': '50 of 147', 'r_figher_sig_str %': '41%', 'b_figher_sig_str %': '34%', 'r_figher_total_str': '105 of 222', 'b_figher_total_str': '58 of 155'}\n",
      "====================================222========================================\n",
      "{'Fight Type': 'Welterweight Bout', 'Method:': 'Decision - Unanimous', 'Round:': '3', 'Time:': '5:00', 'Time format:': '3 Rnd (5-5-5)', 'Referee:': 'Chris Tognoni', 'Details': 'Dave Hagen27 - 30.Eric Colon27 - 30.Mike Bell27 - 30.', 'Winner': 'Alan Jouban', 'r_figher': 'Alan Jouban', 'b_figher': 'Jared Gooden', 'r_figher_sig_str': '168 of 331', 'b_figher_sig_str': '100 of 210', 'r_figher_sig_str %': '50%', 'b_figher_sig_str %': '47%', 'r_figher_total_str': '169 of 332', 'b_figher_total_str': '101 of 211'}\n",
      "====================================223========================================\n",
      "{'Fight Type': 'Middleweight Bout', 'Method:': 'Decision - Unanimous', 'Round:': '3', 'Time:': '5:00', 'Time format:': '3 Rnd (5-5-5)', 'Referee:': 'Mark Smith', 'Details': 'Tony Weeks27 - 30.Junichiro Kamijo27 - 30.Mike Bell26 - 30.', 'Winner': 'Kyle Daukaus', 'r_figher': 'Kyle Daukaus', 'b_figher': 'Dustin Stoltzfus', 'r_figher_sig_str': '64 of 122', 'b_figher_sig_str': '32 of 63', 'r_figher_sig_str %': '52%', 'b_figher_sig_str %': '50%', 'r_figher_total_str': '113 of 183', 'b_figher_total_str': '95 of 130'}\n",
      "====================================224========================================\n",
      "{'Fight Type': 'Welterweight Bout', 'Method:': 'KO/TKO', 'Round:': '3', 'Time:': '2:47', 'Time format:': '3 Rnd (5-5-5)', 'Referee:': 'Chris Tognoni', 'Details': 'Punches to Head On Ground', 'Winner': 'Sasha Palatnikov', 'r_figher': 'Louis Cosce', 'b_figher': 'Sasha Palatnikov', 'r_figher_sig_str': '99 of 206', 'b_figher_sig_str': '125 of 237', 'r_figher_sig_str %': '48%', 'b_figher_sig_str %': '52%', 'r_figher_total_str': '115 of 224', 'b_figher_total_str': '160 of 275'}\n",
      "====================================225========================================\n",
      "{'Fight Type': 'Lightweight Bout', 'Method:': 'Decision - Split', 'Round:': '5', 'Time:': '5:00', 'Time format:': '5 Rnd (5-5-5-5-5)', 'Referee:': 'Herb Dean', 'Details': \"Chris Lee48 - 47.Sal D'amato45 - 50.Derek Cleary45 - 50.\", 'Winner': 'Rafael Dos Anjos', 'r_figher': 'Paul Felder', 'b_figher': 'Rafael Dos Anjos', 'r_figher_sig_str': '98 of 190', 'b_figher_sig_str': '92 of 162', 'r_figher_sig_str %': '51%', 'b_figher_sig_str %': '56%', 'r_figher_total_str': '134 of 226', 'b_figher_total_str': '155 of 231'}\n",
      "====================================226========================================\n",
      "{'Fight Type': 'Welterweight Bout', 'Method:': 'KO/TKO', 'Round:': '1', 'Time:': '0:30', 'Time format:': '3 Rnd (5-5-5)', 'Referee:': 'Mark Smith', 'Details': 'Punch to Head At Distance', 'Winner': 'Khaos Williams', 'r_figher': 'Abdul Razak Alhassan', 'b_figher': 'Khaos Williams', 'r_figher_sig_str': '2 of 2', 'b_figher_sig_str': '5 of 10', 'r_figher_sig_str %': '100%', 'b_figher_sig_str %': '50%', 'r_figher_total_str': '2 of 2', 'b_figher_total_str': '5 of 10'}\n",
      "====================================227========================================\n",
      "{'Fight Type': \"Women's Strawweight Bout\", 'Method:': 'Decision - Unanimous', 'Round:': '3', 'Time:': '5:00', 'Time format:': '3 Rnd (5-5-5)', 'Referee:': 'Jason Herzog', 'Details': 'Ron McCarthy26 - 30.Chris Lee27 - 29.Derek Cleary27 - 29.', 'Winner': 'Ashley Yoder', 'r_figher': 'Ashley Yoder', 'b_figher': 'Miranda Granger', 'r_figher_sig_str': '26 of 42', 'b_figher_sig_str': '33 of 51', 'r_figher_sig_str %': '61%', 'b_figher_sig_str %': '64%', 'r_figher_total_str': '151 of 184', 'b_figher_total_str': '87 of 107'}\n",
      "====================================228========================================\n",
      "{'Fight Type': 'Catch Weight Bout', 'Method:': 'KO/TKO', 'Round:': '2', 'Time:': '1:32', 'Time format:': '3 Rnd (5-5-5)', 'Referee:': 'Herb Dean', 'Details': 'Punches to Head In Clinch', 'Winner': 'Sean Strickland', 'r_figher': 'Brendan Allen', 'b_figher': 'Sean Strickland', 'r_figher_sig_str': '51 of 90', 'b_figher_sig_str': '94 of 161', 'r_figher_sig_str %': '56%', 'b_figher_sig_str %': '58%', 'r_figher_total_str': '53 of 92', 'b_figher_total_str': '106 of 176'}\n",
      "====================================229========================================\n",
      "{'Fight Type': \"Women's Strawweight Bout\", 'Method:': 'Decision - Unanimous', 'Round:': '3', 'Time:': '5:00', 'Time format:': '3 Rnd (5-5-5)', 'Referee:': 'Jason Herzog', 'Details': \"Chris Lee28 - 29.Sal D'amato28 - 29.Derek Cleary28 - 29.\", 'Winner': 'Cory McKenna', 'r_figher': 'Kay Hansen', 'b_figher': 'Cory McKenna', 'r_figher_sig_str': '67 of 110', 'b_figher_sig_str': '57 of 137', 'r_figher_sig_str %': '60%', 'b_figher_sig_str %': '41%', 'r_figher_total_str': '87 of 131', 'b_figher_total_str': '156 of 246'}\n",
      "====================================230========================================\n",
      "{'Fight Type': \"Women's Strawweight Bout\", 'Method:': 'Decision - Unanimous', 'Round:': '3', 'Time:': '5:00', 'Time format:': '3 Rnd (5-5-5)', 'Referee:': 'Mark Smith', 'Details': \"Junichiro Kamijo27 - 30.Sal D'amato27 - 30.Mike Bell27 - 30.\", 'Winner': 'Kanako Murata', 'r_figher': 'Randa Markos', 'b_figher': 'Kanako Murata', 'r_figher_sig_str': '29 of 61', 'b_figher_sig_str': '29 of 43', 'r_figher_sig_str %': '47%', 'b_figher_sig_str %': '67%', 'r_figher_total_str': '37 of 69', 'b_figher_total_str': '79 of 95'}\n",
      "====================================231========================================\n",
      "{'Fight Type': 'Bantamweight Bout', 'Method:': 'Decision - Split', 'Round:': '3', 'Time:': '5:00', 'Time format:': '3 Rnd (5-5-5)', 'Referee:': 'Chris Tognoni', 'Details': \"Dave Hagen27 - 30.Sal D'amato29 - 28.Mike Bell28 - 29.\", 'Winner': 'Tony Gravely', 'r_figher': 'Geraldo de Freitas', 'b_figher': 'Tony Gravely', 'r_figher_sig_str': '76 of 128', 'b_figher_sig_str': '49 of 101', 'r_figher_sig_str %': '59%', 'b_figher_sig_str %': '48%', 'r_figher_total_str': '108 of 165', 'b_figher_total_str': '86 of 144'}\n",
      "====================================232========================================\n",
      "{'Fight Type': 'Welterweight Bout', 'Method:': 'Decision - Unanimous', 'Round:': '3', 'Time:': '5:00', 'Time format:': '3 Rnd (5-5-5)', 'Referee:': 'Jason Herzog', 'Details': 'Rick Winter27 - 30.Junichiro Kamijo27 - 30.Mike Bell27 - 30.', 'Winner': 'Alex Morono', 'r_figher': 'Alex Morono', 'b_figher': 'Rhys McKee', 'r_figher_sig_str': '176 of 321', 'b_figher_sig_str': '124 of 230', 'r_figher_sig_str %': '54%', 'b_figher_sig_str %': '53%', 'r_figher_total_str': '208 of 360', 'b_figher_total_str': '133 of 242'}\n",
      "====================================233========================================\n",
      "{'Fight Type': 'Heavyweight Bout', 'Method:': 'Decision - Unanimous', 'Round:': '3', 'Time:': '5:00', 'Time format:': '3 Rnd (5-5-5)', 'Referee:': 'Chris Tognoni', 'Details': 'Rick Winter27 - 30.Dave Hagen27 - 30.Junichiro Kamijo28 - 29.', 'Winner': \"Don'Tale Mayes\", 'r_figher': \"Don'Tale Mayes\", 'b_figher': 'Roque Martinez', 'r_figher_sig_str': '59 of 135', 'b_figher_sig_str': '58 of 111', 'r_figher_sig_str %': '43%', 'b_figher_sig_str %': '52%', 'r_figher_total_str': '80 of 158', 'b_figher_total_str': '96 of 152'}\n",
      "====================================234========================================\n",
      "{'Fight Type': 'Light Heavyweight Bout', 'Method:': 'Submission', 'Round:': '3', 'Time:': '1:49', 'Time format:': '5 Rnd (5-5-5-5-5)', 'Referee:': 'Herb Dean', 'Details': 'Rear Naked Choke', 'Winner': 'Glover Teixeira', 'r_figher': 'Thiago Santos', 'b_figher': 'Glover Teixeira', 'r_figher_sig_str': '40 of 64', 'b_figher_sig_str': '46 of 63', 'r_figher_sig_str %': '62%', 'b_figher_sig_str %': '73%', 'r_figher_total_str': '81 of 109', 'b_figher_total_str': '148 of 180'}\n",
      "====================================235========================================\n",
      "{'Fight Type': 'Heavyweight Bout', 'Method:': 'Decision - Unanimous', 'Round:': '3', 'Time:': '5:00', 'Time format:': '3 Rnd (5-5-5)', 'Referee:': 'Mark Smith', 'Details': 'Eric Colon28 - 29.Chris Lee28 - 29.Ron McCarthy28 - 29.', 'Winner': 'Andrei Arlovski', 'r_figher': 'Andrei Arlovski', 'b_figher': 'Tanner Boser', 'r_figher_sig_str': '34 of 82', 'b_figher_sig_str': '68 of 119', 'r_figher_sig_str %': '41%', 'b_figher_sig_str %': '57%', 'r_figher_total_str': '34 of 82', 'b_figher_total_str': '68 of 119'}\n",
      "====================================236========================================\n",
      "{'Fight Type': 'Bantamweight Bout', 'Method:': 'Decision - Unanimous', 'Round:': '3', 'Time:': '5:00', 'Time format:': '3 Rnd (5-5-5)', 'Referee:': 'Jason Herzog', 'Details': 'Dave Hagen27 - 30.Chris Lee27 - 30.Ron McCarthy27 - 30.', 'Winner': 'Raoni Barcelos', 'r_figher': 'Raoni Barcelos', 'b_figher': 'Khalid Taha', 'r_figher_sig_str': '120 of 207', 'b_figher_sig_str': '49 of 202', 'r_figher_sig_str %': '57%', 'b_figher_sig_str %': '24%', 'r_figher_total_str': '129 of 219', 'b_figher_total_str': '68 of 222'}\n",
      "====================================237========================================\n",
      "{'Fight Type': 'Featherweight Bout', 'Method:': 'KO/TKO', 'Round:': '1', 'Time:': '3:51', 'Time format:': '3 Rnd (5-5-5)', 'Referee:': 'Herb Dean', 'Details': 'Kick to Head At Distance', 'Winner': 'Giga Chikadze', 'r_figher': 'Giga Chikadze', 'b_figher': 'Jamey Simmons', 'r_figher_sig_str': '8 of 16', 'b_figher_sig_str': '2 of 4', 'r_figher_sig_str %': '50%', 'b_figher_sig_str %': '50%', 'r_figher_total_str': '8 of 16', 'b_figher_total_str': '4 of 6'}\n",
      "====================================238========================================\n",
      "{'Fight Type': \"Women's Strawweight Bout\", 'Method:': 'Decision - Unanimous', 'Round:': '3', 'Time:': '5:00', 'Time format:': '3 Rnd (5-5-5)', 'Referee:': 'Jason Herzog', 'Details': \"Mike Bell28 - 29.Derek Cleary28 - 29.Sal D'amato28 - 29.\", 'Winner': 'Yan Xiaonan', 'r_figher': 'Claudia Gadelha', 'b_figher': 'Yan Xiaonan', 'r_figher_sig_str': '36 of 96', 'b_figher_sig_str': '74 of 170', 'r_figher_sig_str %': '37%', 'b_figher_sig_str %': '43%', 'r_figher_total_str': '84 of 149', 'b_figher_total_str': '133 of 234'}\n",
      "====================================239========================================\n",
      "{'Fight Type': 'Middleweight Bout', 'Method:': 'KO/TKO', 'Round:': '3', 'Time:': '1:26', 'Time format:': '3 Rnd (5-5-5)', 'Referee:': 'Mark Smith', 'Details': 'Punches to Head At Distance', 'Winner': 'Trevin Giles', 'r_figher': 'Trevin Giles', 'b_figher': 'Bevon Lewis', 'r_figher_sig_str': '38 of 59', 'b_figher_sig_str': '26 of 75', 'r_figher_sig_str %': '64%', 'b_figher_sig_str %': '34%', 'r_figher_total_str': '51 of 73', 'b_figher_total_str': '60 of 113'}\n",
      "====================================240========================================\n",
      "{'Fight Type': 'Heavyweight Bout', 'Method:': 'Submission', 'Round:': '1', 'Time:': '4:48', 'Time format:': '3 Rnd (5-5-5)', 'Referee:': 'Herb Dean', 'Details': 'Forearm Choke From Half Guard', 'Winner': 'Alexandr Romanov', 'r_figher': 'Alexandr Romanov', 'b_figher': 'Marcos Rogerio de Lima', 'r_figher_sig_str': '6 of 7', 'b_figher_sig_str': '18 of 29', 'r_figher_sig_str %': '85%', 'b_figher_sig_str %': '62%', 'r_figher_total_str': '10 of 12', 'b_figher_total_str': '27 of 39'}\n"
     ]
    },
    {
     "output_type": "error",
     "ename": "ConnectionError",
     "evalue": "('Connection aborted.', ConnectionResetError(54, 'Connection reset by peer'))",
     "traceback": [
      "\u001b[0;31m---------------------------------------------------------------------------\u001b[0m",
      "\u001b[0;31mConnectionResetError\u001b[0m                      Traceback (most recent call last)",
      "\u001b[0;32m/Users/anaconda3/lib/python3.8/site-packages/urllib3/connectionpool.py\u001b[0m in \u001b[0;36murlopen\u001b[0;34m(self, method, url, body, headers, retries, redirect, assert_same_host, timeout, pool_timeout, release_conn, chunked, body_pos, **response_kw)\u001b[0m\n\u001b[1;32m    669\u001b[0m             \u001b[0;31m# Make the request on the httplib connection object.\u001b[0m\u001b[0;34m\u001b[0m\u001b[0;34m\u001b[0m\u001b[0;34m\u001b[0m\u001b[0m\n\u001b[0;32m--> 670\u001b[0;31m             httplib_response = self._make_request(\n\u001b[0m\u001b[1;32m    671\u001b[0m                 \u001b[0mconn\u001b[0m\u001b[0;34m,\u001b[0m\u001b[0;34m\u001b[0m\u001b[0;34m\u001b[0m\u001b[0m\n",
      "\u001b[0;32m/Users/anaconda3/lib/python3.8/site-packages/urllib3/connectionpool.py\u001b[0m in \u001b[0;36m_make_request\u001b[0;34m(self, conn, method, url, timeout, chunked, **httplib_request_kw)\u001b[0m\n\u001b[1;32m    425\u001b[0m                     \u001b[0;31m# Otherwise it looks like a bug in the code.\u001b[0m\u001b[0;34m\u001b[0m\u001b[0;34m\u001b[0m\u001b[0;34m\u001b[0m\u001b[0m\n\u001b[0;32m--> 426\u001b[0;31m                     \u001b[0msix\u001b[0m\u001b[0;34m.\u001b[0m\u001b[0mraise_from\u001b[0m\u001b[0;34m(\u001b[0m\u001b[0me\u001b[0m\u001b[0;34m,\u001b[0m \u001b[0;32mNone\u001b[0m\u001b[0;34m)\u001b[0m\u001b[0;34m\u001b[0m\u001b[0;34m\u001b[0m\u001b[0m\n\u001b[0m\u001b[1;32m    427\u001b[0m         \u001b[0;32mexcept\u001b[0m \u001b[0;34m(\u001b[0m\u001b[0mSocketTimeout\u001b[0m\u001b[0;34m,\u001b[0m \u001b[0mBaseSSLError\u001b[0m\u001b[0;34m,\u001b[0m \u001b[0mSocketError\u001b[0m\u001b[0;34m)\u001b[0m \u001b[0;32mas\u001b[0m \u001b[0me\u001b[0m\u001b[0;34m:\u001b[0m\u001b[0;34m\u001b[0m\u001b[0;34m\u001b[0m\u001b[0m\n",
      "\u001b[0;32m/Users/anaconda3/lib/python3.8/site-packages/urllib3/packages/six.py\u001b[0m in \u001b[0;36mraise_from\u001b[0;34m(value, from_value)\u001b[0m\n",
      "\u001b[0;32m/Users/anaconda3/lib/python3.8/site-packages/urllib3/connectionpool.py\u001b[0m in \u001b[0;36m_make_request\u001b[0;34m(self, conn, method, url, timeout, chunked, **httplib_request_kw)\u001b[0m\n\u001b[1;32m    420\u001b[0m                 \u001b[0;32mtry\u001b[0m\u001b[0;34m:\u001b[0m\u001b[0;34m\u001b[0m\u001b[0;34m\u001b[0m\u001b[0m\n\u001b[0;32m--> 421\u001b[0;31m                     \u001b[0mhttplib_response\u001b[0m \u001b[0;34m=\u001b[0m \u001b[0mconn\u001b[0m\u001b[0;34m.\u001b[0m\u001b[0mgetresponse\u001b[0m\u001b[0;34m(\u001b[0m\u001b[0;34m)\u001b[0m\u001b[0;34m\u001b[0m\u001b[0;34m\u001b[0m\u001b[0m\n\u001b[0m\u001b[1;32m    422\u001b[0m                 \u001b[0;32mexcept\u001b[0m \u001b[0mBaseException\u001b[0m \u001b[0;32mas\u001b[0m \u001b[0me\u001b[0m\u001b[0;34m:\u001b[0m\u001b[0;34m\u001b[0m\u001b[0;34m\u001b[0m\u001b[0m\n",
      "\u001b[0;32m/Users/anaconda3/lib/python3.8/http/client.py\u001b[0m in \u001b[0;36mgetresponse\u001b[0;34m(self)\u001b[0m\n\u001b[1;32m   1346\u001b[0m             \u001b[0;32mtry\u001b[0m\u001b[0;34m:\u001b[0m\u001b[0;34m\u001b[0m\u001b[0;34m\u001b[0m\u001b[0m\n\u001b[0;32m-> 1347\u001b[0;31m                 \u001b[0mresponse\u001b[0m\u001b[0;34m.\u001b[0m\u001b[0mbegin\u001b[0m\u001b[0;34m(\u001b[0m\u001b[0;34m)\u001b[0m\u001b[0;34m\u001b[0m\u001b[0;34m\u001b[0m\u001b[0m\n\u001b[0m\u001b[1;32m   1348\u001b[0m             \u001b[0;32mexcept\u001b[0m \u001b[0mConnectionError\u001b[0m\u001b[0;34m:\u001b[0m\u001b[0;34m\u001b[0m\u001b[0;34m\u001b[0m\u001b[0m\n",
      "\u001b[0;32m/Users/anaconda3/lib/python3.8/http/client.py\u001b[0m in \u001b[0;36mbegin\u001b[0;34m(self)\u001b[0m\n\u001b[1;32m    306\u001b[0m         \u001b[0;32mwhile\u001b[0m \u001b[0;32mTrue\u001b[0m\u001b[0;34m:\u001b[0m\u001b[0;34m\u001b[0m\u001b[0;34m\u001b[0m\u001b[0m\n\u001b[0;32m--> 307\u001b[0;31m             \u001b[0mversion\u001b[0m\u001b[0;34m,\u001b[0m \u001b[0mstatus\u001b[0m\u001b[0;34m,\u001b[0m \u001b[0mreason\u001b[0m \u001b[0;34m=\u001b[0m \u001b[0mself\u001b[0m\u001b[0;34m.\u001b[0m\u001b[0m_read_status\u001b[0m\u001b[0;34m(\u001b[0m\u001b[0;34m)\u001b[0m\u001b[0;34m\u001b[0m\u001b[0;34m\u001b[0m\u001b[0m\n\u001b[0m\u001b[1;32m    308\u001b[0m             \u001b[0;32mif\u001b[0m \u001b[0mstatus\u001b[0m \u001b[0;34m!=\u001b[0m \u001b[0mCONTINUE\u001b[0m\u001b[0;34m:\u001b[0m\u001b[0;34m\u001b[0m\u001b[0;34m\u001b[0m\u001b[0m\n",
      "\u001b[0;32m/Users/anaconda3/lib/python3.8/http/client.py\u001b[0m in \u001b[0;36m_read_status\u001b[0;34m(self)\u001b[0m\n\u001b[1;32m    267\u001b[0m     \u001b[0;32mdef\u001b[0m \u001b[0m_read_status\u001b[0m\u001b[0;34m(\u001b[0m\u001b[0mself\u001b[0m\u001b[0;34m)\u001b[0m\u001b[0;34m:\u001b[0m\u001b[0;34m\u001b[0m\u001b[0;34m\u001b[0m\u001b[0m\n\u001b[0;32m--> 268\u001b[0;31m         \u001b[0mline\u001b[0m \u001b[0;34m=\u001b[0m \u001b[0mstr\u001b[0m\u001b[0;34m(\u001b[0m\u001b[0mself\u001b[0m\u001b[0;34m.\u001b[0m\u001b[0mfp\u001b[0m\u001b[0;34m.\u001b[0m\u001b[0mreadline\u001b[0m\u001b[0;34m(\u001b[0m\u001b[0m_MAXLINE\u001b[0m \u001b[0;34m+\u001b[0m \u001b[0;36m1\u001b[0m\u001b[0;34m)\u001b[0m\u001b[0;34m,\u001b[0m \u001b[0;34m\"iso-8859-1\"\u001b[0m\u001b[0;34m)\u001b[0m\u001b[0;34m\u001b[0m\u001b[0;34m\u001b[0m\u001b[0m\n\u001b[0m\u001b[1;32m    269\u001b[0m         \u001b[0;32mif\u001b[0m \u001b[0mlen\u001b[0m\u001b[0;34m(\u001b[0m\u001b[0mline\u001b[0m\u001b[0;34m)\u001b[0m \u001b[0;34m>\u001b[0m \u001b[0m_MAXLINE\u001b[0m\u001b[0;34m:\u001b[0m\u001b[0;34m\u001b[0m\u001b[0;34m\u001b[0m\u001b[0m\n",
      "\u001b[0;32m/Users/anaconda3/lib/python3.8/socket.py\u001b[0m in \u001b[0;36mreadinto\u001b[0;34m(self, b)\u001b[0m\n\u001b[1;32m    668\u001b[0m             \u001b[0;32mtry\u001b[0m\u001b[0;34m:\u001b[0m\u001b[0;34m\u001b[0m\u001b[0;34m\u001b[0m\u001b[0m\n\u001b[0;32m--> 669\u001b[0;31m                 \u001b[0;32mreturn\u001b[0m \u001b[0mself\u001b[0m\u001b[0;34m.\u001b[0m\u001b[0m_sock\u001b[0m\u001b[0;34m.\u001b[0m\u001b[0mrecv_into\u001b[0m\u001b[0;34m(\u001b[0m\u001b[0mb\u001b[0m\u001b[0;34m)\u001b[0m\u001b[0;34m\u001b[0m\u001b[0;34m\u001b[0m\u001b[0m\n\u001b[0m\u001b[1;32m    670\u001b[0m             \u001b[0;32mexcept\u001b[0m \u001b[0mtimeout\u001b[0m\u001b[0;34m:\u001b[0m\u001b[0;34m\u001b[0m\u001b[0;34m\u001b[0m\u001b[0m\n",
      "\u001b[0;31mConnectionResetError\u001b[0m: [Errno 54] Connection reset by peer",
      "\nDuring handling of the above exception, another exception occurred:\n",
      "\u001b[0;31mProtocolError\u001b[0m                             Traceback (most recent call last)",
      "\u001b[0;32m/Users/anaconda3/lib/python3.8/site-packages/requests/adapters.py\u001b[0m in \u001b[0;36msend\u001b[0;34m(self, request, stream, timeout, verify, cert, proxies)\u001b[0m\n\u001b[1;32m    438\u001b[0m             \u001b[0;32mif\u001b[0m \u001b[0;32mnot\u001b[0m \u001b[0mchunked\u001b[0m\u001b[0;34m:\u001b[0m\u001b[0;34m\u001b[0m\u001b[0;34m\u001b[0m\u001b[0m\n\u001b[0;32m--> 439\u001b[0;31m                 resp = conn.urlopen(\n\u001b[0m\u001b[1;32m    440\u001b[0m                     \u001b[0mmethod\u001b[0m\u001b[0;34m=\u001b[0m\u001b[0mrequest\u001b[0m\u001b[0;34m.\u001b[0m\u001b[0mmethod\u001b[0m\u001b[0;34m,\u001b[0m\u001b[0;34m\u001b[0m\u001b[0;34m\u001b[0m\u001b[0m\n",
      "\u001b[0;32m/Users/anaconda3/lib/python3.8/site-packages/urllib3/connectionpool.py\u001b[0m in \u001b[0;36murlopen\u001b[0;34m(self, method, url, body, headers, retries, redirect, assert_same_host, timeout, pool_timeout, release_conn, chunked, body_pos, **response_kw)\u001b[0m\n\u001b[1;32m    725\u001b[0m \u001b[0;34m\u001b[0m\u001b[0m\n\u001b[0;32m--> 726\u001b[0;31m             retries = retries.increment(\n\u001b[0m\u001b[1;32m    727\u001b[0m                 \u001b[0mmethod\u001b[0m\u001b[0;34m,\u001b[0m \u001b[0murl\u001b[0m\u001b[0;34m,\u001b[0m \u001b[0merror\u001b[0m\u001b[0;34m=\u001b[0m\u001b[0me\u001b[0m\u001b[0;34m,\u001b[0m \u001b[0m_pool\u001b[0m\u001b[0;34m=\u001b[0m\u001b[0mself\u001b[0m\u001b[0;34m,\u001b[0m \u001b[0m_stacktrace\u001b[0m\u001b[0;34m=\u001b[0m\u001b[0msys\u001b[0m\u001b[0;34m.\u001b[0m\u001b[0mexc_info\u001b[0m\u001b[0;34m(\u001b[0m\u001b[0;34m)\u001b[0m\u001b[0;34m[\u001b[0m\u001b[0;36m2\u001b[0m\u001b[0;34m]\u001b[0m\u001b[0;34m\u001b[0m\u001b[0;34m\u001b[0m\u001b[0m\n",
      "\u001b[0;32m/Users/anaconda3/lib/python3.8/site-packages/urllib3/util/retry.py\u001b[0m in \u001b[0;36mincrement\u001b[0;34m(self, method, url, response, error, _pool, _stacktrace)\u001b[0m\n\u001b[1;32m    409\u001b[0m             \u001b[0;32mif\u001b[0m \u001b[0mread\u001b[0m \u001b[0;32mis\u001b[0m \u001b[0;32mFalse\u001b[0m \u001b[0;32mor\u001b[0m \u001b[0;32mnot\u001b[0m \u001b[0mself\u001b[0m\u001b[0;34m.\u001b[0m\u001b[0m_is_method_retryable\u001b[0m\u001b[0;34m(\u001b[0m\u001b[0mmethod\u001b[0m\u001b[0;34m)\u001b[0m\u001b[0;34m:\u001b[0m\u001b[0;34m\u001b[0m\u001b[0;34m\u001b[0m\u001b[0m\n\u001b[0;32m--> 410\u001b[0;31m                 \u001b[0;32mraise\u001b[0m \u001b[0msix\u001b[0m\u001b[0;34m.\u001b[0m\u001b[0mreraise\u001b[0m\u001b[0;34m(\u001b[0m\u001b[0mtype\u001b[0m\u001b[0;34m(\u001b[0m\u001b[0merror\u001b[0m\u001b[0;34m)\u001b[0m\u001b[0;34m,\u001b[0m \u001b[0merror\u001b[0m\u001b[0;34m,\u001b[0m \u001b[0m_stacktrace\u001b[0m\u001b[0;34m)\u001b[0m\u001b[0;34m\u001b[0m\u001b[0;34m\u001b[0m\u001b[0m\n\u001b[0m\u001b[1;32m    411\u001b[0m             \u001b[0;32melif\u001b[0m \u001b[0mread\u001b[0m \u001b[0;32mis\u001b[0m \u001b[0;32mnot\u001b[0m \u001b[0;32mNone\u001b[0m\u001b[0;34m:\u001b[0m\u001b[0;34m\u001b[0m\u001b[0;34m\u001b[0m\u001b[0m\n",
      "\u001b[0;32m/Users/anaconda3/lib/python3.8/site-packages/urllib3/packages/six.py\u001b[0m in \u001b[0;36mreraise\u001b[0;34m(tp, value, tb)\u001b[0m\n\u001b[1;32m    733\u001b[0m             \u001b[0;32mif\u001b[0m \u001b[0mvalue\u001b[0m\u001b[0;34m.\u001b[0m\u001b[0m__traceback__\u001b[0m \u001b[0;32mis\u001b[0m \u001b[0;32mnot\u001b[0m \u001b[0mtb\u001b[0m\u001b[0;34m:\u001b[0m\u001b[0;34m\u001b[0m\u001b[0;34m\u001b[0m\u001b[0m\n\u001b[0;32m--> 734\u001b[0;31m                 \u001b[0;32mraise\u001b[0m \u001b[0mvalue\u001b[0m\u001b[0;34m.\u001b[0m\u001b[0mwith_traceback\u001b[0m\u001b[0;34m(\u001b[0m\u001b[0mtb\u001b[0m\u001b[0;34m)\u001b[0m\u001b[0;34m\u001b[0m\u001b[0;34m\u001b[0m\u001b[0m\n\u001b[0m\u001b[1;32m    735\u001b[0m             \u001b[0;32mraise\u001b[0m \u001b[0mvalue\u001b[0m\u001b[0;34m\u001b[0m\u001b[0;34m\u001b[0m\u001b[0m\n",
      "\u001b[0;32m/Users/anaconda3/lib/python3.8/site-packages/urllib3/connectionpool.py\u001b[0m in \u001b[0;36murlopen\u001b[0;34m(self, method, url, body, headers, retries, redirect, assert_same_host, timeout, pool_timeout, release_conn, chunked, body_pos, **response_kw)\u001b[0m\n\u001b[1;32m    669\u001b[0m             \u001b[0;31m# Make the request on the httplib connection object.\u001b[0m\u001b[0;34m\u001b[0m\u001b[0;34m\u001b[0m\u001b[0;34m\u001b[0m\u001b[0m\n\u001b[0;32m--> 670\u001b[0;31m             httplib_response = self._make_request(\n\u001b[0m\u001b[1;32m    671\u001b[0m                 \u001b[0mconn\u001b[0m\u001b[0;34m,\u001b[0m\u001b[0;34m\u001b[0m\u001b[0;34m\u001b[0m\u001b[0m\n",
      "\u001b[0;32m/Users/anaconda3/lib/python3.8/site-packages/urllib3/connectionpool.py\u001b[0m in \u001b[0;36m_make_request\u001b[0;34m(self, conn, method, url, timeout, chunked, **httplib_request_kw)\u001b[0m\n\u001b[1;32m    425\u001b[0m                     \u001b[0;31m# Otherwise it looks like a bug in the code.\u001b[0m\u001b[0;34m\u001b[0m\u001b[0;34m\u001b[0m\u001b[0;34m\u001b[0m\u001b[0m\n\u001b[0;32m--> 426\u001b[0;31m                     \u001b[0msix\u001b[0m\u001b[0;34m.\u001b[0m\u001b[0mraise_from\u001b[0m\u001b[0;34m(\u001b[0m\u001b[0me\u001b[0m\u001b[0;34m,\u001b[0m \u001b[0;32mNone\u001b[0m\u001b[0;34m)\u001b[0m\u001b[0;34m\u001b[0m\u001b[0;34m\u001b[0m\u001b[0m\n\u001b[0m\u001b[1;32m    427\u001b[0m         \u001b[0;32mexcept\u001b[0m \u001b[0;34m(\u001b[0m\u001b[0mSocketTimeout\u001b[0m\u001b[0;34m,\u001b[0m \u001b[0mBaseSSLError\u001b[0m\u001b[0;34m,\u001b[0m \u001b[0mSocketError\u001b[0m\u001b[0;34m)\u001b[0m \u001b[0;32mas\u001b[0m \u001b[0me\u001b[0m\u001b[0;34m:\u001b[0m\u001b[0;34m\u001b[0m\u001b[0;34m\u001b[0m\u001b[0m\n",
      "\u001b[0;32m/Users/anaconda3/lib/python3.8/site-packages/urllib3/packages/six.py\u001b[0m in \u001b[0;36mraise_from\u001b[0;34m(value, from_value)\u001b[0m\n",
      "\u001b[0;32m/Users/anaconda3/lib/python3.8/site-packages/urllib3/connectionpool.py\u001b[0m in \u001b[0;36m_make_request\u001b[0;34m(self, conn, method, url, timeout, chunked, **httplib_request_kw)\u001b[0m\n\u001b[1;32m    420\u001b[0m                 \u001b[0;32mtry\u001b[0m\u001b[0;34m:\u001b[0m\u001b[0;34m\u001b[0m\u001b[0;34m\u001b[0m\u001b[0m\n\u001b[0;32m--> 421\u001b[0;31m                     \u001b[0mhttplib_response\u001b[0m \u001b[0;34m=\u001b[0m \u001b[0mconn\u001b[0m\u001b[0;34m.\u001b[0m\u001b[0mgetresponse\u001b[0m\u001b[0;34m(\u001b[0m\u001b[0;34m)\u001b[0m\u001b[0;34m\u001b[0m\u001b[0;34m\u001b[0m\u001b[0m\n\u001b[0m\u001b[1;32m    422\u001b[0m                 \u001b[0;32mexcept\u001b[0m \u001b[0mBaseException\u001b[0m \u001b[0;32mas\u001b[0m \u001b[0me\u001b[0m\u001b[0;34m:\u001b[0m\u001b[0;34m\u001b[0m\u001b[0;34m\u001b[0m\u001b[0m\n",
      "\u001b[0;32m/Users/anaconda3/lib/python3.8/http/client.py\u001b[0m in \u001b[0;36mgetresponse\u001b[0;34m(self)\u001b[0m\n\u001b[1;32m   1346\u001b[0m             \u001b[0;32mtry\u001b[0m\u001b[0;34m:\u001b[0m\u001b[0;34m\u001b[0m\u001b[0;34m\u001b[0m\u001b[0m\n\u001b[0;32m-> 1347\u001b[0;31m                 \u001b[0mresponse\u001b[0m\u001b[0;34m.\u001b[0m\u001b[0mbegin\u001b[0m\u001b[0;34m(\u001b[0m\u001b[0;34m)\u001b[0m\u001b[0;34m\u001b[0m\u001b[0;34m\u001b[0m\u001b[0m\n\u001b[0m\u001b[1;32m   1348\u001b[0m             \u001b[0;32mexcept\u001b[0m \u001b[0mConnectionError\u001b[0m\u001b[0;34m:\u001b[0m\u001b[0;34m\u001b[0m\u001b[0;34m\u001b[0m\u001b[0m\n",
      "\u001b[0;32m/Users/anaconda3/lib/python3.8/http/client.py\u001b[0m in \u001b[0;36mbegin\u001b[0;34m(self)\u001b[0m\n\u001b[1;32m    306\u001b[0m         \u001b[0;32mwhile\u001b[0m \u001b[0;32mTrue\u001b[0m\u001b[0;34m:\u001b[0m\u001b[0;34m\u001b[0m\u001b[0;34m\u001b[0m\u001b[0m\n\u001b[0;32m--> 307\u001b[0;31m             \u001b[0mversion\u001b[0m\u001b[0;34m,\u001b[0m \u001b[0mstatus\u001b[0m\u001b[0;34m,\u001b[0m \u001b[0mreason\u001b[0m \u001b[0;34m=\u001b[0m \u001b[0mself\u001b[0m\u001b[0;34m.\u001b[0m\u001b[0m_read_status\u001b[0m\u001b[0;34m(\u001b[0m\u001b[0;34m)\u001b[0m\u001b[0;34m\u001b[0m\u001b[0;34m\u001b[0m\u001b[0m\n\u001b[0m\u001b[1;32m    308\u001b[0m             \u001b[0;32mif\u001b[0m \u001b[0mstatus\u001b[0m \u001b[0;34m!=\u001b[0m \u001b[0mCONTINUE\u001b[0m\u001b[0;34m:\u001b[0m\u001b[0;34m\u001b[0m\u001b[0;34m\u001b[0m\u001b[0m\n",
      "\u001b[0;32m/Users/anaconda3/lib/python3.8/http/client.py\u001b[0m in \u001b[0;36m_read_status\u001b[0;34m(self)\u001b[0m\n\u001b[1;32m    267\u001b[0m     \u001b[0;32mdef\u001b[0m \u001b[0m_read_status\u001b[0m\u001b[0;34m(\u001b[0m\u001b[0mself\u001b[0m\u001b[0;34m)\u001b[0m\u001b[0;34m:\u001b[0m\u001b[0;34m\u001b[0m\u001b[0;34m\u001b[0m\u001b[0m\n\u001b[0;32m--> 268\u001b[0;31m         \u001b[0mline\u001b[0m \u001b[0;34m=\u001b[0m \u001b[0mstr\u001b[0m\u001b[0;34m(\u001b[0m\u001b[0mself\u001b[0m\u001b[0;34m.\u001b[0m\u001b[0mfp\u001b[0m\u001b[0;34m.\u001b[0m\u001b[0mreadline\u001b[0m\u001b[0;34m(\u001b[0m\u001b[0m_MAXLINE\u001b[0m \u001b[0;34m+\u001b[0m \u001b[0;36m1\u001b[0m\u001b[0;34m)\u001b[0m\u001b[0;34m,\u001b[0m \u001b[0;34m\"iso-8859-1\"\u001b[0m\u001b[0;34m)\u001b[0m\u001b[0;34m\u001b[0m\u001b[0;34m\u001b[0m\u001b[0m\n\u001b[0m\u001b[1;32m    269\u001b[0m         \u001b[0;32mif\u001b[0m \u001b[0mlen\u001b[0m\u001b[0;34m(\u001b[0m\u001b[0mline\u001b[0m\u001b[0;34m)\u001b[0m \u001b[0;34m>\u001b[0m \u001b[0m_MAXLINE\u001b[0m\u001b[0;34m:\u001b[0m\u001b[0;34m\u001b[0m\u001b[0;34m\u001b[0m\u001b[0m\n",
      "\u001b[0;32m/Users/anaconda3/lib/python3.8/socket.py\u001b[0m in \u001b[0;36mreadinto\u001b[0;34m(self, b)\u001b[0m\n\u001b[1;32m    668\u001b[0m             \u001b[0;32mtry\u001b[0m\u001b[0;34m:\u001b[0m\u001b[0;34m\u001b[0m\u001b[0;34m\u001b[0m\u001b[0m\n\u001b[0;32m--> 669\u001b[0;31m                 \u001b[0;32mreturn\u001b[0m \u001b[0mself\u001b[0m\u001b[0;34m.\u001b[0m\u001b[0m_sock\u001b[0m\u001b[0;34m.\u001b[0m\u001b[0mrecv_into\u001b[0m\u001b[0;34m(\u001b[0m\u001b[0mb\u001b[0m\u001b[0;34m)\u001b[0m\u001b[0;34m\u001b[0m\u001b[0;34m\u001b[0m\u001b[0m\n\u001b[0m\u001b[1;32m    670\u001b[0m             \u001b[0;32mexcept\u001b[0m \u001b[0mtimeout\u001b[0m\u001b[0;34m:\u001b[0m\u001b[0;34m\u001b[0m\u001b[0;34m\u001b[0m\u001b[0m\n",
      "\u001b[0;31mProtocolError\u001b[0m: ('Connection aborted.', ConnectionResetError(54, 'Connection reset by peer'))",
      "\nDuring handling of the above exception, another exception occurred:\n",
      "\u001b[0;31mConnectionError\u001b[0m                           Traceback (most recent call last)",
      "\u001b[0;32m<ipython-input-42-fc1373f1dee2>\u001b[0m in \u001b[0;36m<module>\u001b[0;34m\u001b[0m\n\u001b[1;32m      1\u001b[0m \u001b[0mfight_list\u001b[0m \u001b[0;34m=\u001b[0m \u001b[0;34m[\u001b[0m\u001b[0;34m]\u001b[0m\u001b[0;34m\u001b[0m\u001b[0;34m\u001b[0m\u001b[0m\n\u001b[1;32m      2\u001b[0m \u001b[0;32mfor\u001b[0m \u001b[0mindex\u001b[0m\u001b[0;34m,\u001b[0m \u001b[0mlink\u001b[0m \u001b[0;32min\u001b[0m \u001b[0menumerate\u001b[0m\u001b[0;34m(\u001b[0m\u001b[0mfight_urls\u001b[0m\u001b[0;34m)\u001b[0m\u001b[0;34m:\u001b[0m\u001b[0;34m\u001b[0m\u001b[0;34m\u001b[0m\u001b[0m\n\u001b[0;32m----> 3\u001b[0;31m     \u001b[0minfo\u001b[0m \u001b[0;34m=\u001b[0m \u001b[0mget_fight_info\u001b[0m\u001b[0;34m(\u001b[0m\u001b[0mlink\u001b[0m\u001b[0;34m)\u001b[0m\u001b[0;34m\u001b[0m\u001b[0;34m\u001b[0m\u001b[0m\n\u001b[0m\u001b[1;32m      4\u001b[0m     \u001b[0mprint\u001b[0m\u001b[0;34m(\u001b[0m\u001b[0;34m\"====================================\"\u001b[0m \u001b[0;34m+\u001b[0m \u001b[0mstr\u001b[0m\u001b[0;34m(\u001b[0m\u001b[0mindex\u001b[0m\u001b[0;34m)\u001b[0m \u001b[0;34m+\u001b[0m \u001b[0;34m\"========================================\"\u001b[0m\u001b[0;34m)\u001b[0m\u001b[0;34m\u001b[0m\u001b[0;34m\u001b[0m\u001b[0m\n\u001b[1;32m      5\u001b[0m     \u001b[0mprint\u001b[0m\u001b[0;34m(\u001b[0m\u001b[0minfo\u001b[0m\u001b[0;34m)\u001b[0m\u001b[0;34m\u001b[0m\u001b[0;34m\u001b[0m\u001b[0m\n",
      "\u001b[0;32m<ipython-input-39-d013a67c5885>\u001b[0m in \u001b[0;36mget_fight_info\u001b[0;34m(url)\u001b[0m\n\u001b[1;32m     63\u001b[0m \u001b[0;32mdef\u001b[0m \u001b[0mget_fight_info\u001b[0m\u001b[0;34m(\u001b[0m\u001b[0murl\u001b[0m\u001b[0;34m)\u001b[0m\u001b[0;34m:\u001b[0m\u001b[0;34m\u001b[0m\u001b[0;34m\u001b[0m\u001b[0m\n\u001b[1;32m     64\u001b[0m     \u001b[0;34m\"\"\"Return dictionary with information about the fight\"\"\"\u001b[0m\u001b[0;34m\u001b[0m\u001b[0;34m\u001b[0m\u001b[0m\n\u001b[0;32m---> 65\u001b[0;31m     \u001b[0mr\u001b[0m \u001b[0;34m=\u001b[0m \u001b[0mrequests\u001b[0m\u001b[0;34m.\u001b[0m\u001b[0mget\u001b[0m\u001b[0;34m(\u001b[0m\u001b[0murl\u001b[0m\u001b[0;34m)\u001b[0m\u001b[0;34m\u001b[0m\u001b[0;34m\u001b[0m\u001b[0m\n\u001b[0m\u001b[1;32m     66\u001b[0m     \u001b[0msoup\u001b[0m \u001b[0;34m=\u001b[0m \u001b[0mBeautifulSoup\u001b[0m\u001b[0;34m(\u001b[0m\u001b[0mr\u001b[0m\u001b[0;34m.\u001b[0m\u001b[0mcontent\u001b[0m\u001b[0;34m)\u001b[0m\u001b[0;34m\u001b[0m\u001b[0;34m\u001b[0m\u001b[0m\n\u001b[1;32m     67\u001b[0m \u001b[0;34m\u001b[0m\u001b[0m\n",
      "\u001b[0;32m/Users/anaconda3/lib/python3.8/site-packages/requests/api.py\u001b[0m in \u001b[0;36mget\u001b[0;34m(url, params, **kwargs)\u001b[0m\n\u001b[1;32m     74\u001b[0m \u001b[0;34m\u001b[0m\u001b[0m\n\u001b[1;32m     75\u001b[0m     \u001b[0mkwargs\u001b[0m\u001b[0;34m.\u001b[0m\u001b[0msetdefault\u001b[0m\u001b[0;34m(\u001b[0m\u001b[0;34m'allow_redirects'\u001b[0m\u001b[0;34m,\u001b[0m \u001b[0;32mTrue\u001b[0m\u001b[0;34m)\u001b[0m\u001b[0;34m\u001b[0m\u001b[0;34m\u001b[0m\u001b[0m\n\u001b[0;32m---> 76\u001b[0;31m     \u001b[0;32mreturn\u001b[0m \u001b[0mrequest\u001b[0m\u001b[0;34m(\u001b[0m\u001b[0;34m'get'\u001b[0m\u001b[0;34m,\u001b[0m \u001b[0murl\u001b[0m\u001b[0;34m,\u001b[0m \u001b[0mparams\u001b[0m\u001b[0;34m=\u001b[0m\u001b[0mparams\u001b[0m\u001b[0;34m,\u001b[0m \u001b[0;34m**\u001b[0m\u001b[0mkwargs\u001b[0m\u001b[0;34m)\u001b[0m\u001b[0;34m\u001b[0m\u001b[0;34m\u001b[0m\u001b[0m\n\u001b[0m\u001b[1;32m     77\u001b[0m \u001b[0;34m\u001b[0m\u001b[0m\n\u001b[1;32m     78\u001b[0m \u001b[0;34m\u001b[0m\u001b[0m\n",
      "\u001b[0;32m/Users/anaconda3/lib/python3.8/site-packages/requests/api.py\u001b[0m in \u001b[0;36mrequest\u001b[0;34m(method, url, **kwargs)\u001b[0m\n\u001b[1;32m     59\u001b[0m     \u001b[0;31m# cases, and look like a memory leak in others.\u001b[0m\u001b[0;34m\u001b[0m\u001b[0;34m\u001b[0m\u001b[0;34m\u001b[0m\u001b[0m\n\u001b[1;32m     60\u001b[0m     \u001b[0;32mwith\u001b[0m \u001b[0msessions\u001b[0m\u001b[0;34m.\u001b[0m\u001b[0mSession\u001b[0m\u001b[0;34m(\u001b[0m\u001b[0;34m)\u001b[0m \u001b[0;32mas\u001b[0m \u001b[0msession\u001b[0m\u001b[0;34m:\u001b[0m\u001b[0;34m\u001b[0m\u001b[0;34m\u001b[0m\u001b[0m\n\u001b[0;32m---> 61\u001b[0;31m         \u001b[0;32mreturn\u001b[0m \u001b[0msession\u001b[0m\u001b[0;34m.\u001b[0m\u001b[0mrequest\u001b[0m\u001b[0;34m(\u001b[0m\u001b[0mmethod\u001b[0m\u001b[0;34m=\u001b[0m\u001b[0mmethod\u001b[0m\u001b[0;34m,\u001b[0m \u001b[0murl\u001b[0m\u001b[0;34m=\u001b[0m\u001b[0murl\u001b[0m\u001b[0;34m,\u001b[0m \u001b[0;34m**\u001b[0m\u001b[0mkwargs\u001b[0m\u001b[0;34m)\u001b[0m\u001b[0;34m\u001b[0m\u001b[0;34m\u001b[0m\u001b[0m\n\u001b[0m\u001b[1;32m     62\u001b[0m \u001b[0;34m\u001b[0m\u001b[0m\n\u001b[1;32m     63\u001b[0m \u001b[0;34m\u001b[0m\u001b[0m\n",
      "\u001b[0;32m/Users/anaconda3/lib/python3.8/site-packages/requests/sessions.py\u001b[0m in \u001b[0;36mrequest\u001b[0;34m(self, method, url, params, data, headers, cookies, files, auth, timeout, allow_redirects, proxies, hooks, stream, verify, cert, json)\u001b[0m\n\u001b[1;32m    528\u001b[0m         }\n\u001b[1;32m    529\u001b[0m         \u001b[0msend_kwargs\u001b[0m\u001b[0;34m.\u001b[0m\u001b[0mupdate\u001b[0m\u001b[0;34m(\u001b[0m\u001b[0msettings\u001b[0m\u001b[0;34m)\u001b[0m\u001b[0;34m\u001b[0m\u001b[0;34m\u001b[0m\u001b[0m\n\u001b[0;32m--> 530\u001b[0;31m         \u001b[0mresp\u001b[0m \u001b[0;34m=\u001b[0m \u001b[0mself\u001b[0m\u001b[0;34m.\u001b[0m\u001b[0msend\u001b[0m\u001b[0;34m(\u001b[0m\u001b[0mprep\u001b[0m\u001b[0;34m,\u001b[0m \u001b[0;34m**\u001b[0m\u001b[0msend_kwargs\u001b[0m\u001b[0;34m)\u001b[0m\u001b[0;34m\u001b[0m\u001b[0;34m\u001b[0m\u001b[0m\n\u001b[0m\u001b[1;32m    531\u001b[0m \u001b[0;34m\u001b[0m\u001b[0m\n\u001b[1;32m    532\u001b[0m         \u001b[0;32mreturn\u001b[0m \u001b[0mresp\u001b[0m\u001b[0;34m\u001b[0m\u001b[0;34m\u001b[0m\u001b[0m\n",
      "\u001b[0;32m/Users/anaconda3/lib/python3.8/site-packages/requests/sessions.py\u001b[0m in \u001b[0;36msend\u001b[0;34m(self, request, **kwargs)\u001b[0m\n\u001b[1;32m    641\u001b[0m \u001b[0;34m\u001b[0m\u001b[0m\n\u001b[1;32m    642\u001b[0m         \u001b[0;31m# Send the request\u001b[0m\u001b[0;34m\u001b[0m\u001b[0;34m\u001b[0m\u001b[0;34m\u001b[0m\u001b[0m\n\u001b[0;32m--> 643\u001b[0;31m         \u001b[0mr\u001b[0m \u001b[0;34m=\u001b[0m \u001b[0madapter\u001b[0m\u001b[0;34m.\u001b[0m\u001b[0msend\u001b[0m\u001b[0;34m(\u001b[0m\u001b[0mrequest\u001b[0m\u001b[0;34m,\u001b[0m \u001b[0;34m**\u001b[0m\u001b[0mkwargs\u001b[0m\u001b[0;34m)\u001b[0m\u001b[0;34m\u001b[0m\u001b[0;34m\u001b[0m\u001b[0m\n\u001b[0m\u001b[1;32m    644\u001b[0m \u001b[0;34m\u001b[0m\u001b[0m\n\u001b[1;32m    645\u001b[0m         \u001b[0;31m# Total elapsed time of the request (approximately)\u001b[0m\u001b[0;34m\u001b[0m\u001b[0;34m\u001b[0m\u001b[0;34m\u001b[0m\u001b[0m\n",
      "\u001b[0;32m/Users/anaconda3/lib/python3.8/site-packages/requests/adapters.py\u001b[0m in \u001b[0;36msend\u001b[0;34m(self, request, stream, timeout, verify, cert, proxies)\u001b[0m\n\u001b[1;32m    496\u001b[0m \u001b[0;34m\u001b[0m\u001b[0m\n\u001b[1;32m    497\u001b[0m         \u001b[0;32mexcept\u001b[0m \u001b[0;34m(\u001b[0m\u001b[0mProtocolError\u001b[0m\u001b[0;34m,\u001b[0m \u001b[0msocket\u001b[0m\u001b[0;34m.\u001b[0m\u001b[0merror\u001b[0m\u001b[0;34m)\u001b[0m \u001b[0;32mas\u001b[0m \u001b[0merr\u001b[0m\u001b[0;34m:\u001b[0m\u001b[0;34m\u001b[0m\u001b[0;34m\u001b[0m\u001b[0m\n\u001b[0;32m--> 498\u001b[0;31m             \u001b[0;32mraise\u001b[0m \u001b[0mConnectionError\u001b[0m\u001b[0;34m(\u001b[0m\u001b[0merr\u001b[0m\u001b[0;34m,\u001b[0m \u001b[0mrequest\u001b[0m\u001b[0;34m=\u001b[0m\u001b[0mrequest\u001b[0m\u001b[0;34m)\u001b[0m\u001b[0;34m\u001b[0m\u001b[0;34m\u001b[0m\u001b[0m\n\u001b[0m\u001b[1;32m    499\u001b[0m \u001b[0;34m\u001b[0m\u001b[0m\n\u001b[1;32m    500\u001b[0m         \u001b[0;32mexcept\u001b[0m \u001b[0mMaxRetryError\u001b[0m \u001b[0;32mas\u001b[0m \u001b[0me\u001b[0m\u001b[0;34m:\u001b[0m\u001b[0;34m\u001b[0m\u001b[0;34m\u001b[0m\u001b[0m\n",
      "\u001b[0;31mConnectionError\u001b[0m: ('Connection aborted.', ConnectionResetError(54, 'Connection reset by peer'))"
     ]
    }
   ],
   "source": [
    "fight_list = []\n",
    "for index, link in enumerate(fight_urls):\n",
    "    info = get_fight_info(link)\n",
    "    print(\"====================================\" + str(index) + \"========================================\")\n",
    "    print(info)\n",
    "    fight_list.append(info)\n"
   ]
  },
  {
   "cell_type": "code",
   "execution_count": 45,
   "metadata": {},
   "outputs": [
    {
     "output_type": "execute_result",
     "data": {
      "text/plain": [
       "{'Fight Type': 'Heavyweight Bout',\n",
       " 'Method:': 'Submission',\n",
       " 'Round:': '1',\n",
       " 'Time:': '4:48',\n",
       " 'Time format:': '3 Rnd (5-5-5)',\n",
       " 'Referee:': 'Herb Dean',\n",
       " 'Details': 'Forearm Choke From Half Guard',\n",
       " 'Winner': 'Alexandr Romanov',\n",
       " 'r_figher': 'Alexandr Romanov',\n",
       " 'b_figher': 'Marcos Rogerio de Lima',\n",
       " 'r_figher_sig_str': '6 of 7',\n",
       " 'b_figher_sig_str': '18 of 29',\n",
       " 'r_figher_sig_str %': '85%',\n",
       " 'b_figher_sig_str %': '62%',\n",
       " 'r_figher_total_str': '10 of 12',\n",
       " 'b_figher_total_str': '27 of 39'}"
      ]
     },
     "metadata": {},
     "execution_count": 45
    }
   ],
   "source": [
    "fight_list[-1]"
   ]
  },
  {
   "cell_type": "code",
   "execution_count": 52,
   "metadata": {},
   "outputs": [
    {
     "output_type": "execute_result",
     "data": {
      "text/plain": [
       "5986"
      ]
     },
     "metadata": {},
     "execution_count": 52
    }
   ],
   "source": [
    "len(fight_urls)"
   ]
  },
  {
   "cell_type": "code",
   "execution_count": null,
   "metadata": {},
   "outputs": [],
   "source": []
  }
 ]
}