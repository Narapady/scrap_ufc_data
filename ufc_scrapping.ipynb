{
 "metadata": {
  "language_info": {
   "codemirror_mode": {
    "name": "ipython",
    "version": 3
   },
   "file_extension": ".py",
   "mimetype": "text/x-python",
   "name": "python",
   "nbconvert_exporter": "python",
   "pygments_lexer": "ipython3",
   "version": "3.8.5"
  },
  "orig_nbformat": 2,
  "kernelspec": {
   "name": "python385jvsc74a57bd08c03d0fe320ba32e87ec146cf627d054e13fa481ad050a28b68cf8f09939554b",
   "display_name": "Python 3.8.5 64-bit (conda)"
  }
 },
 "nbformat": 4,
 "nbformat_minor": 2,
 "cells": [
  {
   "cell_type": "code",
   "execution_count": 2,
   "metadata": {},
   "outputs": [],
   "source": [
    "from bs4 import BeautifulSoup\n",
    "import requests"
   ]
  },
  {
   "source": [
    "### Task 1: Get all links to the each event"
   ],
   "cell_type": "markdown",
   "metadata": {}
  },
  {
   "cell_type": "code",
   "execution_count": 3,
   "metadata": {},
   "outputs": [],
   "source": [
    "base_url = 'http://www.ufcstats.com./statistics/events/completed'\n",
    "all_urls = [base_url + f\"?page={i}\" for i in range(2,23)]\n",
    "all_urls.insert(0,base_url)"
   ]
  },
  {
   "cell_type": "code",
   "execution_count": 4,
   "metadata": {},
   "outputs": [
    {
     "output_type": "execute_result",
     "data": {
      "text/plain": [
       "['http://www.ufcstats.com/event-details/d57e6a8971b6d2bd',\n",
       " 'http://www.ufcstats.com/event-details/27541033b97c076d',\n",
       " 'http://www.ufcstats.com/event-details/4a35913bd9aa4161',\n",
       " 'http://www.ufcstats.com/event-details/9114c8ded5ccd71d',\n",
       " 'http://www.ufcstats.com/event-details/6597b611f1c32555',\n",
       " 'http://www.ufcstats.com/event-details/c36e1f4fa755ffb4',\n",
       " 'http://www.ufcstats.com/event-details/8c90c1563972e44d',\n",
       " 'http://www.ufcstats.com/event-details/6e2b1d631832921d',\n",
       " 'http://www.ufcstats.com/event-details/81b57acd6975ac06',\n",
       " 'http://www.ufcstats.com/event-details/bfe95ec546692b13']"
      ]
     },
     "metadata": {},
     "execution_count": 4
    }
   ],
   "source": [
    "def get_links_event(urls):\n",
    "    \"\"\" Return each link to the UFC events\"\"\"\n",
    "    links = []\n",
    "    for url in urls:\n",
    "        r = requests.get(url)\n",
    "        soup = BeautifulSoup(r.content)\n",
    "        info_rows = soup.find_all('tr', class_='b-statistics__table-row')[2:]\n",
    "    \n",
    "        for row in info_rows:\n",
    "            link = row.find('a')['href']\n",
    "            links.append(link)\n",
    "    return links\n",
    "\n",
    "event_urls = get_links_event(all_urls)\n",
    "event_urls[:10]"
   ]
  },
  {
   "source": [
    "### Task 2: Get information from each event"
   ],
   "cell_type": "markdown",
   "metadata": {}
  },
  {
   "cell_type": "code",
   "execution_count": 5,
   "metadata": {
    "tags": []
   },
   "outputs": [],
   "source": [
    "def get_links_fight(urls):\n",
    "    \"\"\"Return each link to the fight detail\"\"\"\n",
    "    links = []\n",
    "    for url in urls:\n",
    "        r = requests.get(url)\n",
    "        soup = BeautifulSoup(r.content)\n",
    "        table = soup.find('table', class_='b-fight-details__table')\n",
    "        rows = table.find_all('tr')\n",
    "        for row in rows[1:]:\n",
    "            links.append(row['data-link'])\n",
    "    return links\n",
    "\n",
    "fight_urls = get_links_fight(event_urls)"
   ]
  },
  {
   "cell_type": "code",
   "execution_count": 66,
   "metadata": {},
   "outputs": [
    {
     "output_type": "execute_result",
     "data": {
      "text/plain": [
       "{'Fight Type': 'Featherweight Bout',\n",
       " 'Method:': 'KO/TKO',\n",
       " 'Round:': '1',\n",
       " 'Time:': '1:03',\n",
       " 'Time format:': '3 Rnd (5-5-5)',\n",
       " 'Referee:': 'Jason Herzog',\n",
       " 'Details': 'Kick to Body At Distance',\n",
       " 'Winner': 'Giga Chikadze',\n",
       " 'r_figher': 'Giga Chikadze',\n",
       " 'b_figher': 'Cub Swanson',\n",
       " 'r_figher_sig_str': '12 of 18',\n",
       " 'b_figher_sig_str': '4 of 6',\n",
       " 'r_figher_sig_str %': '66%',\n",
       " 'b_figher_sig_str %': '66%',\n",
       " 'r_figher_total_str': '12 of 18',\n",
       " 'b_figher_total_str': '4 of 6'}"
      ]
     },
     "metadata": {},
     "execution_count": 66
    }
   ],
   "source": [
    "link = fight_urls[1]\n",
    "def get_info_box(soup_obj):\n",
    "    \"\"\"Return a dictinary about the information box (method, round,time,referee,and detail)\"\"\"\n",
    "    my_dict = {}\n",
    "    ## get info box\n",
    "    fight_title = soup_obj.find('div', class_='b-fight-details__fight-head').get_text(strip=True)\n",
    "    my_dict['Fight Type'] = fight_title\n",
    "    box = soup_obj.find('p', class_='b-fight-details__text')\n",
    "    method = box.find_all(class_='b-fight-details__text-item_first')\n",
    "    method = method[0].get_text('\\n', strip=True).split('\\n')\n",
    "    my_dict[method[0]] = method[1]\n",
    "    content = box.find_all(class_='b-fight-details__text-item')\n",
    "    for item in content:\n",
    "        pair = item.get_text('\\n', strip=True).split('\\n')\n",
    "        my_dict[pair[0]] = pair[1]\n",
    "    detail = box.find_next_sibling(\"p\").get_text(strip=True).split(':')\n",
    "    my_dict[detail[0]] = detail[1]\n",
    "    \n",
    "    return my_dict\n",
    "\n",
    "def get_fight_detail(soup_obj):\n",
    "    \"\"\"Return a dictionary about fight details (fighter's names, significant strike\"\"\"\n",
    "    my_dict = {}\n",
    "    table = soup_obj.find('tbody', class_='b-fight-details__table-body')\n",
    "    info = table.select('.b-fight-details__table-col')\n",
    "    index = [0,2,3,4]\n",
    "    info = [info[i].get_text('\\n',strip=True) for i in index]\n",
    "    \n",
    "    # Red and blue figters\n",
    "    fighters = info[0].split('\\n')\n",
    "    my_dict['r_figher'] = fighters[0]\n",
    "    my_dict['b_figher'] = fighters[1]\n",
    "\n",
    "    # significant strike\n",
    "    sig_str = info[1].split('\\n')\n",
    "    my_dict['r_figher_sig_str'] = sig_str[0]\n",
    "    my_dict['b_figher_sig_str'] = sig_str[1]\n",
    "\n",
    "    # significant strik percentage\n",
    "    sig_str_pct = info[2].split('\\n')\n",
    "    my_dict['r_figher_sig_str %'] = sig_str_pct[0]\n",
    "    my_dict['b_figher_sig_str %'] = sig_str_pct[1]\n",
    "\n",
    "    # total strike\n",
    "    total_str = info[3].split('\\n')\n",
    "    my_dict['r_figher_total_str'] = total_str[0]\n",
    "    my_dict['b_figher_total_str'] = total_str[1]\n",
    "\n",
    "    return my_dict\n",
    "\n",
    "def merge(dict1,dict2):\n",
    "    \"\"\"Merge two dictionaries\"\"\"\n",
    "    res = {**dict1, **dict2}\n",
    "    return res\n",
    "\n",
    "def get_fight_info(url):\n",
    "    \"\"\"Return dictionary with information about the fight\"\"\"\n",
    "    r = requests.get(url)\n",
    "    soup = BeautifulSoup(r.content)\n",
    "    \n",
    "    # get info box\n",
    "    dict_list = get_info_box(soup)\n",
    "    # get the winner\n",
    "    winner = soup.find('i', class_='b-fight-details__person-status_style_green')\n",
    "    winner = winner.find_next('div', class_='b-fight-details__person-text')\n",
    "    winner = winner.find('a').get_text(strip=True)\n",
    "    dict_list['Winner'] = winner\n",
    "\n",
    "    # get fight info\n",
    "    fight_info = get_fight_detail(soup)\n",
    "    new_dict = merge(dict_list, fight_info)\n",
    "    return new_dict\n",
    "\n",
    "\n",
    "get_fight_info(link)"
   ]
  },
  {
   "cell_type": "code",
   "execution_count": 70,
   "metadata": {},
   "outputs": [
    {
     "output_type": "stream",
     "name": "stdout",
     "text": [
      "{'Fight Type': 'Light Heavyweight Bout', 'Method:': 'KO/TKO', 'Round:': '2', 'Time:': '4:29', 'Time format:': '5 Rnd (5-5-5-5-5)', 'Referee:': 'Herb Dean', 'Details': 'Elbow to Head At Distance\\n      Spinning Back Elbow', 'Winner': 'Jiri Prochazka', 'r_figher': 'Dominick Reyes', 'b_figher': 'Jiri Prochazka', 'r_figher_sig_str': '63 of 108', 'b_figher_sig_str': '77 of 136', 'r_figher_sig_str %': '58%', 'b_figher_sig_str %': '56%', 'r_figher_total_str': '68 of 114', 'b_figher_total_str': '78 of 137'}\n",
      "{'Fight Type': 'Featherweight Bout', 'Method:': 'KO/TKO', 'Round:': '1', 'Time:': '1:03', 'Time format:': '3 Rnd (5-5-5)', 'Referee:': 'Jason Herzog', 'Details': 'Kick to Body At Distance', 'Winner': 'Giga Chikadze', 'r_figher': 'Giga Chikadze', 'b_figher': 'Cub Swanson', 'r_figher_sig_str': '12 of 18', 'b_figher_sig_str': '4 of 6', 'r_figher_sig_str %': '66%', 'b_figher_sig_str %': '66%', 'r_figher_total_str': '12 of 18', 'b_figher_total_str': '4 of 6'}\n"
     ]
    },
    {
     "output_type": "error",
     "ename": "AttributeError",
     "evalue": "'NoneType' object has no attribute 'find_next'",
     "traceback": [
      "\u001b[0;31m---------------------------------------------------------------------------\u001b[0m",
      "\u001b[0;31mAttributeError\u001b[0m                            Traceback (most recent call last)",
      "\u001b[0;32m<ipython-input-70-d1833b9e60f6>\u001b[0m in \u001b[0;36m<module>\u001b[0;34m\u001b[0m\n\u001b[1;32m      1\u001b[0m \u001b[0mfight_list\u001b[0m \u001b[0;34m=\u001b[0m \u001b[0;34m[\u001b[0m\u001b[0;34m]\u001b[0m\u001b[0;34m\u001b[0m\u001b[0;34m\u001b[0m\u001b[0m\n\u001b[1;32m      2\u001b[0m \u001b[0;32mfor\u001b[0m \u001b[0mlink\u001b[0m \u001b[0;32min\u001b[0m \u001b[0mfight_urls\u001b[0m\u001b[0;34m:\u001b[0m\u001b[0;34m\u001b[0m\u001b[0;34m\u001b[0m\u001b[0m\n\u001b[0;32m----> 3\u001b[0;31m     \u001b[0minfo\u001b[0m \u001b[0;34m=\u001b[0m \u001b[0mget_fight_info\u001b[0m\u001b[0;34m(\u001b[0m\u001b[0mlink\u001b[0m\u001b[0;34m)\u001b[0m\u001b[0;34m\u001b[0m\u001b[0;34m\u001b[0m\u001b[0m\n\u001b[0m\u001b[1;32m      4\u001b[0m     \u001b[0mprint\u001b[0m\u001b[0;34m(\u001b[0m\u001b[0minfo\u001b[0m\u001b[0;34m)\u001b[0m\u001b[0;34m\u001b[0m\u001b[0;34m\u001b[0m\u001b[0m\n\u001b[1;32m      5\u001b[0m     \u001b[0mfight_list\u001b[0m\u001b[0;34m.\u001b[0m\u001b[0mappend\u001b[0m\u001b[0;34m(\u001b[0m\u001b[0minfo\u001b[0m\u001b[0;34m)\u001b[0m\u001b[0;34m\u001b[0m\u001b[0;34m\u001b[0m\u001b[0m\n",
      "\u001b[0;32m<ipython-input-66-e12277f5edfd>\u001b[0m in \u001b[0;36mget_fight_info\u001b[0;34m(url)\u001b[0m\n\u001b[1;32m     63\u001b[0m     \u001b[0;31m# get the winner\u001b[0m\u001b[0;34m\u001b[0m\u001b[0;34m\u001b[0m\u001b[0;34m\u001b[0m\u001b[0m\n\u001b[1;32m     64\u001b[0m     \u001b[0mwinner\u001b[0m \u001b[0;34m=\u001b[0m \u001b[0msoup\u001b[0m\u001b[0;34m.\u001b[0m\u001b[0mfind\u001b[0m\u001b[0;34m(\u001b[0m\u001b[0;34m'i'\u001b[0m\u001b[0;34m,\u001b[0m \u001b[0mclass_\u001b[0m\u001b[0;34m=\u001b[0m\u001b[0;34m'b-fight-details__person-status_style_green'\u001b[0m\u001b[0;34m)\u001b[0m\u001b[0;34m\u001b[0m\u001b[0;34m\u001b[0m\u001b[0m\n\u001b[0;32m---> 65\u001b[0;31m     \u001b[0mwinner\u001b[0m \u001b[0;34m=\u001b[0m \u001b[0mwinner\u001b[0m\u001b[0;34m.\u001b[0m\u001b[0mfind_next\u001b[0m\u001b[0;34m(\u001b[0m\u001b[0;34m'div'\u001b[0m\u001b[0;34m,\u001b[0m \u001b[0mclass_\u001b[0m\u001b[0;34m=\u001b[0m\u001b[0;34m'b-fight-details__person-text'\u001b[0m\u001b[0;34m)\u001b[0m\u001b[0;34m\u001b[0m\u001b[0;34m\u001b[0m\u001b[0m\n\u001b[0m\u001b[1;32m     66\u001b[0m     \u001b[0mwinner\u001b[0m \u001b[0;34m=\u001b[0m \u001b[0mwinner\u001b[0m\u001b[0;34m.\u001b[0m\u001b[0mfind\u001b[0m\u001b[0;34m(\u001b[0m\u001b[0;34m'a'\u001b[0m\u001b[0;34m)\u001b[0m\u001b[0;34m.\u001b[0m\u001b[0mget_text\u001b[0m\u001b[0;34m(\u001b[0m\u001b[0mstrip\u001b[0m\u001b[0;34m=\u001b[0m\u001b[0;32mTrue\u001b[0m\u001b[0;34m)\u001b[0m\u001b[0;34m\u001b[0m\u001b[0;34m\u001b[0m\u001b[0m\n\u001b[1;32m     67\u001b[0m     \u001b[0mdict_list\u001b[0m\u001b[0;34m[\u001b[0m\u001b[0;34m'Winner'\u001b[0m\u001b[0;34m]\u001b[0m \u001b[0;34m=\u001b[0m \u001b[0mwinner\u001b[0m\u001b[0;34m\u001b[0m\u001b[0;34m\u001b[0m\u001b[0m\n",
      "\u001b[0;31mAttributeError\u001b[0m: 'NoneType' object has no attribute 'find_next'"
     ]
    }
   ],
   "source": [
    "fight_list = []\n",
    "for link in fight_urls:\n",
    "    info = get_fight_info(link)\n",
    "    print(info)\n",
    "    fight_list.append(info)\n"
   ]
  },
  {
   "cell_type": "code",
   "execution_count": null,
   "metadata": {},
   "outputs": [],
   "source": []
  }
 ]
}