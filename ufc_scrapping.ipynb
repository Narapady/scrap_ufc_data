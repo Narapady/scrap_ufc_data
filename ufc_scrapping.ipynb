{
 "metadata": {
  "language_info": {
   "codemirror_mode": {
    "name": "ipython",
    "version": 3
   },
   "file_extension": ".py",
   "mimetype": "text/x-python",
   "name": "python",
   "nbconvert_exporter": "python",
   "pygments_lexer": "ipython3",
   "version": "3.8.5"
  },
  "orig_nbformat": 2,
  "kernelspec": {
   "name": "python385jvsc74a57bd08c03d0fe320ba32e87ec146cf627d054e13fa481ad050a28b68cf8f09939554b",
   "display_name": "Python 3.8.5 64-bit (conda)"
  }
 },
 "nbformat": 4,
 "nbformat_minor": 2,
 "cells": [
  {
   "cell_type": "code",
   "execution_count": 21,
   "metadata": {},
   "outputs": [],
   "source": [
    "from bs4 import BeautifulSoup\n",
    "import requests"
   ]
  },
  {
   "source": [
    "### Task 1: Get all links to the each event"
   ],
   "cell_type": "markdown",
   "metadata": {}
  },
  {
   "cell_type": "code",
   "execution_count": 30,
   "metadata": {},
   "outputs": [
    {
     "output_type": "execute_result",
     "data": {
      "text/plain": [
       "['http://www.ufcstats.com./statistics/events/completed',\n",
       " 'http://www.ufcstats.com./statistics/events/completed?page=2',\n",
       " 'http://www.ufcstats.com./statistics/events/completed?page=3',\n",
       " 'http://www.ufcstats.com./statistics/events/completed?page=4',\n",
       " 'http://www.ufcstats.com./statistics/events/completed?page=5',\n",
       " 'http://www.ufcstats.com./statistics/events/completed?page=6',\n",
       " 'http://www.ufcstats.com./statistics/events/completed?page=7',\n",
       " 'http://www.ufcstats.com./statistics/events/completed?page=8',\n",
       " 'http://www.ufcstats.com./statistics/events/completed?page=9',\n",
       " 'http://www.ufcstats.com./statistics/events/completed?page=10',\n",
       " 'http://www.ufcstats.com./statistics/events/completed?page=11',\n",
       " 'http://www.ufcstats.com./statistics/events/completed?page=12',\n",
       " 'http://www.ufcstats.com./statistics/events/completed?page=13',\n",
       " 'http://www.ufcstats.com./statistics/events/completed?page=14',\n",
       " 'http://www.ufcstats.com./statistics/events/completed?page=15',\n",
       " 'http://www.ufcstats.com./statistics/events/completed?page=16',\n",
       " 'http://www.ufcstats.com./statistics/events/completed?page=17',\n",
       " 'http://www.ufcstats.com./statistics/events/completed?page=18',\n",
       " 'http://www.ufcstats.com./statistics/events/completed?page=19',\n",
       " 'http://www.ufcstats.com./statistics/events/completed?page=20',\n",
       " 'http://www.ufcstats.com./statistics/events/completed?page=21',\n",
       " 'http://www.ufcstats.com./statistics/events/completed?page=22']"
      ]
     },
     "metadata": {},
     "execution_count": 30
    }
   ],
   "source": [
    "base_url = 'http://www.ufcstats.com./statistics/events/completed'\n",
    "all_urls = [base_url + f\"?page={i}\" for i in range(2,23)]\n",
    "all_urls.insert(0,base_url)\n",
    "all_urls"
   ]
  },
  {
   "cell_type": "code",
   "execution_count": 31,
   "metadata": {},
   "outputs": [
    {
     "output_type": "execute_result",
     "data": {
      "text/plain": [
       "['http://www.ufcstats.com/event-details/d57e6a8971b6d2bd',\n",
       " 'http://www.ufcstats.com/event-details/27541033b97c076d',\n",
       " 'http://www.ufcstats.com/event-details/4a35913bd9aa4161',\n",
       " 'http://www.ufcstats.com/event-details/9114c8ded5ccd71d',\n",
       " 'http://www.ufcstats.com/event-details/6597b611f1c32555',\n",
       " 'http://www.ufcstats.com/event-details/c36e1f4fa755ffb4',\n",
       " 'http://www.ufcstats.com/event-details/8c90c1563972e44d',\n",
       " 'http://www.ufcstats.com/event-details/6e2b1d631832921d',\n",
       " 'http://www.ufcstats.com/event-details/81b57acd6975ac06',\n",
       " 'http://www.ufcstats.com/event-details/bfe95ec546692b13']"
      ]
     },
     "metadata": {},
     "execution_count": 31
    }
   ],
   "source": [
    "def get_links_event(urls):\n",
    "    \"\"\" Return each link to the UFC events\"\"\"\n",
    "    links = []\n",
    "    for url in urls:\n",
    "        r = requests.get(url)\n",
    "        soup = BeautifulSoup(r.content)\n",
    "        info_rows = soup.find_all('tr', class_='b-statistics__table-row')[2:]\n",
    "    \n",
    "        for row in info_rows:\n",
    "            link = row.find('a')['href']\n",
    "            links.append(link)\n",
    "    return links\n",
    "even_links = get_links_event(all_urls)\n",
    "even_links[:10]"
   ]
  },
  {
   "source": [
    "### Task 2: Get information from each event"
   ],
   "cell_type": "markdown",
   "metadata": {}
  },
  {
   "cell_type": "code",
   "execution_count": 32,
   "metadata": {
    "tags": []
   },
   "outputs": [
    {
     "output_type": "execute_result",
     "data": {
      "text/plain": [
       "['http://www.ufcstats.com/fight-details/394802bb096b403e',\n",
       " 'http://www.ufcstats.com/fight-details/2f82e8079ba354f4',\n",
       " 'http://www.ufcstats.com/fight-details/ec8d93ae99a7799d',\n",
       " 'http://www.ufcstats.com/fight-details/ffd8e8575a551875',\n",
       " 'http://www.ufcstats.com/fight-details/26202a4bd36d3fd2',\n",
       " 'http://www.ufcstats.com/fight-details/c9c79de21823d941',\n",
       " 'http://www.ufcstats.com/fight-details/d72f9b3ac742a9e3',\n",
       " 'http://www.ufcstats.com/fight-details/2ef09c8fe29251ac',\n",
       " 'http://www.ufcstats.com/fight-details/d6b5a6ad27a730ae',\n",
       " 'http://www.ufcstats.com/fight-details/78dc032441394331']"
      ]
     },
     "metadata": {},
     "execution_count": 32
    }
   ],
   "source": [
    "def get_links_fight(urls):\n",
    "    \"\"\"Return each link to the fight detail\"\"\"\n",
    "    links = []\n",
    "    for url in urls:\n",
    "        r = requests.get(url)\n",
    "        soup = BeautifulSoup(r.content)\n",
    "        table = soup.find('table', class_='b-fight-details__table')\n",
    "        rows = table.find_all('tr')\n",
    "        for row in rows[1:]:\n",
    "            links.append(row['data-link'])\n",
    "    return links\n",
    "fight_links = get_links_fight(even_links)\n",
    "fight_links[:10]"
   ]
  },
  {
   "source": [
    "### Task 3: Create dictionary of data for each fight"
   ],
   "cell_type": "markdown",
   "metadata": {}
  },
  {
   "cell_type": "code",
   "execution_count": 33,
   "metadata": {},
   "outputs": [],
   "source": [
    "def get_info_box(soup_obj):\n",
    "    \"\"\"Return a dictinary about the information box (method, round,time,referee,and detail)\"\"\"\n",
    "    my_dict = {}\n",
    "    \n",
    "    # get info box\n",
    "    fight_title = soup_obj.find('div', class_='b-fight-details__fight-head').get_text(strip=True)\n",
    "    my_dict['Fight Type'] = fight_title\n",
    "    box = soup_obj.find('p', class_='b-fight-details__text')\n",
    "    method = box.find_all(class_='b-fight-details__text-item_first')\n",
    "    method = method[0].get_text('\\n', strip=True).split('\\n')\n",
    "    if len(method) >=2:\n",
    "        my_dict[method[0]] = method[1]\n",
    "    \n",
    "    # get the rest of content of info box \n",
    "    content = box.find_all(class_='b-fight-details__text-item')\n",
    "    for item in content:\n",
    "        pair = item.get_text('\\n', strip=True).split('\\n')\n",
    "        if len(pair) >= 2:\n",
    "            my_dict[pair[0]] = pair[1]\n",
    "        else:\n",
    "            my_dict[pair[0]] = None\n",
    "    detail = box.find_next_sibling(\"p\").get_text(strip=True).split(':')\n",
    "    my_dict[detail[0]] = detail[1]\n",
    "    \n",
    "    return my_dict\n",
    "\n",
    "def get_fight_detail(soup_obj):\n",
    "    \"\"\"Return a dictionary about fight details (fighter's names, significant strike\"\"\"\n",
    "    my_dict = {}\n",
    "    table = soup_obj.find('tbody', class_='b-fight-details__table-body')\n",
    "    info = table.select('.b-fight-details__table-col')\n",
    "    index = [0,2,3,4]\n",
    "    info = [info[i].get_text('\\n',strip=True) for i in index]\n",
    "    \n",
    "    # Red and blue figters\n",
    "    fighters = info[0].split('\\n')\n",
    "    my_dict['r_figher'] = fighters[0]\n",
    "    my_dict['b_figher'] = fighters[1]\n",
    "\n",
    "    # significant strike\n",
    "    sig_str = info[1].split('\\n')\n",
    "    my_dict['r_figher_sig_str'] = sig_str[0]\n",
    "    my_dict['b_figher_sig_str'] = sig_str[1]\n",
    "\n",
    "    # significant strik percentage\n",
    "    sig_str_pct = info[2].split('\\n')\n",
    "    my_dict['r_figher_sig_str %'] = sig_str_pct[0]\n",
    "    my_dict['b_figher_sig_str %'] = sig_str_pct[1]\n",
    "\n",
    "    # total strike\n",
    "    total_str = info[3].split('\\n')\n",
    "    my_dict['r_figher_total_str'] = total_str[0]\n",
    "    my_dict['b_figher_total_str'] = total_str[1]\n",
    "\n",
    "    return my_dict\n",
    "\n",
    "def merge(dict1,dict2):\n",
    "    \"\"\"Merge two dictionaries\"\"\"\n",
    "    res = {**dict1, **dict2}\n",
    "    return res\n",
    "\n",
    "def get_fight_info(url):\n",
    "    \"\"\"Return dictionary with information about the fight\"\"\"\n",
    "    r = requests.get(url)\n",
    "    soup = BeautifulSoup(r.content)\n",
    "    \n",
    "    # get info box\n",
    "    dict_list = get_info_box(soup)\n",
    "    # get the winner\n",
    "    winner = soup.find('i', class_='b-fight-details__person-status_style_green')\n",
    "    if winner is not None:\n",
    "        winner = winner.find_next('div', class_='b-fight-details__person-text')\n",
    "        winner = winner.find('a').get_text(strip=True)\n",
    "        dict_list['Winner'] = winner\n",
    "    else:\n",
    "        dict_list['Winner'] = 'draw'\n",
    "\n",
    "    # get fight info\n",
    "    fight_info = get_fight_detail(soup)\n",
    "    new_dict = merge(dict_list, fight_info)\n",
    "    return new_dict"
   ]
  },
  {
   "cell_type": "code",
   "execution_count": null,
   "metadata": {},
   "outputs": [],
   "source": []
  }
 ]
}