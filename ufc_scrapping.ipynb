{
 "metadata": {
  "language_info": {
   "codemirror_mode": {
    "name": "ipython",
    "version": 3
   },
   "file_extension": ".py",
   "mimetype": "text/x-python",
   "name": "python",
   "nbconvert_exporter": "python",
   "pygments_lexer": "ipython3",
   "version": "3.8.5"
  },
  "orig_nbformat": 2,
  "kernelspec": {
   "name": "python385jvsc74a57bd08c03d0fe320ba32e87ec146cf627d054e13fa481ad050a28b68cf8f09939554b",
   "display_name": "Python 3.8.5 64-bit (conda)"
  }
 },
 "nbformat": 4,
 "nbformat_minor": 2,
 "cells": [
  {
   "cell_type": "code",
   "execution_count": 1,
   "metadata": {},
   "outputs": [],
   "source": [
    "from bs4 import BeautifulSoup\n",
    "import requests"
   ]
  },
  {
   "source": [
    "### Get all urls"
   ],
   "cell_type": "markdown",
   "metadata": {}
  },
  {
   "cell_type": "code",
   "execution_count": 48,
   "metadata": {},
   "outputs": [],
   "source": [
    "base_url = 'http://www.ufcstats.com./statistics/events/completed'\n",
    "all_urls = [base_url + f\"?page={i}\" for i in range(2,23)]\n",
    "all_urls.insert(0,base_url)"
   ]
  },
  {
   "cell_type": "code",
   "execution_count": 51,
   "metadata": {},
   "outputs": [
    {
     "output_type": "execute_result",
     "data": {
      "text/plain": [
       "['http://www.ufcstats.com/event-details/d57e6a8971b6d2bd',\n",
       " 'http://www.ufcstats.com/event-details/27541033b97c076d',\n",
       " 'http://www.ufcstats.com/event-details/4a35913bd9aa4161',\n",
       " 'http://www.ufcstats.com/event-details/9114c8ded5ccd71d',\n",
       " 'http://www.ufcstats.com/event-details/6597b611f1c32555',\n",
       " 'http://www.ufcstats.com/event-details/c36e1f4fa755ffb4',\n",
       " 'http://www.ufcstats.com/event-details/8c90c1563972e44d',\n",
       " 'http://www.ufcstats.com/event-details/6e2b1d631832921d',\n",
       " 'http://www.ufcstats.com/event-details/81b57acd6975ac06',\n",
       " 'http://www.ufcstats.com/event-details/bfe95ec546692b13']"
      ]
     },
     "metadata": {},
     "execution_count": 51
    }
   ],
   "source": [
    "def get_links_event(urls):\n",
    "    \"\"\" Return each link to the UFC events\"\"\"\n",
    "    links = []\n",
    "    for url in urls:\n",
    "        r = requests.get(url)\n",
    "        soup = BeautifulSoup(r.content)\n",
    "        info_rows = soup.find_all('tr', class_='b-statistics__table-row')[2:]\n",
    "    \n",
    "        for row in info_rows:\n",
    "            link = row.find('a')['href']\n",
    "            links.append(link)\n",
    "    return links\n",
    "\n",
    "event_urls = get_links_event(all_urls)\n",
    "event_urls[:10]"
   ]
  },
  {
   "cell_type": "code",
   "execution_count": null,
   "metadata": {},
   "outputs": [],
   "source": []
  }
 ]
}