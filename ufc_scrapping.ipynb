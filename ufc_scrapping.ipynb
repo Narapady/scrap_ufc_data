{
 "metadata": {
  "language_info": {
   "codemirror_mode": {
    "name": "ipython",
    "version": 3
   },
   "file_extension": ".py",
   "mimetype": "text/x-python",
   "name": "python",
   "nbconvert_exporter": "python",
   "pygments_lexer": "ipython3",
   "version": "3.8.5"
  },
  "orig_nbformat": 2,
  "kernelspec": {
   "name": "python385jvsc74a57bd08c03d0fe320ba32e87ec146cf627d054e13fa481ad050a28b68cf8f09939554b",
   "display_name": "Python 3.8.5 64-bit (conda)"
  }
 },
 "nbformat": 4,
 "nbformat_minor": 2,
 "cells": [
  {
   "cell_type": "code",
   "execution_count": 1,
   "metadata": {},
   "outputs": [],
   "source": [
    "from bs4 import BeautifulSoup\n",
    "import requests"
   ]
  },
  {
   "source": [
    "### Task 1: Get all links to the each event"
   ],
   "cell_type": "markdown",
   "metadata": {}
  },
  {
   "cell_type": "code",
   "execution_count": 2,
   "metadata": {},
   "outputs": [],
   "source": [
    "base_url = 'http://www.ufcstats.com./statistics/events/completed'\n",
    "all_urls = [base_url + f\"?page={i}\" for i in range(2,23)]\n",
    "all_urls.insert(0,base_url)"
   ]
  },
  {
   "cell_type": "code",
   "execution_count": 3,
   "metadata": {},
   "outputs": [
    {
     "output_type": "execute_result",
     "data": {
      "text/plain": [
       "['http://www.ufcstats.com/event-details/d57e6a8971b6d2bd',\n",
       " 'http://www.ufcstats.com/event-details/27541033b97c076d',\n",
       " 'http://www.ufcstats.com/event-details/4a35913bd9aa4161',\n",
       " 'http://www.ufcstats.com/event-details/9114c8ded5ccd71d',\n",
       " 'http://www.ufcstats.com/event-details/6597b611f1c32555',\n",
       " 'http://www.ufcstats.com/event-details/c36e1f4fa755ffb4',\n",
       " 'http://www.ufcstats.com/event-details/8c90c1563972e44d',\n",
       " 'http://www.ufcstats.com/event-details/6e2b1d631832921d',\n",
       " 'http://www.ufcstats.com/event-details/81b57acd6975ac06',\n",
       " 'http://www.ufcstats.com/event-details/bfe95ec546692b13']"
      ]
     },
     "metadata": {},
     "execution_count": 3
    }
   ],
   "source": [
    "def get_links_event(urls):\n",
    "    \"\"\" Return each link to the UFC events\"\"\"\n",
    "    links = []\n",
    "    for url in urls:\n",
    "        r = requests.get(url)\n",
    "        soup = BeautifulSoup(r.content)\n",
    "        info_rows = soup.find_all('tr', class_='b-statistics__table-row')[2:]\n",
    "    \n",
    "        for row in info_rows:\n",
    "            link = row.find('a')['href']\n",
    "            links.append(link)\n",
    "    return links\n",
    "\n",
    "event_urls = get_links_event(all_urls)\n",
    "event_urls[:10]"
   ]
  },
  {
   "source": [
    "### Task 2: Get information from each event"
   ],
   "cell_type": "markdown",
   "metadata": {}
  },
  {
   "cell_type": "code",
   "execution_count": 24,
   "metadata": {
    "tags": []
   },
   "outputs": [],
   "source": [
    "def get_links_fight(urls):\n",
    "    \"\"\"Return each link to the fight detail\"\"\"\n",
    "    links = []\n",
    "    for url in urls:\n",
    "        r = requests.get(url)\n",
    "        soup = BeautifulSoup(r.content)\n",
    "        table = soup.find('table', class_='b-fight-details__table')\n",
    "        rows = table.find_all('tr')\n",
    "        for row in rows[1:]:\n",
    "            links.append(row['data-link'])\n",
    "    return links\n",
    "\n",
    "fight_urls = get_links_fight(event_urls)"
   ]
  },
  {
   "cell_type": "code",
   "execution_count": 64,
   "metadata": {},
   "outputs": [
    {
     "output_type": "execute_result",
     "data": {
      "text/plain": [
       "[<i class=\"b-fight-details__text-item_first\">\n",
       " <i class=\"b-fight-details__label\">\n",
       "           Method:\n",
       " \n",
       "         </i>\n",
       " <i style=\"font-style: normal\"> KO/TKO </i>\n",
       " </i>,\n",
       " <i class=\"b-fight-details__label\">\n",
       "           Method:\n",
       " \n",
       "         </i>,\n",
       " <i style=\"font-style: normal\"> KO/TKO </i>,\n",
       " <i class=\"b-fight-details__text-item\">\n",
       " <i class=\"b-fight-details__label\">\n",
       "           Round:\n",
       "         </i>\n",
       "         2\n",
       "       </i>,\n",
       " <i class=\"b-fight-details__label\">\n",
       "           Round:\n",
       "         </i>,\n",
       " <i class=\"b-fight-details__text-item\">\n",
       " <i class=\"b-fight-details__label\">\n",
       "           Time:\n",
       "         </i>\n",
       "         4:29\n",
       " \n",
       "       </i>,\n",
       " <i class=\"b-fight-details__label\">\n",
       "           Time:\n",
       "         </i>,\n",
       " <i class=\"b-fight-details__text-item\">\n",
       " <i class=\"b-fight-details__label\">\n",
       "           Time format:\n",
       "         </i>\n",
       "         5 Rnd (5-5-5-5-5)\n",
       "       </i>,\n",
       " <i class=\"b-fight-details__label\">\n",
       "           Time format:\n",
       "         </i>,\n",
       " <i class=\"b-fight-details__text-item\">\n",
       " <i class=\"b-fight-details__label\">\n",
       "           Referee:\n",
       "         </i>\n",
       " <span class=\"\">\n",
       "                                 Herb Dean\n",
       "                             </span>\n",
       " </i>,\n",
       " <i class=\"b-fight-details__label\">\n",
       "           Referee:\n",
       "         </i>]"
      ]
     },
     "metadata": {},
     "execution_count": 64
    }
   ],
   "source": [
    "link = fight_urls[0]\n",
    "def get_data(url):\n",
    "    r = requests.get(url)\n",
    "    soup = BeautifulSoup(r.content)\n",
    "    dict = {}\n",
    "\n",
    "    ## get the winner\n",
    "    winner = soup.find('i', class_='b-fight-details__person-status_style_green')\n",
    "    winner = winner.find_next('div', class_='b-fight-details__person-text')\n",
    "    winner = winner.find('a').get_text(strip=True)\n",
    "    dict['winner'] = winner\n",
    "\n",
    "    ## get info\n",
    "    fight_title = soup.find('div', class_='b-fight-details__fight-head').get_text(strip=True)\n",
    "    dict['fight_type'] = fight_title\n",
    "    box = soup.find('p', class_='b-fight-details__text')\n",
    "    content = box.select('i')\n",
    "\n",
    "\n",
    "    return content\n",
    "\n",
    "\n",
    "get_data(link)"
   ]
  },
  {
   "cell_type": "code",
   "execution_count": null,
   "metadata": {},
   "outputs": [],
   "source": []
  }
 ]
}