{
 "metadata": {
  "language_info": {
   "codemirror_mode": {
    "name": "ipython",
    "version": 3
   },
   "file_extension": ".py",
   "mimetype": "text/x-python",
   "name": "python",
   "nbconvert_exporter": "python",
   "pygments_lexer": "ipython3",
   "version": "3.8.5"
  },
  "orig_nbformat": 2,
  "kernelspec": {
   "name": "python385jvsc74a57bd08c03d0fe320ba32e87ec146cf627d054e13fa481ad050a28b68cf8f09939554b",
   "display_name": "Python 3.8.5 64-bit (conda)"
  }
 },
 "nbformat": 4,
 "nbformat_minor": 2,
 "cells": [
  {
   "cell_type": "code",
   "execution_count": 21,
   "metadata": {},
   "outputs": [],
   "source": [
    "from bs4 import BeautifulSoup\n",
    "import requests"
   ]
  },
  {
   "source": [
    "### Task 1: Get all links to the each event"
   ],
   "cell_type": "markdown",
   "metadata": {}
  },
  {
   "cell_type": "code",
   "execution_count": 30,
   "metadata": {},
   "outputs": [
    {
     "output_type": "execute_result",
     "data": {
      "text/plain": [
       "['http://www.ufcstats.com./statistics/events/completed',\n",
       " 'http://www.ufcstats.com./statistics/events/completed?page=2',\n",
       " 'http://www.ufcstats.com./statistics/events/completed?page=3',\n",
       " 'http://www.ufcstats.com./statistics/events/completed?page=4',\n",
       " 'http://www.ufcstats.com./statistics/events/completed?page=5',\n",
       " 'http://www.ufcstats.com./statistics/events/completed?page=6',\n",
       " 'http://www.ufcstats.com./statistics/events/completed?page=7',\n",
       " 'http://www.ufcstats.com./statistics/events/completed?page=8',\n",
       " 'http://www.ufcstats.com./statistics/events/completed?page=9',\n",
       " 'http://www.ufcstats.com./statistics/events/completed?page=10',\n",
       " 'http://www.ufcstats.com./statistics/events/completed?page=11',\n",
       " 'http://www.ufcstats.com./statistics/events/completed?page=12',\n",
       " 'http://www.ufcstats.com./statistics/events/completed?page=13',\n",
       " 'http://www.ufcstats.com./statistics/events/completed?page=14',\n",
       " 'http://www.ufcstats.com./statistics/events/completed?page=15',\n",
       " 'http://www.ufcstats.com./statistics/events/completed?page=16',\n",
       " 'http://www.ufcstats.com./statistics/events/completed?page=17',\n",
       " 'http://www.ufcstats.com./statistics/events/completed?page=18',\n",
       " 'http://www.ufcstats.com./statistics/events/completed?page=19',\n",
       " 'http://www.ufcstats.com./statistics/events/completed?page=20',\n",
       " 'http://www.ufcstats.com./statistics/events/completed?page=21',\n",
       " 'http://www.ufcstats.com./statistics/events/completed?page=22']"
      ]
     },
     "metadata": {},
     "execution_count": 30
    }
   ],
   "source": [
    "base_url = 'http://www.ufcstats.com./statistics/events/completed'\n",
    "all_urls = [base_url + f\"?page={i}\" for i in range(2,23)]\n",
    "all_urls.insert(0,base_url)\n",
    "all_urls"
   ]
  },
  {
   "cell_type": "code",
   "execution_count": 31,
   "metadata": {},
   "outputs": [
    {
     "output_type": "execute_result",
     "data": {
      "text/plain": [
       "['http://www.ufcstats.com/event-details/d57e6a8971b6d2bd',\n",
       " 'http://www.ufcstats.com/event-details/27541033b97c076d',\n",
       " 'http://www.ufcstats.com/event-details/4a35913bd9aa4161',\n",
       " 'http://www.ufcstats.com/event-details/9114c8ded5ccd71d',\n",
       " 'http://www.ufcstats.com/event-details/6597b611f1c32555',\n",
       " 'http://www.ufcstats.com/event-details/c36e1f4fa755ffb4',\n",
       " 'http://www.ufcstats.com/event-details/8c90c1563972e44d',\n",
       " 'http://www.ufcstats.com/event-details/6e2b1d631832921d',\n",
       " 'http://www.ufcstats.com/event-details/81b57acd6975ac06',\n",
       " 'http://www.ufcstats.com/event-details/bfe95ec546692b13']"
      ]
     },
     "metadata": {},
     "execution_count": 31
    }
   ],
   "source": [
    "def get_links_event(urls):\n",
    "    \"\"\" Return each link to the UFC events\"\"\"\n",
    "    links = []\n",
    "    for url in urls:\n",
    "        r = requests.get(url)\n",
    "        soup = BeautifulSoup(r.content)\n",
    "        info_rows = soup.find_all('tr', class_='b-statistics__table-row')[2:]\n",
    "    \n",
    "        for row in info_rows:\n",
    "            link = row.find('a')['href']\n",
    "            links.append(link)\n",
    "    return links\n",
    "even_links = get_links_event(all_urls)\n",
    "even_links[:10]"
   ]
  },
  {
   "source": [
    "### Task 2: Get information from each event"
   ],
   "cell_type": "markdown",
   "metadata": {}
  },
  {
   "cell_type": "code",
   "execution_count": 32,
   "metadata": {
    "tags": []
   },
   "outputs": [
    {
     "output_type": "execute_result",
     "data": {
      "text/plain": [
       "['http://www.ufcstats.com/fight-details/394802bb096b403e',\n",
       " 'http://www.ufcstats.com/fight-details/2f82e8079ba354f4',\n",
       " 'http://www.ufcstats.com/fight-details/ec8d93ae99a7799d',\n",
       " 'http://www.ufcstats.com/fight-details/ffd8e8575a551875',\n",
       " 'http://www.ufcstats.com/fight-details/26202a4bd36d3fd2',\n",
       " 'http://www.ufcstats.com/fight-details/c9c79de21823d941',\n",
       " 'http://www.ufcstats.com/fight-details/d72f9b3ac742a9e3',\n",
       " 'http://www.ufcstats.com/fight-details/2ef09c8fe29251ac',\n",
       " 'http://www.ufcstats.com/fight-details/d6b5a6ad27a730ae',\n",
       " 'http://www.ufcstats.com/fight-details/78dc032441394331']"
      ]
     },
     "metadata": {},
     "execution_count": 32
    }
   ],
   "source": [
    "def get_links_fight(urls):\n",
    "    \"\"\"Return each link to the fight detail\"\"\"\n",
    "    links = []\n",
    "    for url in urls:\n",
    "        r = requests.get(url)\n",
    "        soup = BeautifulSoup(r.content)\n",
    "        table = soup.find('table', class_='b-fight-details__table')\n",
    "        rows = table.find_all('tr')\n",
    "        for row in rows[1:]:\n",
    "            links.append(row['data-link'])\n",
    "    return links\n",
    "fight_links = get_links_fight(even_links)\n",
    "fight_links[:10]"
   ]
  },
  {
   "source": [
    "### Task 3: Create dictionary of data for each fight"
   ],
   "cell_type": "markdown",
   "metadata": {}
  },
  {
   "cell_type": "code",
   "execution_count": 33,
   "metadata": {},
   "outputs": [],
   "source": [
    "def get_info_box(soup_obj):\n",
    "    \"\"\"Return a dictinary about the information box (method, round,time,referee,and detail)\"\"\"\n",
    "    my_dict = {}\n",
    "    \n",
    "    # get info box\n",
    "    fight_title = soup_obj.find('div', class_='b-fight-details__fight-head').get_text(strip=True)\n",
    "    my_dict['Fight Type'] = fight_title\n",
    "    box = soup_obj.find('p', class_='b-fight-details__text')\n",
    "    method = box.find_all(class_='b-fight-details__text-item_first')\n",
    "    method = method[0].get_text('\\n', strip=True).split('\\n')\n",
    "    if len(method) >=2:\n",
    "        my_dict[method[0]] = method[1]\n",
    "    \n",
    "    # get the rest of content of info box \n",
    "    content = box.find_all(class_='b-fight-details__text-item')\n",
    "    for item in content:\n",
    "        pair = item.get_text('\\n', strip=True).split('\\n')\n",
    "        if len(pair) >= 2:\n",
    "            my_dict[pair[0]] = pair[1]\n",
    "        else:\n",
    "            my_dict[pair[0]] = None\n",
    "    detail = box.find_next_sibling(\"p\").get_text(strip=True).split(':')\n",
    "    my_dict[detail[0]] = detail[1]\n",
    "    \n",
    "    return my_dict\n",
    "\n",
    "def get_fight_detail(soup_obj):\n",
    "    \"\"\"Return a dictionary about fight details (fighter's names, significant strike\"\"\"\n",
    "    my_dict = {}\n",
    "    table = soup_obj.find('tbody', class_='b-fight-details__table-body')\n",
    "    info = table.select('.b-fight-details__table-col')\n",
    "    index = [0,2,3,4]\n",
    "    info = [info[i].get_text('\\n',strip=True) for i in index]\n",
    "    \n",
    "    # Red and blue figters\n",
    "    fighters = info[0].split('\\n')\n",
    "    my_dict['r_figher'] = fighters[0]\n",
    "    my_dict['b_figher'] = fighters[1]\n",
    "\n",
    "    # significant strike\n",
    "    sig_str = info[1].split('\\n')\n",
    "    my_dict['r_figher_sig_str'] = sig_str[0]\n",
    "    my_dict['b_figher_sig_str'] = sig_str[1]\n",
    "\n",
    "    # significant strik percentage\n",
    "    sig_str_pct = info[2].split('\\n')\n",
    "    my_dict['r_figher_sig_str %'] = sig_str_pct[0]\n",
    "    my_dict['b_figher_sig_str %'] = sig_str_pct[1]\n",
    "\n",
    "    # total strike\n",
    "    total_str = info[3].split('\\n')\n",
    "    my_dict['r_figher_total_str'] = total_str[0]\n",
    "    my_dict['b_figher_total_str'] = total_str[1]\n",
    "\n",
    "    return my_dict\n",
    "\n",
    "def merge(dict1,dict2):\n",
    "    \"\"\"Merge two dictionaries\"\"\"\n",
    "    res = {**dict1, **dict2}\n",
    "    return res\n",
    "\n",
    "def get_fight_info(url):\n",
    "    \"\"\"Return dictionary with information about the fight\"\"\"\n",
    "    r = requests.get(url)\n",
    "    soup = BeautifulSoup(r.content)\n",
    "    \n",
    "    # get info box\n",
    "    dict_list = get_info_box(soup)\n",
    "    # get the winner\n",
    "    winner = soup.find('i', class_='b-fight-details__person-status_style_green')\n",
    "    if winner is not None:\n",
    "        winner = winner.find_next('div', class_='b-fight-details__person-text')\n",
    "        winner = winner.find('a').get_text(strip=True)\n",
    "        dict_list['Winner'] = winner\n",
    "    else:\n",
    "        dict_list['Winner'] = 'draw'\n",
    "\n",
    "    # get fight info\n",
    "    fight_info = get_fight_detail(soup)\n",
    "    new_dict = merge(dict_list, fight_info)\n",
    "    return new_dict"
   ]
  },
  {
   "cell_type": "code",
   "execution_count": 34,
   "metadata": {
    "tags": [
     "outputPrepend"
    ]
   },
   "outputs": [
    {
     "output_type": "stream",
     "name": "stdout",
     "text": [
      "hod:': 'Submission', 'Round:': '3', 'Time:': '0:28', 'Time format:': '5 Rnd (5-5-5-5-5)', 'Referee:': 'Mike Beltran', 'Details': 'Guillotine Choke After Drop to Half Guard', 'Winner': 'Charles Oliveira', 'r_figher': 'Kevin Lee', 'b_figher': 'Charles Oliveira', 'r_figher_sig_str': '41 of 80', 'b_figher_sig_str': '43 of 65', 'r_figher_sig_str %': '51%', 'b_figher_sig_str %': '66%', 'r_figher_total_str': '61 of 100', 'b_figher_total_str': '51 of 73'}\n",
      "===================535=====================\n",
      "{'Fight Type': 'Welterweight Bout', 'Method:': 'KO/TKO', 'Round:': '1', 'Time:': '2:34', 'Time format:': '3 Rnd (5-5-5)', 'Referee:': 'Osiris Maia', 'Details': 'Punch to Head At Distance', 'Winner': 'Gilbert Burns', 'r_figher': 'Demian Maia', 'b_figher': 'Gilbert Burns', 'r_figher_sig_str': '4 of 7', 'b_figher_sig_str': '13 of 16', 'r_figher_sig_str %': '57%', 'b_figher_sig_str %': '81%', 'r_figher_total_str': '4 of 7', 'b_figher_total_str': '14 of 17'}\n",
      "===================536=====================\n",
      "{'Fight Type': 'Lightweight Bout', 'Method:': 'Submission', 'Round:': '1', 'Time:': '0:44', 'Time format:': '3 Rnd (5-5-5)', 'Referee:': 'Eduardo Herdy', 'Details': 'Rear Naked Choke', 'Winner': 'Renato Moicano', 'r_figher': 'Renato Moicano', 'b_figher': 'Damir Hadzovic', 'r_figher_sig_str': '1 of 2', 'b_figher_sig_str': '1 of 5', 'r_figher_sig_str %': '50%', 'b_figher_sig_str %': '20%', 'r_figher_total_str': '4 of 5', 'b_figher_total_str': '1 of 5'}\n",
      "===================537=====================\n",
      "{'Fight Type': 'Light Heavyweight Bout', 'Method:': 'Decision - Unanimous', 'Round:': '3', 'Time:': '5:00', 'Time format:': '3 Rnd (5-5-5)', 'Referee:': 'Mike Beltran', 'Details': \"Joseph Terrell27 - 30.Sal D'amato28 - 29.Mike Bell28 - 29.\", 'Winner': 'Nikita Krylov', 'r_figher': 'Johnny Walker', 'b_figher': 'Nikita Krylov', 'r_figher_sig_str': '37 of 50', 'b_figher_sig_str': '45 of 58', 'r_figher_sig_str %': '74%', 'b_figher_sig_str %': '77%', 'r_figher_total_str': '91 of 112', 'b_figher_total_str': '128 of 148'}\n",
      "===================538=====================\n",
      "{'Fight Type': 'Lightweight Bout', 'Method:': 'Decision - Unanimous', 'Round:': '3', 'Time:': '5:00', 'Time format:': '3 Rnd (5-5-5)', 'Referee:': 'Osiris Maia', 'Details': \"Sal D'amato27 - 30.Joseph Terrell27 - 30.Mike Bell28 - 29.\", 'Winner': 'Francisco Trinaldo', 'r_figher': 'Francisco Trinaldo', 'b_figher': 'John Makdessi', 'r_figher_sig_str': '55 of 126', 'b_figher_sig_str': '67 of 123', 'r_figher_sig_str %': '43%', 'b_figher_sig_str %': '54%', 'r_figher_total_str': '55 of 126', 'b_figher_total_str': '68 of 124'}\n",
      "===================539=====================\n",
      "{'Fight Type': 'Flyweight Bout', 'Method:': 'Decision - Unanimous', 'Round:': '3', 'Time:': '5:00', 'Time format:': '3 Rnd (5-5-5)', 'Referee:': 'Eduardo Herdy', 'Details': \"Guilherme Bravo27 - 30.Sal D'amato28 - 29.Hallison Pontes28 - 29.\", 'Winner': 'Brandon Moreno', 'r_figher': 'Jussier Formiga', 'b_figher': 'Brandon Moreno', 'r_figher_sig_str': '15 of 32', 'b_figher_sig_str': '33 of 82', 'r_figher_sig_str %': '46%', 'b_figher_sig_str %': '40%', 'r_figher_total_str': '61 of 81', 'b_figher_total_str': '94 of 147'}\n",
      "===================540=====================\n",
      "{'Fight Type': \"Women's Strawweight Bout\", 'Method:': 'Decision - Unanimous', 'Round:': '3', 'Time:': '5:00', 'Time format:': '3 Rnd (5-5-5)', 'Referee:': 'Camila Albuquerque', 'Details': 'Mike Bell26 - 30.Hallison Pontes25 - 30.Joseph Terrell25 - 30.', 'Winner': 'Amanda Ribas', 'r_figher': 'Amanda Ribas', 'b_figher': 'Randa Markos', 'r_figher_sig_str': '85 of 159', 'b_figher_sig_str': '36 of 77', 'r_figher_sig_str %': '53%', 'b_figher_sig_str %': '46%', 'r_figher_total_str': '173 of 254', 'b_figher_total_str': '56 of 99'}\n",
      "===================541=====================\n",
      "{'Fight Type': 'Welterweight Bout', 'Method:': 'Decision - Unanimous', 'Round:': '3', 'Time:': '5:00', 'Time format:': '3 Rnd (5-5-5)', 'Referee:': 'Osiris Maia', 'Details': \"Sal D'amato28 - 29.Joseph Terrell28 - 29.Guilherme Bravo28 - 29.\", 'Winner': 'Elizeu Zaleski dos Santos', 'r_figher': 'Elizeu Zaleski dos Santos', 'b_figher': 'Aleksei Kunchenko', 'r_figher_sig_str': '62 of 156', 'b_figher_sig_str': '57 of 112', 'r_figher_sig_str %': '39%', 'b_figher_sig_str %': '50%', 'r_figher_total_str': '74 of 169', 'b_figher_total_str': '97 of 156'}\n",
      "===================542=====================\n",
      "{'Fight Type': 'Bantamweight Bout', 'Method:': 'Decision - Majority', 'Round:': '3', 'Time:': '5:00', 'Time format:': '3 Rnd (5-5-5)', 'Referee:': 'Julio Catarino', 'Details': \"Sal D'amato28 - 29.Hallison Pontes28 - 28.Guilherme Bravo28 - 28.\", 'Winner': 'draw', 'r_figher': 'Rani Yahya', 'b_figher': 'Enrique Barzola', 'r_figher_sig_str': '24 of 45', 'b_figher_sig_str': '57 of 86', 'r_figher_sig_str %': '53%', 'b_figher_sig_str %': '66%', 'r_figher_total_str': '58 of 83', 'b_figher_total_str': '148 of 187'}\n",
      "===================543=====================\n",
      "{'Fight Type': \"Women's Flyweight Bout\", 'Method:': 'Decision - Unanimous', 'Round:': '3', 'Time:': '5:00', 'Time format:': '3 Rnd (5-5-5)', 'Referee:': 'Camila Albuquerque', 'Details': \"Sal D'amato28 - 29.Joseph Terrell28 - 29.Mike Bell28 - 29.\", 'Winner': 'Maryna Moroz', 'r_figher': 'Mayra Bueno Silva', 'b_figher': 'Maryna Moroz', 'r_figher_sig_str': '88 of 146', 'b_figher_sig_str': '139 of 247', 'r_figher_sig_str %': '60%', 'b_figher_sig_str %': '56%', 'r_figher_total_str': '92 of 150', 'b_figher_total_str': '176 of 298'}\n",
      "===================544=====================\n",
      "{'Fight Type': 'Flyweight Bout', 'Method:': 'Decision - Unanimous', 'Round:': '3', 'Time:': '5:00', 'Time format:': '3 Rnd (5-5-5)', 'Referee:': 'Julio Catarino', 'Details': 'Mike Bell28 - 29.Hallison Pontes28 - 29.Guilherme Bravo28 - 29.', 'Winner': 'David Dvorak', 'r_figher': 'Bruno Silva', 'b_figher': 'David Dvorak', 'r_figher_sig_str': '45 of 97', 'b_figher_sig_str': '67 of 133', 'r_figher_sig_str %': '46%', 'b_figher_sig_str %': '50%', 'r_figher_total_str': '60 of 112', 'b_figher_total_str': '92 of 161'}\n",
      "===================545=====================\n",
      "{'Fight Type': \"Women's Bantamweight Bout\", 'Method:': 'Decision - Unanimous', 'Round:': '3', 'Time:': '5:00', 'Time format:': '3 Rnd (5-5-5)', 'Referee:': 'Mike Beltran', 'Details': \"Sal D'amato28 - 29.Joseph Terrell28 - 29.Hallison Pontes28 - 29.\", 'Winner': 'Bea Malecki', 'r_figher': 'Veronica Macedo', 'b_figher': 'Bea Malecki', 'r_figher_sig_str': '93 of 258', 'b_figher_sig_str': '130 of 247', 'r_figher_sig_str %': '36%', 'b_figher_sig_str %': '52%', 'r_figher_total_str': '106 of 271', 'b_figher_total_str': '190 of 326'}\n",
      "===================546=====================\n",
      "{'Fight Type': 'UFC Middleweight Title Bout', 'Method:': 'Decision - Unanimous', 'Round:': '5', 'Time:': '5:00', 'Time format:': '5 Rnd (5-5-5-5-5)', 'Referee:': 'Dan Miragliotta', 'Details': \"Chris Lee46 - 49.Sal D'amato47 - 48.Ron McCarthy47 - 48.\", 'Winner': 'Israel Adesanya', 'r_figher': 'Israel Adesanya', 'b_figher': 'Yoel Romero', 'r_figher_sig_str': '48 of 132', 'b_figher_sig_str': '40 of 89', 'r_figher_sig_str %': '36%', 'b_figher_sig_str %': '44%', 'r_figher_total_str': '48 of 132', 'b_figher_total_str': '40 of 89'}\n",
      "===================547=====================\n",
      "{'Fight Type': \"UFC Women's Strawweight Title Bout\", 'Method:': 'Decision - Split', 'Round:': '5', 'Time:': '5:00', 'Time format:': '5 Rnd (5-5-5-5-5)', 'Referee:': 'Keith Peterson', 'Details': 'Mike Bell47 - 48.Eric Colon48 - 47.Derek Cleary47 - 48.', 'Winner': 'Zhang Weili', 'r_figher': 'Zhang Weili', 'b_figher': 'Joanna Jedrzejczyk', 'r_figher_sig_str': '165 of 408', 'b_figher_sig_str': '186 of 360', 'r_figher_sig_str %': '40%', 'b_figher_sig_str %': '51%', 'r_figher_total_str': '170 of 413', 'b_figher_total_str': '196 of 370'}\n",
      "===================548=====================\n",
      "{'Fight Type': 'Lightweight Bout', 'Method:': 'KO/TKO', 'Round:': '2', 'Time:': '1:00', 'Time format:': '3 Rnd (5-5-5)', 'Referee:': 'Jason Herzog', 'Details': 'Punch to Head At Distance', 'Winner': 'Beneil Dariush', 'r_figher': 'Beneil Dariush', 'b_figher': 'Drakkar Klose', 'r_figher_sig_str': '12 of 20', 'b_figher_sig_str': '15 of 25', 'r_figher_sig_str %': '60%', 'b_figher_sig_str %': '60%', 'r_figher_total_str': '17 of 28', 'b_figher_total_str': '27 of 37'}\n",
      "===================549=====================\n",
      "{'Fight Type': 'Welterweight Bout', 'Method:': 'Decision - Unanimous', 'Round:': '3', 'Time:': '5:00', 'Time format:': '3 Rnd (5-5-5)', 'Referee:': 'Keith Peterson', 'Details': 'Derek Cleary27 - 30.Eric Colon27 - 30.Junichiro Kamijo27 - 30.', 'Winner': 'Neil Magny', 'r_figher': 'Neil Magny', 'b_figher': 'Li Jingliang', 'r_figher_sig_str': '74 of 139', 'b_figher_sig_str': '16 of 62', 'r_figher_sig_str %': '53%', 'b_figher_sig_str %': '25%', 'r_figher_total_str': '123 of 188', 'b_figher_total_str': '16 of 65'}\n",
      "===================550=====================\n",
      "{'Fight Type': 'Welterweight Bout', 'Method:': 'Decision - Split', 'Round:': '3', 'Time:': '5:00', 'Time format:': '3 Rnd (5-5-5)', 'Referee:': 'Mark Smith', 'Details': \"Chris Lee28 - 29.Sal D'amato29 - 28.Dave Hagen28 - 29.\", 'Winner': 'Alex Oliveira', 'r_figher': 'Alex Oliveira', 'b_figher': 'Max Griffin', 'r_figher_sig_str': '40 of 77', 'b_figher_sig_str': '23 of 50', 'r_figher_sig_str %': '51%', 'b_figher_sig_str %': '46%', 'r_figher_total_str': '61 of 98', 'b_figher_total_str': '62 of 96'}\n",
      "===================551=====================\n",
      "{'Fight Type': 'Bantamweight Bout', 'Method:': 'KO/TKO', 'Round:': '1', 'Time:': '2:02', 'Time format:': '3 Rnd (5-5-5)', 'Referee:': 'Dan Miragliotta', 'Details': 'Punches to Head On Ground', 'Winner': \"Sean O'Malley\", 'r_figher': \"Sean O'Malley\", 'b_figher': 'Jose Quinonez', 'r_figher_sig_str': '18 of 22', 'b_figher_sig_str': '0 of 11', 'r_figher_sig_str %': '81%', 'b_figher_sig_str %': '0%', 'r_figher_total_str': '18 of 22', 'b_figher_total_str': '0 of 11'}\n",
      "===================552=====================\n",
      "{'Fight Type': 'Lightweight Bout', 'Method:': 'Decision - Unanimous', 'Round:': '3', 'Time:': '5:00', 'Time format:': '3 Rnd (5-5-5)', 'Referee:': 'Chris Tognoni', 'Details': 'Eric Colon28 - 29.Dave Hagen28 - 29.Ron McCarthy28 - 29.', 'Winner': 'Mark Madsen', 'r_figher': 'Mark Madsen', 'b_figher': 'Austin Hubbard', 'r_figher_sig_str': '15 of 58', 'b_figher_sig_str': '41 of 75', 'r_figher_sig_str %': '25%', 'b_figher_sig_str %': '54%', 'r_figher_total_str': '20 of 65', 'b_figher_total_str': '45 of 79'}\n",
      "===================553=====================\n",
      "{'Fight Type': 'Middleweight Bout', 'Method:': 'Submission', 'Round:': '1', 'Time:': '2:58', 'Time format:': '3 Rnd (5-5-5)', 'Referee:': 'Jason Herzog', 'Details': 'Arm Triangle From Mount', 'Winner': 'Rodolfo Vieira', 'r_figher': 'Rodolfo Vieira', 'b_figher': 'Saparbeg Safarov', 'r_figher_sig_str': '5 of 10', 'b_figher_sig_str': '5 of 10', 'r_figher_sig_str %': '50%', 'b_figher_sig_str %': '50%', 'r_figher_total_str': '10 of 15', 'b_figher_total_str': '7 of 12'}\n",
      "===================554=====================\n",
      "{'Fight Type': 'Middleweight Bout', 'Method:': 'Submission', 'Round:': '3', 'Time:': '2:13', 'Time format:': '3 Rnd (5-5-5)', 'Referee:': 'Keith Peterson', 'Details': 'Rear Naked Choke', 'Winner': 'Gerald Meerschaert', 'r_figher': 'Gerald Meerschaert', 'b_figher': 'Deron Winn', 'r_figher_sig_str': '86 of 187', 'b_figher_sig_str': '53 of 111', 'r_figher_sig_str %': '45%', 'b_figher_sig_str %': '47%', 'r_figher_total_str': '86 of 188', 'b_figher_total_str': '53 of 111'}\n",
      "===================555=====================\n",
      "{'Fight Type': 'Featherweight Bout', 'Method:': 'Decision - Split', 'Round:': '3', 'Time:': '5:00', 'Time format:': '3 Rnd (5-5-5)', 'Referee:': 'Mark Smith', 'Details': 'Tony Weeks29 - 28.Junichiro Kamijo28 - 29.Eric Colon28 - 29.', 'Winner': 'Giga Chikadze', 'r_figher': 'Giga Chikadze', 'b_figher': 'Jamall Emmers', 'r_figher_sig_str': '38 of 122', 'b_figher_sig_str': '54 of 127', 'r_figher_sig_str %': '31%', 'b_figher_sig_str %': '42%', 'r_figher_total_str': '40 of 125', 'b_figher_total_str': '57 of 130'}\n",
      "===================556=====================\n",
      "{'Fight Type': 'Bantamweight Bout', 'Method:': 'KO/TKO', 'Round:': '1', 'Time:': '3:01', 'Time format:': '3 Rnd (5-5-5)', 'Referee:': 'Chris Tognoni', 'Details': 'Punch to Head At Distance', 'Winner': 'Danaa Batgerel', 'r_figher': 'Danaa Batgerel', 'b_figher': 'Guido Cannetti', 'r_figher_sig_str': '17 of 33', 'b_figher_sig_str': '11 of 23', 'r_figher_sig_str %': '51%', 'b_figher_sig_str %': '47%', 'r_figher_total_str': '17 of 33', 'b_figher_total_str': '11 of 23'}\n",
      "===================557=====================\n",
      "{'Fight Type': 'Flyweight Bout', 'Method:': 'KO/TKO', 'Round:': '2', 'Time:': '1:54', 'Time format:': '5 Rnd (5-5-5-5-5)', 'Referee:': 'Dan Miragliotta', 'Details': 'Punch to Head At Distance\\n      Non-title fight for Figueiredo; missed weight', 'Winner': 'Deiveson Figueiredo', 'r_figher': 'Joseph Benavidez', 'b_figher': 'Deiveson Figueiredo', 'r_figher_sig_str': '46 of 94', 'b_figher_sig_str': '25 of 49', 'r_figher_sig_str %': '48%', 'b_figher_sig_str %': '51%', 'r_figher_total_str': '46 of 94', 'b_figher_total_str': '25 of 49'}\n",
      "===================558=====================\n",
      "{'Fight Type': \"Women's Featherweight Bout\", 'Method:': 'KO/TKO', 'Round:': '1', 'Time:': '3:37', 'Time format:': '3 Rnd (5-5-5)', 'Referee:': 'Dan Miragliotta', 'Details': 'Punches to Head From Mount', 'Winner': 'Felicia Spencer', 'r_figher': 'Felicia Spencer', 'b_figher': 'Zarah Fairn', 'r_figher_sig_str': '40 of 64', 'b_figher_sig_str': '13 of 28', 'r_figher_sig_str %': '62%', 'b_figher_sig_str %': '46%', 'r_figher_total_str': '68 of 98', 'b_figher_total_str': '14 of 29'}\n",
      "===================559=====================\n",
      "{'Fight Type': 'Light Heavyweight Bout', 'Method:': 'KO/TKO', 'Round:': '1', 'Time:': '0:38', 'Time format:': '3 Rnd (5-5-5)', 'Referee:': 'Kevin MacDonald', 'Details': 'Punches to Head At Distance', 'Winner': 'Magomed Ankalaev', 'r_figher': 'Ion Cutelaba', 'b_figher': 'Magomed Ankalaev', 'r_figher_sig_str': '5 of 11', 'b_figher_sig_str': '8 of 12', 'r_figher_sig_str %': '45%', 'b_figher_sig_str %': '66%', 'r_figher_total_str': '5 of 11', 'b_figher_total_str': '8 of 12'}\n",
      "===================560=====================\n",
      "{'Fight Type': \"Women's Featherweight Bout\", 'Method:': 'KO/TKO', 'Round:': '1', 'Time:': '3:31', 'Time format:': '3 Rnd (5-5-5)', 'Referee:': 'Kevin MacDonald', 'Details': 'Punch to Head At Distance', 'Winner': 'Megan Anderson', 'r_figher': 'Megan Anderson', 'b_figher': 'Norma Dumont', 'r_figher_sig_str': '7 of 14', 'b_figher_sig_str': '5 of 16', 'r_figher_sig_str %': '50%', 'b_figher_sig_str %': '31%', 'r_figher_total_str': '32 of 39', 'b_figher_total_str': '14 of 25'}\n",
      "===================561=====================\n",
      "{'Fight Type': 'Featherweight Bout', 'Method:': 'Submission', 'Round:': '2', 'Time:': '1:38', 'Time format:': '3 Rnd (5-5-5)', 'Referee:': 'Kevin MacDonald', 'Details': 'Rear Naked Choke', 'Winner': 'Grant Dawson', 'r_figher': 'Grant Dawson', 'b_figher': 'Darrick Minner', 'r_figher_sig_str': '15 of 22', 'b_figher_sig_str': '4 of 7', 'r_figher_sig_str %': '68%', 'b_figher_sig_str %': '57%', 'r_figher_total_str': '42 of 52', 'b_figher_total_str': '26 of 29'}\n",
      "===================562=====================\n",
      "{'Fight Type': 'Bantamweight Bout', 'Method:': 'Decision - Unanimous', 'Round:': '3', 'Time:': '5:00', 'Time format:': '3 Rnd (5-5-5)', 'Referee:': 'Dan Miragliotta', 'Details': \"Sal D'amato27 - 30.Lisa Cuellar27 - 30.Brian Costello27 - 30.\", 'Winner': 'Kyler Phillips', 'r_figher': 'Gabriel Silva', 'b_figher': 'Kyler Phillips', 'r_figher_sig_str': '31 of 97', 'b_figher_sig_str': '89 of 168', 'r_figher_sig_str %': '31%', 'b_figher_sig_str %': '52%', 'r_figher_total_str': '43 of 112', 'b_figher_total_str': '112 of 195'}\n",
      "===================563=====================\n",
      "{'Fight Type': 'Middleweight Bout', 'Method:': 'KO/TKO', 'Round:': '1', 'Time:': '4:47', 'Time format:': '3 Rnd (5-5-5)', 'Referee:': 'Bill Bookwalter', 'Details': 'Punches to Head On Ground', 'Winner': 'Brendan Allen', 'r_figher': 'Brendan Allen', 'b_figher': 'Tom Breese', 'r_figher_sig_str': '20 of 29', 'b_figher_sig_str': '4 of 5', 'r_figher_sig_str %': '68%', 'b_figher_sig_str %': '80%', 'r_figher_total_str': '38 of 52', 'b_figher_total_str': '5 of 6'}\n",
      "===================564=====================\n",
      "{'Fight Type': 'Heavyweight Bout', 'Method:': 'Decision - Unanimous', 'Round:': '3', 'Time:': '5:00', 'Time format:': '3 Rnd (5-5-5)', 'Referee:': 'Bill Bookwalter', 'Details': \"Brian Costello27 - 30.Sal D'amato27 - 30.Lisa Cuellar28 - 29.\", 'Winner': 'Marcin Tybura', 'r_figher': 'Marcin Tybura', 'b_figher': 'Serghei Spivac', 'r_figher_sig_str': '43 of 106', 'b_figher_sig_str': '26 of 83', 'r_figher_sig_str %': '40%', 'b_figher_sig_str %': '31%', 'r_figher_total_str': '116 of 199', 'b_figher_total_str': '40 of 101'}\n",
      "===================565=====================\n",
      "{'Fight Type': 'Lightweight Bout', 'Method:': 'Decision - Unanimous', 'Round:': '3', 'Time:': '5:00', 'Time format:': '3 Rnd (5-5-5)', 'Referee:': 'Mike King', 'Details': 'Chris Lee27 - 30.Lisa Cuellar27 - 30.Brian Costello27 - 30.', 'Winner': 'Luis Pena', 'r_figher': 'Luis Pena', 'b_figher': 'Steve Garcia', 'r_figher_sig_str': '27 of 42', 'b_figher_sig_str': '21 of 39', 'r_figher_sig_str %': '64%', 'b_figher_sig_str %': '53%', 'r_figher_total_str': '58 of 95', 'b_figher_total_str': '98 of 153'}\n",
      "===================566=====================\n",
      "{'Fight Type': 'Featherweight Bout', 'Method:': 'Submission', 'Round:': '2', 'Time:': '3:38', 'Time format:': '3 Rnd (5-5-5)', 'Referee:': 'Mike King', 'Details': 'Guillotine Choke From Bottom Side Control', 'Winner': 'Jordan Griffin', 'r_figher': 'Jordan Griffin', 'b_figher': 'TJ Brown', 'r_figher_sig_str': '15 of 23', 'b_figher_sig_str': '32 of 47', 'r_figher_sig_str %': '65%', 'b_figher_sig_str %': '68%', 'r_figher_total_str': '20 of 28', 'b_figher_total_str': '91 of 119'}\n",
      "===================567=====================\n",
      "{'Fight Type': 'Featherweight Bout', 'Method:': 'KO/TKO', 'Round:': '1', 'Time:': '1:25', 'Time format:': '3 Rnd (5-5-5)', 'Referee:': 'Scott Howard', 'Details': 'Punches to Head From Mount', 'Winner': 'Spike Carlyle', 'r_figher': 'Aalon Cruz', 'b_figher': 'Spike Carlyle', 'r_figher_sig_str': '2 of 12', 'b_figher_sig_str': '20 of 29', 'r_figher_sig_str %': '16%', 'b_figher_sig_str %': '68%', 'r_figher_total_str': '2 of 12', 'b_figher_total_str': '29 of 38'}\n",
      "===================568=====================\n",
      "{'Fight Type': 'Welterweight Bout', 'Method:': 'Decision - Unanimous', 'Round:': '3', 'Time:': '5:00', 'Time format:': '3 Rnd (5-5-5)', 'Referee:': 'Scott Howard', 'Details': 'Brian Costello28 - 29.Chris Lee27 - 29.Lisa Cuellar27 - 30.', 'Winner': 'Sean Brady', 'r_figher': 'Sean Brady', 'b_figher': 'Ismail Naurdiev', 'r_figher_sig_str': '47 of 91', 'b_figher_sig_str': '37 of 87', 'r_figher_sig_str %': '51%', 'b_figher_sig_str %': '42%', 'r_figher_total_str': '125 of 191', 'b_figher_total_str': '38 of 88'}\n",
      "===================569=====================\n",
      "{'Fight Type': 'Lightweight Bout', 'Method:': 'Decision - Split', 'Round:': '5', 'Time:': '5:00', 'Time format:': '5 Rnd (5-5-5-5-5)', 'Referee:': 'Marc Goddard', 'Details': 'Barry Foley48 - 47.Howard Hughes47 - 48.David Lethaby47 - 48.', 'Winner': 'Dan Hooker', 'r_figher': 'Paul Felder', 'b_figher': 'Dan Hooker', 'r_figher_sig_str': '110 of 230', 'b_figher_sig_str': '122 of 221', 'r_figher_sig_str %': '47%', 'b_figher_sig_str %': '55%', 'r_figher_total_str': '119 of 243', 'b_figher_total_str': '133 of 234'}\n",
      "===================570=====================\n",
      "{'Fight Type': 'Light Heavyweight Bout', 'Method:': 'Submission', 'Round:': '1', 'Time:': '3:29', 'Time format:': '3 Rnd (5-5-5)', 'Referee:': 'John Sharp', 'Details': 'Kimura From Side Control', 'Winner': 'Jimmy Crute', 'r_figher': 'Jimmy Crute', 'b_figher': 'Michal Oleksiejczuk', 'r_figher_sig_str': '2 of 8', 'b_figher_sig_str': '3 of 6', 'r_figher_sig_str %': '25%', 'b_figher_sig_str %': '50%', 'r_figher_total_str': '13 of 23', 'b_figher_total_str': '7 of 10'}\n"
     ]
    },
    {
     "output_type": "error",
     "ename": "ConnectionError",
     "evalue": "('Connection aborted.', ConnectionResetError(54, 'Connection reset by peer'))",
     "traceback": [
      "\u001b[0;31m---------------------------------------------------------------------------\u001b[0m",
      "\u001b[0;31mConnectionResetError\u001b[0m                      Traceback (most recent call last)",
      "\u001b[0;32m/Users/anaconda3/lib/python3.8/site-packages/urllib3/connectionpool.py\u001b[0m in \u001b[0;36murlopen\u001b[0;34m(self, method, url, body, headers, retries, redirect, assert_same_host, timeout, pool_timeout, release_conn, chunked, body_pos, **response_kw)\u001b[0m\n\u001b[1;32m    669\u001b[0m             \u001b[0;31m# Make the request on the httplib connection object.\u001b[0m\u001b[0;34m\u001b[0m\u001b[0;34m\u001b[0m\u001b[0;34m\u001b[0m\u001b[0m\n\u001b[0;32m--> 670\u001b[0;31m             httplib_response = self._make_request(\n\u001b[0m\u001b[1;32m    671\u001b[0m                 \u001b[0mconn\u001b[0m\u001b[0;34m,\u001b[0m\u001b[0;34m\u001b[0m\u001b[0;34m\u001b[0m\u001b[0m\n",
      "\u001b[0;32m/Users/anaconda3/lib/python3.8/site-packages/urllib3/connectionpool.py\u001b[0m in \u001b[0;36m_make_request\u001b[0;34m(self, conn, method, url, timeout, chunked, **httplib_request_kw)\u001b[0m\n\u001b[1;32m    425\u001b[0m                     \u001b[0;31m# Otherwise it looks like a bug in the code.\u001b[0m\u001b[0;34m\u001b[0m\u001b[0;34m\u001b[0m\u001b[0;34m\u001b[0m\u001b[0m\n\u001b[0;32m--> 426\u001b[0;31m                     \u001b[0msix\u001b[0m\u001b[0;34m.\u001b[0m\u001b[0mraise_from\u001b[0m\u001b[0;34m(\u001b[0m\u001b[0me\u001b[0m\u001b[0;34m,\u001b[0m \u001b[0;32mNone\u001b[0m\u001b[0;34m)\u001b[0m\u001b[0;34m\u001b[0m\u001b[0;34m\u001b[0m\u001b[0m\n\u001b[0m\u001b[1;32m    427\u001b[0m         \u001b[0;32mexcept\u001b[0m \u001b[0;34m(\u001b[0m\u001b[0mSocketTimeout\u001b[0m\u001b[0;34m,\u001b[0m \u001b[0mBaseSSLError\u001b[0m\u001b[0;34m,\u001b[0m \u001b[0mSocketError\u001b[0m\u001b[0;34m)\u001b[0m \u001b[0;32mas\u001b[0m \u001b[0me\u001b[0m\u001b[0;34m:\u001b[0m\u001b[0;34m\u001b[0m\u001b[0;34m\u001b[0m\u001b[0m\n",
      "\u001b[0;32m/Users/anaconda3/lib/python3.8/site-packages/urllib3/packages/six.py\u001b[0m in \u001b[0;36mraise_from\u001b[0;34m(value, from_value)\u001b[0m\n",
      "\u001b[0;32m/Users/anaconda3/lib/python3.8/site-packages/urllib3/connectionpool.py\u001b[0m in \u001b[0;36m_make_request\u001b[0;34m(self, conn, method, url, timeout, chunked, **httplib_request_kw)\u001b[0m\n\u001b[1;32m    420\u001b[0m                 \u001b[0;32mtry\u001b[0m\u001b[0;34m:\u001b[0m\u001b[0;34m\u001b[0m\u001b[0;34m\u001b[0m\u001b[0m\n\u001b[0;32m--> 421\u001b[0;31m                     \u001b[0mhttplib_response\u001b[0m \u001b[0;34m=\u001b[0m \u001b[0mconn\u001b[0m\u001b[0;34m.\u001b[0m\u001b[0mgetresponse\u001b[0m\u001b[0;34m(\u001b[0m\u001b[0;34m)\u001b[0m\u001b[0;34m\u001b[0m\u001b[0;34m\u001b[0m\u001b[0m\n\u001b[0m\u001b[1;32m    422\u001b[0m                 \u001b[0;32mexcept\u001b[0m \u001b[0mBaseException\u001b[0m \u001b[0;32mas\u001b[0m \u001b[0me\u001b[0m\u001b[0;34m:\u001b[0m\u001b[0;34m\u001b[0m\u001b[0;34m\u001b[0m\u001b[0m\n",
      "\u001b[0;32m/Users/anaconda3/lib/python3.8/http/client.py\u001b[0m in \u001b[0;36mgetresponse\u001b[0;34m(self)\u001b[0m\n\u001b[1;32m   1346\u001b[0m             \u001b[0;32mtry\u001b[0m\u001b[0;34m:\u001b[0m\u001b[0;34m\u001b[0m\u001b[0;34m\u001b[0m\u001b[0m\n\u001b[0;32m-> 1347\u001b[0;31m                 \u001b[0mresponse\u001b[0m\u001b[0;34m.\u001b[0m\u001b[0mbegin\u001b[0m\u001b[0;34m(\u001b[0m\u001b[0;34m)\u001b[0m\u001b[0;34m\u001b[0m\u001b[0;34m\u001b[0m\u001b[0m\n\u001b[0m\u001b[1;32m   1348\u001b[0m             \u001b[0;32mexcept\u001b[0m \u001b[0mConnectionError\u001b[0m\u001b[0;34m:\u001b[0m\u001b[0;34m\u001b[0m\u001b[0;34m\u001b[0m\u001b[0m\n",
      "\u001b[0;32m/Users/anaconda3/lib/python3.8/http/client.py\u001b[0m in \u001b[0;36mbegin\u001b[0;34m(self)\u001b[0m\n\u001b[1;32m    306\u001b[0m         \u001b[0;32mwhile\u001b[0m \u001b[0;32mTrue\u001b[0m\u001b[0;34m:\u001b[0m\u001b[0;34m\u001b[0m\u001b[0;34m\u001b[0m\u001b[0m\n\u001b[0;32m--> 307\u001b[0;31m             \u001b[0mversion\u001b[0m\u001b[0;34m,\u001b[0m \u001b[0mstatus\u001b[0m\u001b[0;34m,\u001b[0m \u001b[0mreason\u001b[0m \u001b[0;34m=\u001b[0m \u001b[0mself\u001b[0m\u001b[0;34m.\u001b[0m\u001b[0m_read_status\u001b[0m\u001b[0;34m(\u001b[0m\u001b[0;34m)\u001b[0m\u001b[0;34m\u001b[0m\u001b[0;34m\u001b[0m\u001b[0m\n\u001b[0m\u001b[1;32m    308\u001b[0m             \u001b[0;32mif\u001b[0m \u001b[0mstatus\u001b[0m \u001b[0;34m!=\u001b[0m \u001b[0mCONTINUE\u001b[0m\u001b[0;34m:\u001b[0m\u001b[0;34m\u001b[0m\u001b[0;34m\u001b[0m\u001b[0m\n",
      "\u001b[0;32m/Users/anaconda3/lib/python3.8/http/client.py\u001b[0m in \u001b[0;36m_read_status\u001b[0;34m(self)\u001b[0m\n\u001b[1;32m    267\u001b[0m     \u001b[0;32mdef\u001b[0m \u001b[0m_read_status\u001b[0m\u001b[0;34m(\u001b[0m\u001b[0mself\u001b[0m\u001b[0;34m)\u001b[0m\u001b[0;34m:\u001b[0m\u001b[0;34m\u001b[0m\u001b[0;34m\u001b[0m\u001b[0m\n\u001b[0;32m--> 268\u001b[0;31m         \u001b[0mline\u001b[0m \u001b[0;34m=\u001b[0m \u001b[0mstr\u001b[0m\u001b[0;34m(\u001b[0m\u001b[0mself\u001b[0m\u001b[0;34m.\u001b[0m\u001b[0mfp\u001b[0m\u001b[0;34m.\u001b[0m\u001b[0mreadline\u001b[0m\u001b[0;34m(\u001b[0m\u001b[0m_MAXLINE\u001b[0m \u001b[0;34m+\u001b[0m \u001b[0;36m1\u001b[0m\u001b[0;34m)\u001b[0m\u001b[0;34m,\u001b[0m \u001b[0;34m\"iso-8859-1\"\u001b[0m\u001b[0;34m)\u001b[0m\u001b[0;34m\u001b[0m\u001b[0;34m\u001b[0m\u001b[0m\n\u001b[0m\u001b[1;32m    269\u001b[0m         \u001b[0;32mif\u001b[0m \u001b[0mlen\u001b[0m\u001b[0;34m(\u001b[0m\u001b[0mline\u001b[0m\u001b[0;34m)\u001b[0m \u001b[0;34m>\u001b[0m \u001b[0m_MAXLINE\u001b[0m\u001b[0;34m:\u001b[0m\u001b[0;34m\u001b[0m\u001b[0;34m\u001b[0m\u001b[0m\n",
      "\u001b[0;32m/Users/anaconda3/lib/python3.8/socket.py\u001b[0m in \u001b[0;36mreadinto\u001b[0;34m(self, b)\u001b[0m\n\u001b[1;32m    668\u001b[0m             \u001b[0;32mtry\u001b[0m\u001b[0;34m:\u001b[0m\u001b[0;34m\u001b[0m\u001b[0;34m\u001b[0m\u001b[0m\n\u001b[0;32m--> 669\u001b[0;31m                 \u001b[0;32mreturn\u001b[0m \u001b[0mself\u001b[0m\u001b[0;34m.\u001b[0m\u001b[0m_sock\u001b[0m\u001b[0;34m.\u001b[0m\u001b[0mrecv_into\u001b[0m\u001b[0;34m(\u001b[0m\u001b[0mb\u001b[0m\u001b[0;34m)\u001b[0m\u001b[0;34m\u001b[0m\u001b[0;34m\u001b[0m\u001b[0m\n\u001b[0m\u001b[1;32m    670\u001b[0m             \u001b[0;32mexcept\u001b[0m \u001b[0mtimeout\u001b[0m\u001b[0;34m:\u001b[0m\u001b[0;34m\u001b[0m\u001b[0;34m\u001b[0m\u001b[0m\n",
      "\u001b[0;31mConnectionResetError\u001b[0m: [Errno 54] Connection reset by peer",
      "\nDuring handling of the above exception, another exception occurred:\n",
      "\u001b[0;31mProtocolError\u001b[0m                             Traceback (most recent call last)",
      "\u001b[0;32m/Users/anaconda3/lib/python3.8/site-packages/requests/adapters.py\u001b[0m in \u001b[0;36msend\u001b[0;34m(self, request, stream, timeout, verify, cert, proxies)\u001b[0m\n\u001b[1;32m    438\u001b[0m             \u001b[0;32mif\u001b[0m \u001b[0;32mnot\u001b[0m \u001b[0mchunked\u001b[0m\u001b[0;34m:\u001b[0m\u001b[0;34m\u001b[0m\u001b[0;34m\u001b[0m\u001b[0m\n\u001b[0;32m--> 439\u001b[0;31m                 resp = conn.urlopen(\n\u001b[0m\u001b[1;32m    440\u001b[0m                     \u001b[0mmethod\u001b[0m\u001b[0;34m=\u001b[0m\u001b[0mrequest\u001b[0m\u001b[0;34m.\u001b[0m\u001b[0mmethod\u001b[0m\u001b[0;34m,\u001b[0m\u001b[0;34m\u001b[0m\u001b[0;34m\u001b[0m\u001b[0m\n",
      "\u001b[0;32m/Users/anaconda3/lib/python3.8/site-packages/urllib3/connectionpool.py\u001b[0m in \u001b[0;36murlopen\u001b[0;34m(self, method, url, body, headers, retries, redirect, assert_same_host, timeout, pool_timeout, release_conn, chunked, body_pos, **response_kw)\u001b[0m\n\u001b[1;32m    725\u001b[0m \u001b[0;34m\u001b[0m\u001b[0m\n\u001b[0;32m--> 726\u001b[0;31m             retries = retries.increment(\n\u001b[0m\u001b[1;32m    727\u001b[0m                 \u001b[0mmethod\u001b[0m\u001b[0;34m,\u001b[0m \u001b[0murl\u001b[0m\u001b[0;34m,\u001b[0m \u001b[0merror\u001b[0m\u001b[0;34m=\u001b[0m\u001b[0me\u001b[0m\u001b[0;34m,\u001b[0m \u001b[0m_pool\u001b[0m\u001b[0;34m=\u001b[0m\u001b[0mself\u001b[0m\u001b[0;34m,\u001b[0m \u001b[0m_stacktrace\u001b[0m\u001b[0;34m=\u001b[0m\u001b[0msys\u001b[0m\u001b[0;34m.\u001b[0m\u001b[0mexc_info\u001b[0m\u001b[0;34m(\u001b[0m\u001b[0;34m)\u001b[0m\u001b[0;34m[\u001b[0m\u001b[0;36m2\u001b[0m\u001b[0;34m]\u001b[0m\u001b[0;34m\u001b[0m\u001b[0;34m\u001b[0m\u001b[0m\n",
      "\u001b[0;32m/Users/anaconda3/lib/python3.8/site-packages/urllib3/util/retry.py\u001b[0m in \u001b[0;36mincrement\u001b[0;34m(self, method, url, response, error, _pool, _stacktrace)\u001b[0m\n\u001b[1;32m    409\u001b[0m             \u001b[0;32mif\u001b[0m \u001b[0mread\u001b[0m \u001b[0;32mis\u001b[0m \u001b[0;32mFalse\u001b[0m \u001b[0;32mor\u001b[0m \u001b[0;32mnot\u001b[0m \u001b[0mself\u001b[0m\u001b[0;34m.\u001b[0m\u001b[0m_is_method_retryable\u001b[0m\u001b[0;34m(\u001b[0m\u001b[0mmethod\u001b[0m\u001b[0;34m)\u001b[0m\u001b[0;34m:\u001b[0m\u001b[0;34m\u001b[0m\u001b[0;34m\u001b[0m\u001b[0m\n\u001b[0;32m--> 410\u001b[0;31m                 \u001b[0;32mraise\u001b[0m \u001b[0msix\u001b[0m\u001b[0;34m.\u001b[0m\u001b[0mreraise\u001b[0m\u001b[0;34m(\u001b[0m\u001b[0mtype\u001b[0m\u001b[0;34m(\u001b[0m\u001b[0merror\u001b[0m\u001b[0;34m)\u001b[0m\u001b[0;34m,\u001b[0m \u001b[0merror\u001b[0m\u001b[0;34m,\u001b[0m \u001b[0m_stacktrace\u001b[0m\u001b[0;34m)\u001b[0m\u001b[0;34m\u001b[0m\u001b[0;34m\u001b[0m\u001b[0m\n\u001b[0m\u001b[1;32m    411\u001b[0m             \u001b[0;32melif\u001b[0m \u001b[0mread\u001b[0m \u001b[0;32mis\u001b[0m \u001b[0;32mnot\u001b[0m \u001b[0;32mNone\u001b[0m\u001b[0;34m:\u001b[0m\u001b[0;34m\u001b[0m\u001b[0;34m\u001b[0m\u001b[0m\n",
      "\u001b[0;32m/Users/anaconda3/lib/python3.8/site-packages/urllib3/packages/six.py\u001b[0m in \u001b[0;36mreraise\u001b[0;34m(tp, value, tb)\u001b[0m\n\u001b[1;32m    733\u001b[0m             \u001b[0;32mif\u001b[0m \u001b[0mvalue\u001b[0m\u001b[0;34m.\u001b[0m\u001b[0m__traceback__\u001b[0m \u001b[0;32mis\u001b[0m \u001b[0;32mnot\u001b[0m \u001b[0mtb\u001b[0m\u001b[0;34m:\u001b[0m\u001b[0;34m\u001b[0m\u001b[0;34m\u001b[0m\u001b[0m\n\u001b[0;32m--> 734\u001b[0;31m                 \u001b[0;32mraise\u001b[0m \u001b[0mvalue\u001b[0m\u001b[0;34m.\u001b[0m\u001b[0mwith_traceback\u001b[0m\u001b[0;34m(\u001b[0m\u001b[0mtb\u001b[0m\u001b[0;34m)\u001b[0m\u001b[0;34m\u001b[0m\u001b[0;34m\u001b[0m\u001b[0m\n\u001b[0m\u001b[1;32m    735\u001b[0m             \u001b[0;32mraise\u001b[0m \u001b[0mvalue\u001b[0m\u001b[0;34m\u001b[0m\u001b[0;34m\u001b[0m\u001b[0m\n",
      "\u001b[0;32m/Users/anaconda3/lib/python3.8/site-packages/urllib3/connectionpool.py\u001b[0m in \u001b[0;36murlopen\u001b[0;34m(self, method, url, body, headers, retries, redirect, assert_same_host, timeout, pool_timeout, release_conn, chunked, body_pos, **response_kw)\u001b[0m\n\u001b[1;32m    669\u001b[0m             \u001b[0;31m# Make the request on the httplib connection object.\u001b[0m\u001b[0;34m\u001b[0m\u001b[0;34m\u001b[0m\u001b[0;34m\u001b[0m\u001b[0m\n\u001b[0;32m--> 670\u001b[0;31m             httplib_response = self._make_request(\n\u001b[0m\u001b[1;32m    671\u001b[0m                 \u001b[0mconn\u001b[0m\u001b[0;34m,\u001b[0m\u001b[0;34m\u001b[0m\u001b[0;34m\u001b[0m\u001b[0m\n",
      "\u001b[0;32m/Users/anaconda3/lib/python3.8/site-packages/urllib3/connectionpool.py\u001b[0m in \u001b[0;36m_make_request\u001b[0;34m(self, conn, method, url, timeout, chunked, **httplib_request_kw)\u001b[0m\n\u001b[1;32m    425\u001b[0m                     \u001b[0;31m# Otherwise it looks like a bug in the code.\u001b[0m\u001b[0;34m\u001b[0m\u001b[0;34m\u001b[0m\u001b[0;34m\u001b[0m\u001b[0m\n\u001b[0;32m--> 426\u001b[0;31m                     \u001b[0msix\u001b[0m\u001b[0;34m.\u001b[0m\u001b[0mraise_from\u001b[0m\u001b[0;34m(\u001b[0m\u001b[0me\u001b[0m\u001b[0;34m,\u001b[0m \u001b[0;32mNone\u001b[0m\u001b[0;34m)\u001b[0m\u001b[0;34m\u001b[0m\u001b[0;34m\u001b[0m\u001b[0m\n\u001b[0m\u001b[1;32m    427\u001b[0m         \u001b[0;32mexcept\u001b[0m \u001b[0;34m(\u001b[0m\u001b[0mSocketTimeout\u001b[0m\u001b[0;34m,\u001b[0m \u001b[0mBaseSSLError\u001b[0m\u001b[0;34m,\u001b[0m \u001b[0mSocketError\u001b[0m\u001b[0;34m)\u001b[0m \u001b[0;32mas\u001b[0m \u001b[0me\u001b[0m\u001b[0;34m:\u001b[0m\u001b[0;34m\u001b[0m\u001b[0;34m\u001b[0m\u001b[0m\n",
      "\u001b[0;32m/Users/anaconda3/lib/python3.8/site-packages/urllib3/packages/six.py\u001b[0m in \u001b[0;36mraise_from\u001b[0;34m(value, from_value)\u001b[0m\n",
      "\u001b[0;32m/Users/anaconda3/lib/python3.8/site-packages/urllib3/connectionpool.py\u001b[0m in \u001b[0;36m_make_request\u001b[0;34m(self, conn, method, url, timeout, chunked, **httplib_request_kw)\u001b[0m\n\u001b[1;32m    420\u001b[0m                 \u001b[0;32mtry\u001b[0m\u001b[0;34m:\u001b[0m\u001b[0;34m\u001b[0m\u001b[0;34m\u001b[0m\u001b[0m\n\u001b[0;32m--> 421\u001b[0;31m                     \u001b[0mhttplib_response\u001b[0m \u001b[0;34m=\u001b[0m \u001b[0mconn\u001b[0m\u001b[0;34m.\u001b[0m\u001b[0mgetresponse\u001b[0m\u001b[0;34m(\u001b[0m\u001b[0;34m)\u001b[0m\u001b[0;34m\u001b[0m\u001b[0;34m\u001b[0m\u001b[0m\n\u001b[0m\u001b[1;32m    422\u001b[0m                 \u001b[0;32mexcept\u001b[0m \u001b[0mBaseException\u001b[0m \u001b[0;32mas\u001b[0m \u001b[0me\u001b[0m\u001b[0;34m:\u001b[0m\u001b[0;34m\u001b[0m\u001b[0;34m\u001b[0m\u001b[0m\n",
      "\u001b[0;32m/Users/anaconda3/lib/python3.8/http/client.py\u001b[0m in \u001b[0;36mgetresponse\u001b[0;34m(self)\u001b[0m\n\u001b[1;32m   1346\u001b[0m             \u001b[0;32mtry\u001b[0m\u001b[0;34m:\u001b[0m\u001b[0;34m\u001b[0m\u001b[0;34m\u001b[0m\u001b[0m\n\u001b[0;32m-> 1347\u001b[0;31m                 \u001b[0mresponse\u001b[0m\u001b[0;34m.\u001b[0m\u001b[0mbegin\u001b[0m\u001b[0;34m(\u001b[0m\u001b[0;34m)\u001b[0m\u001b[0;34m\u001b[0m\u001b[0;34m\u001b[0m\u001b[0m\n\u001b[0m\u001b[1;32m   1348\u001b[0m             \u001b[0;32mexcept\u001b[0m \u001b[0mConnectionError\u001b[0m\u001b[0;34m:\u001b[0m\u001b[0;34m\u001b[0m\u001b[0;34m\u001b[0m\u001b[0m\n",
      "\u001b[0;32m/Users/anaconda3/lib/python3.8/http/client.py\u001b[0m in \u001b[0;36mbegin\u001b[0;34m(self)\u001b[0m\n\u001b[1;32m    306\u001b[0m         \u001b[0;32mwhile\u001b[0m \u001b[0;32mTrue\u001b[0m\u001b[0;34m:\u001b[0m\u001b[0;34m\u001b[0m\u001b[0;34m\u001b[0m\u001b[0m\n\u001b[0;32m--> 307\u001b[0;31m             \u001b[0mversion\u001b[0m\u001b[0;34m,\u001b[0m \u001b[0mstatus\u001b[0m\u001b[0;34m,\u001b[0m \u001b[0mreason\u001b[0m \u001b[0;34m=\u001b[0m \u001b[0mself\u001b[0m\u001b[0;34m.\u001b[0m\u001b[0m_read_status\u001b[0m\u001b[0;34m(\u001b[0m\u001b[0;34m)\u001b[0m\u001b[0;34m\u001b[0m\u001b[0;34m\u001b[0m\u001b[0m\n\u001b[0m\u001b[1;32m    308\u001b[0m             \u001b[0;32mif\u001b[0m \u001b[0mstatus\u001b[0m \u001b[0;34m!=\u001b[0m \u001b[0mCONTINUE\u001b[0m\u001b[0;34m:\u001b[0m\u001b[0;34m\u001b[0m\u001b[0;34m\u001b[0m\u001b[0m\n",
      "\u001b[0;32m/Users/anaconda3/lib/python3.8/http/client.py\u001b[0m in \u001b[0;36m_read_status\u001b[0;34m(self)\u001b[0m\n\u001b[1;32m    267\u001b[0m     \u001b[0;32mdef\u001b[0m \u001b[0m_read_status\u001b[0m\u001b[0;34m(\u001b[0m\u001b[0mself\u001b[0m\u001b[0;34m)\u001b[0m\u001b[0;34m:\u001b[0m\u001b[0;34m\u001b[0m\u001b[0;34m\u001b[0m\u001b[0m\n\u001b[0;32m--> 268\u001b[0;31m         \u001b[0mline\u001b[0m \u001b[0;34m=\u001b[0m \u001b[0mstr\u001b[0m\u001b[0;34m(\u001b[0m\u001b[0mself\u001b[0m\u001b[0;34m.\u001b[0m\u001b[0mfp\u001b[0m\u001b[0;34m.\u001b[0m\u001b[0mreadline\u001b[0m\u001b[0;34m(\u001b[0m\u001b[0m_MAXLINE\u001b[0m \u001b[0;34m+\u001b[0m \u001b[0;36m1\u001b[0m\u001b[0;34m)\u001b[0m\u001b[0;34m,\u001b[0m \u001b[0;34m\"iso-8859-1\"\u001b[0m\u001b[0;34m)\u001b[0m\u001b[0;34m\u001b[0m\u001b[0;34m\u001b[0m\u001b[0m\n\u001b[0m\u001b[1;32m    269\u001b[0m         \u001b[0;32mif\u001b[0m \u001b[0mlen\u001b[0m\u001b[0;34m(\u001b[0m\u001b[0mline\u001b[0m\u001b[0;34m)\u001b[0m \u001b[0;34m>\u001b[0m \u001b[0m_MAXLINE\u001b[0m\u001b[0;34m:\u001b[0m\u001b[0;34m\u001b[0m\u001b[0;34m\u001b[0m\u001b[0m\n",
      "\u001b[0;32m/Users/anaconda3/lib/python3.8/socket.py\u001b[0m in \u001b[0;36mreadinto\u001b[0;34m(self, b)\u001b[0m\n\u001b[1;32m    668\u001b[0m             \u001b[0;32mtry\u001b[0m\u001b[0;34m:\u001b[0m\u001b[0;34m\u001b[0m\u001b[0;34m\u001b[0m\u001b[0m\n\u001b[0;32m--> 669\u001b[0;31m                 \u001b[0;32mreturn\u001b[0m \u001b[0mself\u001b[0m\u001b[0;34m.\u001b[0m\u001b[0m_sock\u001b[0m\u001b[0;34m.\u001b[0m\u001b[0mrecv_into\u001b[0m\u001b[0;34m(\u001b[0m\u001b[0mb\u001b[0m\u001b[0;34m)\u001b[0m\u001b[0;34m\u001b[0m\u001b[0;34m\u001b[0m\u001b[0m\n\u001b[0m\u001b[1;32m    670\u001b[0m             \u001b[0;32mexcept\u001b[0m \u001b[0mtimeout\u001b[0m\u001b[0;34m:\u001b[0m\u001b[0;34m\u001b[0m\u001b[0;34m\u001b[0m\u001b[0m\n",
      "\u001b[0;31mProtocolError\u001b[0m: ('Connection aborted.', ConnectionResetError(54, 'Connection reset by peer'))",
      "\nDuring handling of the above exception, another exception occurred:\n",
      "\u001b[0;31mConnectionError\u001b[0m                           Traceback (most recent call last)",
      "\u001b[0;32m<ipython-input-34-5fbdf4ddaa9e>\u001b[0m in \u001b[0;36m<module>\u001b[0;34m\u001b[0m\n\u001b[1;32m      1\u001b[0m \u001b[0mfight_info_list\u001b[0m \u001b[0;34m=\u001b[0m \u001b[0;34m[\u001b[0m\u001b[0;34m]\u001b[0m\u001b[0;34m\u001b[0m\u001b[0;34m\u001b[0m\u001b[0m\n\u001b[1;32m      2\u001b[0m \u001b[0;32mfor\u001b[0m \u001b[0mindex\u001b[0m\u001b[0;34m,\u001b[0m \u001b[0mlink\u001b[0m \u001b[0;32min\u001b[0m \u001b[0menumerate\u001b[0m\u001b[0;34m(\u001b[0m\u001b[0mfight_links\u001b[0m\u001b[0;34m)\u001b[0m\u001b[0;34m:\u001b[0m\u001b[0;34m\u001b[0m\u001b[0;34m\u001b[0m\u001b[0m\n\u001b[0;32m----> 3\u001b[0;31m     \u001b[0mfight_info\u001b[0m \u001b[0;34m=\u001b[0m \u001b[0mget_fight_info\u001b[0m\u001b[0;34m(\u001b[0m\u001b[0mlink\u001b[0m\u001b[0;34m)\u001b[0m\u001b[0;34m\u001b[0m\u001b[0;34m\u001b[0m\u001b[0m\n\u001b[0m\u001b[1;32m      4\u001b[0m     \u001b[0mprint\u001b[0m\u001b[0;34m(\u001b[0m\u001b[0;34m\"===================\"\u001b[0m \u001b[0;34m+\u001b[0m \u001b[0mstr\u001b[0m\u001b[0;34m(\u001b[0m\u001b[0mindex\u001b[0m\u001b[0;34m)\u001b[0m \u001b[0;34m+\u001b[0m \u001b[0;34m\"=====================\"\u001b[0m\u001b[0;34m)\u001b[0m\u001b[0;34m\u001b[0m\u001b[0;34m\u001b[0m\u001b[0m\n\u001b[1;32m      5\u001b[0m     \u001b[0mprint\u001b[0m\u001b[0;34m(\u001b[0m\u001b[0mfight_info\u001b[0m\u001b[0;34m)\u001b[0m\u001b[0;34m\u001b[0m\u001b[0;34m\u001b[0m\u001b[0m\n",
      "\u001b[0;32m<ipython-input-33-23f37218355d>\u001b[0m in \u001b[0;36mget_fight_info\u001b[0;34m(url)\u001b[0m\n\u001b[1;32m     62\u001b[0m \u001b[0;32mdef\u001b[0m \u001b[0mget_fight_info\u001b[0m\u001b[0;34m(\u001b[0m\u001b[0murl\u001b[0m\u001b[0;34m)\u001b[0m\u001b[0;34m:\u001b[0m\u001b[0;34m\u001b[0m\u001b[0;34m\u001b[0m\u001b[0m\n\u001b[1;32m     63\u001b[0m     \u001b[0;34m\"\"\"Return dictionary with information about the fight\"\"\"\u001b[0m\u001b[0;34m\u001b[0m\u001b[0;34m\u001b[0m\u001b[0m\n\u001b[0;32m---> 64\u001b[0;31m     \u001b[0mr\u001b[0m \u001b[0;34m=\u001b[0m \u001b[0mrequests\u001b[0m\u001b[0;34m.\u001b[0m\u001b[0mget\u001b[0m\u001b[0;34m(\u001b[0m\u001b[0murl\u001b[0m\u001b[0;34m)\u001b[0m\u001b[0;34m\u001b[0m\u001b[0;34m\u001b[0m\u001b[0m\n\u001b[0m\u001b[1;32m     65\u001b[0m     \u001b[0msoup\u001b[0m \u001b[0;34m=\u001b[0m \u001b[0mBeautifulSoup\u001b[0m\u001b[0;34m(\u001b[0m\u001b[0mr\u001b[0m\u001b[0;34m.\u001b[0m\u001b[0mcontent\u001b[0m\u001b[0;34m)\u001b[0m\u001b[0;34m\u001b[0m\u001b[0;34m\u001b[0m\u001b[0m\n\u001b[1;32m     66\u001b[0m \u001b[0;34m\u001b[0m\u001b[0m\n",
      "\u001b[0;32m/Users/anaconda3/lib/python3.8/site-packages/requests/api.py\u001b[0m in \u001b[0;36mget\u001b[0;34m(url, params, **kwargs)\u001b[0m\n\u001b[1;32m     74\u001b[0m \u001b[0;34m\u001b[0m\u001b[0m\n\u001b[1;32m     75\u001b[0m     \u001b[0mkwargs\u001b[0m\u001b[0;34m.\u001b[0m\u001b[0msetdefault\u001b[0m\u001b[0;34m(\u001b[0m\u001b[0;34m'allow_redirects'\u001b[0m\u001b[0;34m,\u001b[0m \u001b[0;32mTrue\u001b[0m\u001b[0;34m)\u001b[0m\u001b[0;34m\u001b[0m\u001b[0;34m\u001b[0m\u001b[0m\n\u001b[0;32m---> 76\u001b[0;31m     \u001b[0;32mreturn\u001b[0m \u001b[0mrequest\u001b[0m\u001b[0;34m(\u001b[0m\u001b[0;34m'get'\u001b[0m\u001b[0;34m,\u001b[0m \u001b[0murl\u001b[0m\u001b[0;34m,\u001b[0m \u001b[0mparams\u001b[0m\u001b[0;34m=\u001b[0m\u001b[0mparams\u001b[0m\u001b[0;34m,\u001b[0m \u001b[0;34m**\u001b[0m\u001b[0mkwargs\u001b[0m\u001b[0;34m)\u001b[0m\u001b[0;34m\u001b[0m\u001b[0;34m\u001b[0m\u001b[0m\n\u001b[0m\u001b[1;32m     77\u001b[0m \u001b[0;34m\u001b[0m\u001b[0m\n\u001b[1;32m     78\u001b[0m \u001b[0;34m\u001b[0m\u001b[0m\n",
      "\u001b[0;32m/Users/anaconda3/lib/python3.8/site-packages/requests/api.py\u001b[0m in \u001b[0;36mrequest\u001b[0;34m(method, url, **kwargs)\u001b[0m\n\u001b[1;32m     59\u001b[0m     \u001b[0;31m# cases, and look like a memory leak in others.\u001b[0m\u001b[0;34m\u001b[0m\u001b[0;34m\u001b[0m\u001b[0;34m\u001b[0m\u001b[0m\n\u001b[1;32m     60\u001b[0m     \u001b[0;32mwith\u001b[0m \u001b[0msessions\u001b[0m\u001b[0;34m.\u001b[0m\u001b[0mSession\u001b[0m\u001b[0;34m(\u001b[0m\u001b[0;34m)\u001b[0m \u001b[0;32mas\u001b[0m \u001b[0msession\u001b[0m\u001b[0;34m:\u001b[0m\u001b[0;34m\u001b[0m\u001b[0;34m\u001b[0m\u001b[0m\n\u001b[0;32m---> 61\u001b[0;31m         \u001b[0;32mreturn\u001b[0m \u001b[0msession\u001b[0m\u001b[0;34m.\u001b[0m\u001b[0mrequest\u001b[0m\u001b[0;34m(\u001b[0m\u001b[0mmethod\u001b[0m\u001b[0;34m=\u001b[0m\u001b[0mmethod\u001b[0m\u001b[0;34m,\u001b[0m \u001b[0murl\u001b[0m\u001b[0;34m=\u001b[0m\u001b[0murl\u001b[0m\u001b[0;34m,\u001b[0m \u001b[0;34m**\u001b[0m\u001b[0mkwargs\u001b[0m\u001b[0;34m)\u001b[0m\u001b[0;34m\u001b[0m\u001b[0;34m\u001b[0m\u001b[0m\n\u001b[0m\u001b[1;32m     62\u001b[0m \u001b[0;34m\u001b[0m\u001b[0m\n\u001b[1;32m     63\u001b[0m \u001b[0;34m\u001b[0m\u001b[0m\n",
      "\u001b[0;32m/Users/anaconda3/lib/python3.8/site-packages/requests/sessions.py\u001b[0m in \u001b[0;36mrequest\u001b[0;34m(self, method, url, params, data, headers, cookies, files, auth, timeout, allow_redirects, proxies, hooks, stream, verify, cert, json)\u001b[0m\n\u001b[1;32m    528\u001b[0m         }\n\u001b[1;32m    529\u001b[0m         \u001b[0msend_kwargs\u001b[0m\u001b[0;34m.\u001b[0m\u001b[0mupdate\u001b[0m\u001b[0;34m(\u001b[0m\u001b[0msettings\u001b[0m\u001b[0;34m)\u001b[0m\u001b[0;34m\u001b[0m\u001b[0;34m\u001b[0m\u001b[0m\n\u001b[0;32m--> 530\u001b[0;31m         \u001b[0mresp\u001b[0m \u001b[0;34m=\u001b[0m \u001b[0mself\u001b[0m\u001b[0;34m.\u001b[0m\u001b[0msend\u001b[0m\u001b[0;34m(\u001b[0m\u001b[0mprep\u001b[0m\u001b[0;34m,\u001b[0m \u001b[0;34m**\u001b[0m\u001b[0msend_kwargs\u001b[0m\u001b[0;34m)\u001b[0m\u001b[0;34m\u001b[0m\u001b[0;34m\u001b[0m\u001b[0m\n\u001b[0m\u001b[1;32m    531\u001b[0m \u001b[0;34m\u001b[0m\u001b[0m\n\u001b[1;32m    532\u001b[0m         \u001b[0;32mreturn\u001b[0m \u001b[0mresp\u001b[0m\u001b[0;34m\u001b[0m\u001b[0;34m\u001b[0m\u001b[0m\n",
      "\u001b[0;32m/Users/anaconda3/lib/python3.8/site-packages/requests/sessions.py\u001b[0m in \u001b[0;36msend\u001b[0;34m(self, request, **kwargs)\u001b[0m\n\u001b[1;32m    641\u001b[0m \u001b[0;34m\u001b[0m\u001b[0m\n\u001b[1;32m    642\u001b[0m         \u001b[0;31m# Send the request\u001b[0m\u001b[0;34m\u001b[0m\u001b[0;34m\u001b[0m\u001b[0;34m\u001b[0m\u001b[0m\n\u001b[0;32m--> 643\u001b[0;31m         \u001b[0mr\u001b[0m \u001b[0;34m=\u001b[0m \u001b[0madapter\u001b[0m\u001b[0;34m.\u001b[0m\u001b[0msend\u001b[0m\u001b[0;34m(\u001b[0m\u001b[0mrequest\u001b[0m\u001b[0;34m,\u001b[0m \u001b[0;34m**\u001b[0m\u001b[0mkwargs\u001b[0m\u001b[0;34m)\u001b[0m\u001b[0;34m\u001b[0m\u001b[0;34m\u001b[0m\u001b[0m\n\u001b[0m\u001b[1;32m    644\u001b[0m \u001b[0;34m\u001b[0m\u001b[0m\n\u001b[1;32m    645\u001b[0m         \u001b[0;31m# Total elapsed time of the request (approximately)\u001b[0m\u001b[0;34m\u001b[0m\u001b[0;34m\u001b[0m\u001b[0;34m\u001b[0m\u001b[0m\n",
      "\u001b[0;32m/Users/anaconda3/lib/python3.8/site-packages/requests/adapters.py\u001b[0m in \u001b[0;36msend\u001b[0;34m(self, request, stream, timeout, verify, cert, proxies)\u001b[0m\n\u001b[1;32m    496\u001b[0m \u001b[0;34m\u001b[0m\u001b[0m\n\u001b[1;32m    497\u001b[0m         \u001b[0;32mexcept\u001b[0m \u001b[0;34m(\u001b[0m\u001b[0mProtocolError\u001b[0m\u001b[0;34m,\u001b[0m \u001b[0msocket\u001b[0m\u001b[0;34m.\u001b[0m\u001b[0merror\u001b[0m\u001b[0;34m)\u001b[0m \u001b[0;32mas\u001b[0m \u001b[0merr\u001b[0m\u001b[0;34m:\u001b[0m\u001b[0;34m\u001b[0m\u001b[0;34m\u001b[0m\u001b[0m\n\u001b[0;32m--> 498\u001b[0;31m             \u001b[0;32mraise\u001b[0m \u001b[0mConnectionError\u001b[0m\u001b[0;34m(\u001b[0m\u001b[0merr\u001b[0m\u001b[0;34m,\u001b[0m \u001b[0mrequest\u001b[0m\u001b[0;34m=\u001b[0m\u001b[0mrequest\u001b[0m\u001b[0;34m)\u001b[0m\u001b[0;34m\u001b[0m\u001b[0;34m\u001b[0m\u001b[0m\n\u001b[0m\u001b[1;32m    499\u001b[0m \u001b[0;34m\u001b[0m\u001b[0m\n\u001b[1;32m    500\u001b[0m         \u001b[0;32mexcept\u001b[0m \u001b[0mMaxRetryError\u001b[0m \u001b[0;32mas\u001b[0m \u001b[0me\u001b[0m\u001b[0;34m:\u001b[0m\u001b[0;34m\u001b[0m\u001b[0;34m\u001b[0m\u001b[0m\n",
      "\u001b[0;31mConnectionError\u001b[0m: ('Connection aborted.', ConnectionResetError(54, 'Connection reset by peer'))"
     ]
    }
   ],
   "source": [
    "fight_info_list = []\n",
    "for index, link in enumerate(fight_links):\n",
    "    fight_info = get_fight_info(link)\n",
    "    print(\"===================\" + str(index) + \"=====================\")\n",
    "    print(fight_info)\n",
    "    fight_info_list.append(fight_info)"
   ]
  },
  {
   "cell_type": "code",
   "execution_count": 39,
   "metadata": {},
   "outputs": [],
   "source": [
    "import pandas as pd\n",
    "\n",
    "df = pd.DataFrame(fight_info_list)\n",
    "df.to_csv(\"ufc_data.csv\", index=False)"
   ]
  },
  {
   "cell_type": "code",
   "execution_count": null,
   "metadata": {},
   "outputs": [],
   "source": []
  }
 ]
}