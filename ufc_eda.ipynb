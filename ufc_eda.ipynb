{
 "metadata": {
  "language_info": {
   "codemirror_mode": {
    "name": "ipython",
    "version": 3
   },
   "file_extension": ".py",
   "mimetype": "text/x-python",
   "name": "python",
   "nbconvert_exporter": "python",
   "pygments_lexer": "ipython3",
   "version": "3.8.5"
  },
  "orig_nbformat": 2,
  "kernelspec": {
   "name": "python385jvsc74a57bd08c03d0fe320ba32e87ec146cf627d054e13fa481ad050a28b68cf8f09939554b",
   "display_name": "Python 3.8.5 64-bit (conda)"
  }
 },
 "nbformat": 4,
 "nbformat_minor": 2,
 "cells": [
  {
   "cell_type": "code",
   "execution_count": 32,
   "metadata": {},
   "outputs": [],
   "source": [
    "import pandas as pd\n",
    "import numpy as np\n",
    "import matplotlib.pyplot as plt\n",
    "import seaborn as sns"
   ]
  },
  {
   "cell_type": "code",
   "execution_count": 33,
   "metadata": {},
   "outputs": [
    {
     "output_type": "execute_result",
     "data": {
      "text/plain": [
       "               fight_type                method  round  time  \\\n",
       "0  Light Heavyweight Bout                KO/TKO      2  4:29   \n",
       "1      Featherweight Bout                KO/TKO      1  1:03   \n",
       "2  Light Heavyweight Bout      Decision - Split      3  5:00   \n",
       "3       Middleweight Bout  Decision - Unanimous      3  5:00   \n",
       "4       Bantamweight Bout  Decision - Unanimous      3  5:00   \n",
       "\n",
       "         time_format        referee  \\\n",
       "0  5 Rnd (5-5-5-5-5)      Herb Dean   \n",
       "1      3 Rnd (5-5-5)   Jason Herzog   \n",
       "2      3 Rnd (5-5-5)     Mark Smith   \n",
       "3      3 Rnd (5-5-5)      Herb Dean   \n",
       "4      3 Rnd (5-5-5)  Chris Tognoni   \n",
       "\n",
       "                                             details             winner  \\\n",
       "0  Elbow to Head At Distance\\n      Spinning Back...     Jiri Prochazka   \n",
       "1                           Kick to Body At Distance      Giga Chikadze   \n",
       "2  Dave Hagen28 - 29.Rick Winter29 - 28.Tony Week...               draw   \n",
       "3  Sal D'amato27 - 30.Junichiro Kamijo27 - 30.Ada...    Sean Strickland   \n",
       "4  Mike Bell27 - 30.Sal D'amato28 - 29.Rick Winte...  Merab Dvalishvili   \n",
       "\n",
       "           r_fighter        r_fighter r_fighter_ss b_fighter_ss  \\\n",
       "0     Dominick Reyes   Jiri Prochazka    63 of 108    77 of 136   \n",
       "1      Giga Chikadze      Cub Swanson     12 of 18       4 of 6   \n",
       "2       Ion Cutelaba    Dustin Jacoby    71 of 152    84 of 148   \n",
       "3    Sean Strickland  Krzysztof Jotko    84 of 182    37 of 196   \n",
       "4  Merab Dvalishvili     Cody Stamann    71 of 192    48 of 134   \n",
       "\n",
       "  r_fighter_ss_pct b_fighter_ss_pct r_fighter_total_str b_fighter_total_str  \n",
       "0              58%              56%           68 of 114           78 of 137  \n",
       "1              66%              66%            12 of 18              4 of 6  \n",
       "2              46%              56%          111 of 201          100 of 164  \n",
       "3              46%              18%           84 of 182           37 of 196  \n",
       "4              36%              35%          178 of 306           73 of 163  "
      ],
      "text/html": "<div>\n<style scoped>\n    .dataframe tbody tr th:only-of-type {\n        vertical-align: middle;\n    }\n\n    .dataframe tbody tr th {\n        vertical-align: top;\n    }\n\n    .dataframe thead th {\n        text-align: right;\n    }\n</style>\n<table border=\"1\" class=\"dataframe\">\n  <thead>\n    <tr style=\"text-align: right;\">\n      <th></th>\n      <th>fight_type</th>\n      <th>method</th>\n      <th>round</th>\n      <th>time</th>\n      <th>time_format</th>\n      <th>referee</th>\n      <th>details</th>\n      <th>winner</th>\n      <th>r_fighter</th>\n      <th>r_fighter</th>\n      <th>r_fighter_ss</th>\n      <th>b_fighter_ss</th>\n      <th>r_fighter_ss_pct</th>\n      <th>b_fighter_ss_pct</th>\n      <th>r_fighter_total_str</th>\n      <th>b_fighter_total_str</th>\n    </tr>\n  </thead>\n  <tbody>\n    <tr>\n      <th>0</th>\n      <td>Light Heavyweight Bout</td>\n      <td>KO/TKO</td>\n      <td>2</td>\n      <td>4:29</td>\n      <td>5 Rnd (5-5-5-5-5)</td>\n      <td>Herb Dean</td>\n      <td>Elbow to Head At Distance\\n      Spinning Back...</td>\n      <td>Jiri Prochazka</td>\n      <td>Dominick Reyes</td>\n      <td>Jiri Prochazka</td>\n      <td>63 of 108</td>\n      <td>77 of 136</td>\n      <td>58%</td>\n      <td>56%</td>\n      <td>68 of 114</td>\n      <td>78 of 137</td>\n    </tr>\n    <tr>\n      <th>1</th>\n      <td>Featherweight Bout</td>\n      <td>KO/TKO</td>\n      <td>1</td>\n      <td>1:03</td>\n      <td>3 Rnd (5-5-5)</td>\n      <td>Jason Herzog</td>\n      <td>Kick to Body At Distance</td>\n      <td>Giga Chikadze</td>\n      <td>Giga Chikadze</td>\n      <td>Cub Swanson</td>\n      <td>12 of 18</td>\n      <td>4 of 6</td>\n      <td>66%</td>\n      <td>66%</td>\n      <td>12 of 18</td>\n      <td>4 of 6</td>\n    </tr>\n    <tr>\n      <th>2</th>\n      <td>Light Heavyweight Bout</td>\n      <td>Decision - Split</td>\n      <td>3</td>\n      <td>5:00</td>\n      <td>3 Rnd (5-5-5)</td>\n      <td>Mark Smith</td>\n      <td>Dave Hagen28 - 29.Rick Winter29 - 28.Tony Week...</td>\n      <td>draw</td>\n      <td>Ion Cutelaba</td>\n      <td>Dustin Jacoby</td>\n      <td>71 of 152</td>\n      <td>84 of 148</td>\n      <td>46%</td>\n      <td>56%</td>\n      <td>111 of 201</td>\n      <td>100 of 164</td>\n    </tr>\n    <tr>\n      <th>3</th>\n      <td>Middleweight Bout</td>\n      <td>Decision - Unanimous</td>\n      <td>3</td>\n      <td>5:00</td>\n      <td>3 Rnd (5-5-5)</td>\n      <td>Herb Dean</td>\n      <td>Sal D'amato27 - 30.Junichiro Kamijo27 - 30.Ada...</td>\n      <td>Sean Strickland</td>\n      <td>Sean Strickland</td>\n      <td>Krzysztof Jotko</td>\n      <td>84 of 182</td>\n      <td>37 of 196</td>\n      <td>46%</td>\n      <td>18%</td>\n      <td>84 of 182</td>\n      <td>37 of 196</td>\n    </tr>\n    <tr>\n      <th>4</th>\n      <td>Bantamweight Bout</td>\n      <td>Decision - Unanimous</td>\n      <td>3</td>\n      <td>5:00</td>\n      <td>3 Rnd (5-5-5)</td>\n      <td>Chris Tognoni</td>\n      <td>Mike Bell27 - 30.Sal D'amato28 - 29.Rick Winte...</td>\n      <td>Merab Dvalishvili</td>\n      <td>Merab Dvalishvili</td>\n      <td>Cody Stamann</td>\n      <td>71 of 192</td>\n      <td>48 of 134</td>\n      <td>36%</td>\n      <td>35%</td>\n      <td>178 of 306</td>\n      <td>73 of 163</td>\n    </tr>\n  </tbody>\n</table>\n</div>"
     },
     "metadata": {},
     "execution_count": 33
    }
   ],
   "source": [
    "ufc_df = pd.read_csv('ufc_data.csv')\n",
    "# Change columns name\n",
    "ufc_df.rename(columns={\n",
    "    \"Fight Type\": \"fight_type\",\n",
    "    \"Time:\": \"time\",\n",
    "    \"Round:\":\"round\",\n",
    "    \"Method:\": \"method\",\n",
    "    \"Time format:\": \"time_format\",\n",
    "    \"Referee:\": \"referee\",\n",
    "    \"Details\": \"details\",\n",
    "    \"Winner\": \"winner\",\n",
    "    \"r_figher\": \"r_fighter\",\n",
    "    \"b_figher\": \"r_fighter\",\n",
    "    \"r_figher_sig_str\": \"r_fighter_ss\",\n",
    "    \"b_figher_sig_str\": \"b_fighter_ss\",\n",
    "    \"r_figher_sig_str %\":\"r_fighter_ss_pct\",\n",
    "    \"b_figher_sig_str %\": \"b_fighter_ss_pct\",\n",
    "    \"r_figher_total_str\": \"r_fighter_total_str\",\n",
    "    \"b_figher_total_str\": \"b_fighter_total_str\"\n",
    "}, inplace=True)\n",
    "ufc_df.head()"
   ]
  },
  {
   "cell_type": "code",
   "execution_count": 34,
   "metadata": {},
   "outputs": [],
   "source": [
    "# Work on copied data\n",
    "df = ufc_df.copy()"
   ]
  },
  {
   "source": [
    "## Data cleaning and preprocessing\n",
    "- convert b_fighter_sig_str % and b_fighter_sig_str % columns to int"
   ],
   "cell_type": "markdown",
   "metadata": {}
  },
  {
   "cell_type": "code",
   "execution_count": 35,
   "metadata": {},
   "outputs": [],
   "source": [
    "# convert object to number\n",
    "def to_int(number):\n",
    "    if number == \"---\":\n",
    "        return pd.to_numeric(0)\n",
    "    else:\n",
    "        return pd.to_numeric(number.replace(\"%\", \"\"))\n",
    "\n",
    "# convert first number of siginificant strike and total fight\n",
    "def get_first_number(number):\n",
    "    first_num = number.split('of')[0]\n",
    "    return to_int(first_num)"
   ]
  },
  {
   "cell_type": "code",
   "execution_count": 36,
   "metadata": {},
   "outputs": [
    {
     "output_type": "execute_result",
     "data": {
      "text/plain": [
       "               fight_type                method  round      time  \\\n",
       "0  Light Heavyweight Bout                KO/TKO      2  04:29:00   \n",
       "1      Featherweight Bout                KO/TKO      1  01:03:00   \n",
       "2  Light Heavyweight Bout      Decision - Split      3  05:00:00   \n",
       "3       Middleweight Bout  Decision - Unanimous      3  05:00:00   \n",
       "4       Bantamweight Bout  Decision - Unanimous      3  05:00:00   \n",
       "\n",
       "         time_format        referee  \\\n",
       "0  5 Rnd (5-5-5-5-5)      Herb Dean   \n",
       "1      3 Rnd (5-5-5)   Jason Herzog   \n",
       "2      3 Rnd (5-5-5)     Mark Smith   \n",
       "3      3 Rnd (5-5-5)      Herb Dean   \n",
       "4      3 Rnd (5-5-5)  Chris Tognoni   \n",
       "\n",
       "                                             details             winner  \\\n",
       "0  Elbow to Head At Distance\\n      Spinning Back...     Jiri Prochazka   \n",
       "1                           Kick to Body At Distance      Giga Chikadze   \n",
       "2  Dave Hagen28 - 29.Rick Winter29 - 28.Tony Week...               draw   \n",
       "3  Sal D'amato27 - 30.Junichiro Kamijo27 - 30.Ada...    Sean Strickland   \n",
       "4  Mike Bell27 - 30.Sal D'amato28 - 29.Rick Winte...  Merab Dvalishvili   \n",
       "\n",
       "           r_fighter        r_fighter  r_fighter_ss  b_fighter_ss  \\\n",
       "0     Dominick Reyes   Jiri Prochazka            63            77   \n",
       "1      Giga Chikadze      Cub Swanson            12             4   \n",
       "2       Ion Cutelaba    Dustin Jacoby            71            84   \n",
       "3    Sean Strickland  Krzysztof Jotko            84            37   \n",
       "4  Merab Dvalishvili     Cody Stamann            71            48   \n",
       "\n",
       "   r_fighter_ss_pct  b_fighter_ss_pct  r_fighter_total_str  \\\n",
       "0                58                56                   68   \n",
       "1                66                66                   12   \n",
       "2                46                56                  111   \n",
       "3                46                18                   84   \n",
       "4                36                35                  178   \n",
       "\n",
       "   b_fighter_total_str  \n",
       "0                   78  \n",
       "1                    4  \n",
       "2                  100  \n",
       "3                   37  \n",
       "4                   73  "
      ],
      "text/html": "<div>\n<style scoped>\n    .dataframe tbody tr th:only-of-type {\n        vertical-align: middle;\n    }\n\n    .dataframe tbody tr th {\n        vertical-align: top;\n    }\n\n    .dataframe thead th {\n        text-align: right;\n    }\n</style>\n<table border=\"1\" class=\"dataframe\">\n  <thead>\n    <tr style=\"text-align: right;\">\n      <th></th>\n      <th>fight_type</th>\n      <th>method</th>\n      <th>round</th>\n      <th>time</th>\n      <th>time_format</th>\n      <th>referee</th>\n      <th>details</th>\n      <th>winner</th>\n      <th>r_fighter</th>\n      <th>r_fighter</th>\n      <th>r_fighter_ss</th>\n      <th>b_fighter_ss</th>\n      <th>r_fighter_ss_pct</th>\n      <th>b_fighter_ss_pct</th>\n      <th>r_fighter_total_str</th>\n      <th>b_fighter_total_str</th>\n    </tr>\n  </thead>\n  <tbody>\n    <tr>\n      <th>0</th>\n      <td>Light Heavyweight Bout</td>\n      <td>KO/TKO</td>\n      <td>2</td>\n      <td>04:29:00</td>\n      <td>5 Rnd (5-5-5-5-5)</td>\n      <td>Herb Dean</td>\n      <td>Elbow to Head At Distance\\n      Spinning Back...</td>\n      <td>Jiri Prochazka</td>\n      <td>Dominick Reyes</td>\n      <td>Jiri Prochazka</td>\n      <td>63</td>\n      <td>77</td>\n      <td>58</td>\n      <td>56</td>\n      <td>68</td>\n      <td>78</td>\n    </tr>\n    <tr>\n      <th>1</th>\n      <td>Featherweight Bout</td>\n      <td>KO/TKO</td>\n      <td>1</td>\n      <td>01:03:00</td>\n      <td>3 Rnd (5-5-5)</td>\n      <td>Jason Herzog</td>\n      <td>Kick to Body At Distance</td>\n      <td>Giga Chikadze</td>\n      <td>Giga Chikadze</td>\n      <td>Cub Swanson</td>\n      <td>12</td>\n      <td>4</td>\n      <td>66</td>\n      <td>66</td>\n      <td>12</td>\n      <td>4</td>\n    </tr>\n    <tr>\n      <th>2</th>\n      <td>Light Heavyweight Bout</td>\n      <td>Decision - Split</td>\n      <td>3</td>\n      <td>05:00:00</td>\n      <td>3 Rnd (5-5-5)</td>\n      <td>Mark Smith</td>\n      <td>Dave Hagen28 - 29.Rick Winter29 - 28.Tony Week...</td>\n      <td>draw</td>\n      <td>Ion Cutelaba</td>\n      <td>Dustin Jacoby</td>\n      <td>71</td>\n      <td>84</td>\n      <td>46</td>\n      <td>56</td>\n      <td>111</td>\n      <td>100</td>\n    </tr>\n    <tr>\n      <th>3</th>\n      <td>Middleweight Bout</td>\n      <td>Decision - Unanimous</td>\n      <td>3</td>\n      <td>05:00:00</td>\n      <td>3 Rnd (5-5-5)</td>\n      <td>Herb Dean</td>\n      <td>Sal D'amato27 - 30.Junichiro Kamijo27 - 30.Ada...</td>\n      <td>Sean Strickland</td>\n      <td>Sean Strickland</td>\n      <td>Krzysztof Jotko</td>\n      <td>84</td>\n      <td>37</td>\n      <td>46</td>\n      <td>18</td>\n      <td>84</td>\n      <td>37</td>\n    </tr>\n    <tr>\n      <th>4</th>\n      <td>Bantamweight Bout</td>\n      <td>Decision - Unanimous</td>\n      <td>3</td>\n      <td>05:00:00</td>\n      <td>3 Rnd (5-5-5)</td>\n      <td>Chris Tognoni</td>\n      <td>Mike Bell27 - 30.Sal D'amato28 - 29.Rick Winte...</td>\n      <td>Merab Dvalishvili</td>\n      <td>Merab Dvalishvili</td>\n      <td>Cody Stamann</td>\n      <td>71</td>\n      <td>48</td>\n      <td>36</td>\n      <td>35</td>\n      <td>178</td>\n      <td>73</td>\n    </tr>\n  </tbody>\n</table>\n</div>"
     },
     "metadata": {},
     "execution_count": 36
    }
   ],
   "source": [
    "# convert to int and datetime\n",
    "df['b_fighter_ss_pct'] = df['b_fighter_ss_pct'].apply(lambda x: to_int(x))\n",
    "df['r_fighter_ss_pct'] = df['r_fighter_ss_pct'].apply(lambda x: to_int(x))\n",
    "df['time'] = pd.to_datetime(df['time']).dt.time\n",
    "\n",
    "# keep only the first number of these columns and convert them to int\n",
    "columns = ['r_fighter_ss', 'b_fighter_ss', 'r_fighter_total_str', 'b_fighter_total_str']\n",
    "for column in columns:\n",
    "    df[column] = df[column].apply(lambda x: get_first_number(x))\n",
    "df.head()"
   ]
  },
  {
   "cell_type": "code",
   "execution_count": 39,
   "metadata": {},
   "outputs": [
    {
     "output_type": "stream",
     "name": "stdout",
     "text": [
      "<class 'pandas.core.frame.DataFrame'>\nRangeIndex: 571 entries, 0 to 570\nData columns (total 16 columns):\n #   Column               Non-Null Count  Dtype \n---  ------               --------------  ----- \n 0   fight_type           571 non-null    object\n 1   method               571 non-null    object\n 2   round                571 non-null    int64 \n 3   time                 571 non-null    object\n 4   time_format          571 non-null    object\n 5   referee              564 non-null    object\n 6   details              568 non-null    object\n 7   winner               571 non-null    object\n 8   r_fighter            571 non-null    object\n 9   r_fighter            571 non-null    object\n 10  r_fighter_ss         571 non-null    int64 \n 11  b_fighter_ss         571 non-null    int64 \n 12  r_fighter_ss_pct     571 non-null    int64 \n 13  b_fighter_ss_pct     571 non-null    int64 \n 14  r_fighter_total_str  571 non-null    int64 \n 15  b_fighter_total_str  571 non-null    int64 \ndtypes: int64(7), object(9)\nmemory usage: 71.5+ KB\n"
     ]
    }
   ],
   "source": [
    "df.info()"
   ]
  },
  {
   "cell_type": "code",
   "execution_count": 40,
   "metadata": {},
   "outputs": [
    {
     "output_type": "execute_result",
     "data": {
      "text/plain": [
       "            round  r_fighter_ss  b_fighter_ss  r_fighter_ss_pct  \\\n",
       "count  571.000000    571.000000    571.000000        571.000000   \n",
       "mean     2.458844     46.588441     42.120841         49.812609   \n",
       "std      1.057789     39.986232     34.686179         15.007422   \n",
       "min      1.000000      0.000000      0.000000          0.000000   \n",
       "25%      1.000000     17.000000     16.000000         41.000000   \n",
       "50%      3.000000     39.000000     35.000000         49.000000   \n",
       "75%      3.000000     66.000000     58.000000         58.000000   \n",
       "max      5.000000    445.000000    189.000000        100.000000   \n",
       "\n",
       "       b_fighter_ss_pct  r_fighter_total_str  b_fighter_total_str  \n",
       "count        571.000000           571.000000           571.000000  \n",
       "mean          47.933450            65.751313            58.544658  \n",
       "std           16.170336            51.987831            45.053684  \n",
       "min            0.000000             0.000000             0.000000  \n",
       "25%           38.000000            25.500000            23.000000  \n",
       "50%           48.000000            58.000000            50.000000  \n",
       "75%           56.000000            93.000000            85.500000  \n",
       "max          100.000000           447.000000           215.000000  "
      ],
      "text/html": "<div>\n<style scoped>\n    .dataframe tbody tr th:only-of-type {\n        vertical-align: middle;\n    }\n\n    .dataframe tbody tr th {\n        vertical-align: top;\n    }\n\n    .dataframe thead th {\n        text-align: right;\n    }\n</style>\n<table border=\"1\" class=\"dataframe\">\n  <thead>\n    <tr style=\"text-align: right;\">\n      <th></th>\n      <th>round</th>\n      <th>r_fighter_ss</th>\n      <th>b_fighter_ss</th>\n      <th>r_fighter_ss_pct</th>\n      <th>b_fighter_ss_pct</th>\n      <th>r_fighter_total_str</th>\n      <th>b_fighter_total_str</th>\n    </tr>\n  </thead>\n  <tbody>\n    <tr>\n      <th>count</th>\n      <td>571.000000</td>\n      <td>571.000000</td>\n      <td>571.000000</td>\n      <td>571.000000</td>\n      <td>571.000000</td>\n      <td>571.000000</td>\n      <td>571.000000</td>\n    </tr>\n    <tr>\n      <th>mean</th>\n      <td>2.458844</td>\n      <td>46.588441</td>\n      <td>42.120841</td>\n      <td>49.812609</td>\n      <td>47.933450</td>\n      <td>65.751313</td>\n      <td>58.544658</td>\n    </tr>\n    <tr>\n      <th>std</th>\n      <td>1.057789</td>\n      <td>39.986232</td>\n      <td>34.686179</td>\n      <td>15.007422</td>\n      <td>16.170336</td>\n      <td>51.987831</td>\n      <td>45.053684</td>\n    </tr>\n    <tr>\n      <th>min</th>\n      <td>1.000000</td>\n      <td>0.000000</td>\n      <td>0.000000</td>\n      <td>0.000000</td>\n      <td>0.000000</td>\n      <td>0.000000</td>\n      <td>0.000000</td>\n    </tr>\n    <tr>\n      <th>25%</th>\n      <td>1.000000</td>\n      <td>17.000000</td>\n      <td>16.000000</td>\n      <td>41.000000</td>\n      <td>38.000000</td>\n      <td>25.500000</td>\n      <td>23.000000</td>\n    </tr>\n    <tr>\n      <th>50%</th>\n      <td>3.000000</td>\n      <td>39.000000</td>\n      <td>35.000000</td>\n      <td>49.000000</td>\n      <td>48.000000</td>\n      <td>58.000000</td>\n      <td>50.000000</td>\n    </tr>\n    <tr>\n      <th>75%</th>\n      <td>3.000000</td>\n      <td>66.000000</td>\n      <td>58.000000</td>\n      <td>58.000000</td>\n      <td>56.000000</td>\n      <td>93.000000</td>\n      <td>85.500000</td>\n    </tr>\n    <tr>\n      <th>max</th>\n      <td>5.000000</td>\n      <td>445.000000</td>\n      <td>189.000000</td>\n      <td>100.000000</td>\n      <td>100.000000</td>\n      <td>447.000000</td>\n      <td>215.000000</td>\n    </tr>\n  </tbody>\n</table>\n</div>"
     },
     "metadata": {},
     "execution_count": 40
    }
   ],
   "source": [
    "df.describe()"
   ]
  },
  {
   "cell_type": "code",
   "execution_count": null,
   "metadata": {},
   "outputs": [],
   "source": []
  }
 ]
}