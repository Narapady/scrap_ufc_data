{
 "metadata": {
  "language_info": {
   "codemirror_mode": {
    "name": "ipython",
    "version": 3
   },
   "file_extension": ".py",
   "mimetype": "text/x-python",
   "name": "python",
   "nbconvert_exporter": "python",
   "pygments_lexer": "ipython3",
   "version": "3.8.5"
  },
  "orig_nbformat": 2,
  "kernelspec": {
   "name": "python385jvsc74a57bd08c03d0fe320ba32e87ec146cf627d054e13fa481ad050a28b68cf8f09939554b",
   "display_name": "Python 3.8.5 64-bit (conda)"
  }
 },
 "nbformat": 4,
 "nbformat_minor": 2,
 "cells": [
  {
   "cell_type": "code",
   "execution_count": 61,
   "metadata": {},
   "outputs": [],
   "source": [
    "import pandas as pd\n",
    "import numpy as np\n",
    "import matplotlib.pyplot as plt\n",
    "import seaborn as sns"
   ]
  },
  {
   "cell_type": "code",
   "execution_count": 62,
   "metadata": {},
   "outputs": [
    {
     "output_type": "execute_result",
     "data": {
      "text/plain": [
       "               fight_type                method  round  time  \\\n",
       "0  Light Heavyweight Bout                KO/TKO      2  4:29   \n",
       "1      Featherweight Bout                KO/TKO      1  1:03   \n",
       "2  Light Heavyweight Bout      Decision - Split      3  5:00   \n",
       "3       Middleweight Bout  Decision - Unanimous      3  5:00   \n",
       "4       Bantamweight Bout  Decision - Unanimous      3  5:00   \n",
       "\n",
       "         time_format        referee  \\\n",
       "0  5 Rnd (5-5-5-5-5)      Herb Dean   \n",
       "1      3 Rnd (5-5-5)   Jason Herzog   \n",
       "2      3 Rnd (5-5-5)     Mark Smith   \n",
       "3      3 Rnd (5-5-5)      Herb Dean   \n",
       "4      3 Rnd (5-5-5)  Chris Tognoni   \n",
       "\n",
       "                                             details             winner  \\\n",
       "0  Elbow to Head At Distance\\n      Spinning Back...     Jiri Prochazka   \n",
       "1                           Kick to Body At Distance      Giga Chikadze   \n",
       "2  Dave Hagen28 - 29.Rick Winter29 - 28.Tony Week...               draw   \n",
       "3  Sal D'amato27 - 30.Junichiro Kamijo27 - 30.Ada...    Sean Strickland   \n",
       "4  Mike Bell27 - 30.Sal D'amato28 - 29.Rick Winte...  Merab Dvalishvili   \n",
       "\n",
       "           r_fighter        r_fighter r_fighter_ss b_fighter_ss  \\\n",
       "0     Dominick Reyes   Jiri Prochazka    63 of 108    77 of 136   \n",
       "1      Giga Chikadze      Cub Swanson     12 of 18       4 of 6   \n",
       "2       Ion Cutelaba    Dustin Jacoby    71 of 152    84 of 148   \n",
       "3    Sean Strickland  Krzysztof Jotko    84 of 182    37 of 196   \n",
       "4  Merab Dvalishvili     Cody Stamann    71 of 192    48 of 134   \n",
       "\n",
       "  r_fighter_ss_pct b_fighter_ss_pct r_fighter_total_str b_fighter_total_str  \n",
       "0              58%              56%           68 of 114           78 of 137  \n",
       "1              66%              66%            12 of 18              4 of 6  \n",
       "2              46%              56%          111 of 201          100 of 164  \n",
       "3              46%              18%           84 of 182           37 of 196  \n",
       "4              36%              35%          178 of 306           73 of 163  "
      ],
      "text/html": "<div>\n<style scoped>\n    .dataframe tbody tr th:only-of-type {\n        vertical-align: middle;\n    }\n\n    .dataframe tbody tr th {\n        vertical-align: top;\n    }\n\n    .dataframe thead th {\n        text-align: right;\n    }\n</style>\n<table border=\"1\" class=\"dataframe\">\n  <thead>\n    <tr style=\"text-align: right;\">\n      <th></th>\n      <th>fight_type</th>\n      <th>method</th>\n      <th>round</th>\n      <th>time</th>\n      <th>time_format</th>\n      <th>referee</th>\n      <th>details</th>\n      <th>winner</th>\n      <th>r_fighter</th>\n      <th>r_fighter</th>\n      <th>r_fighter_ss</th>\n      <th>b_fighter_ss</th>\n      <th>r_fighter_ss_pct</th>\n      <th>b_fighter_ss_pct</th>\n      <th>r_fighter_total_str</th>\n      <th>b_fighter_total_str</th>\n    </tr>\n  </thead>\n  <tbody>\n    <tr>\n      <th>0</th>\n      <td>Light Heavyweight Bout</td>\n      <td>KO/TKO</td>\n      <td>2</td>\n      <td>4:29</td>\n      <td>5 Rnd (5-5-5-5-5)</td>\n      <td>Herb Dean</td>\n      <td>Elbow to Head At Distance\\n      Spinning Back...</td>\n      <td>Jiri Prochazka</td>\n      <td>Dominick Reyes</td>\n      <td>Jiri Prochazka</td>\n      <td>63 of 108</td>\n      <td>77 of 136</td>\n      <td>58%</td>\n      <td>56%</td>\n      <td>68 of 114</td>\n      <td>78 of 137</td>\n    </tr>\n    <tr>\n      <th>1</th>\n      <td>Featherweight Bout</td>\n      <td>KO/TKO</td>\n      <td>1</td>\n      <td>1:03</td>\n      <td>3 Rnd (5-5-5)</td>\n      <td>Jason Herzog</td>\n      <td>Kick to Body At Distance</td>\n      <td>Giga Chikadze</td>\n      <td>Giga Chikadze</td>\n      <td>Cub Swanson</td>\n      <td>12 of 18</td>\n      <td>4 of 6</td>\n      <td>66%</td>\n      <td>66%</td>\n      <td>12 of 18</td>\n      <td>4 of 6</td>\n    </tr>\n    <tr>\n      <th>2</th>\n      <td>Light Heavyweight Bout</td>\n      <td>Decision - Split</td>\n      <td>3</td>\n      <td>5:00</td>\n      <td>3 Rnd (5-5-5)</td>\n      <td>Mark Smith</td>\n      <td>Dave Hagen28 - 29.Rick Winter29 - 28.Tony Week...</td>\n      <td>draw</td>\n      <td>Ion Cutelaba</td>\n      <td>Dustin Jacoby</td>\n      <td>71 of 152</td>\n      <td>84 of 148</td>\n      <td>46%</td>\n      <td>56%</td>\n      <td>111 of 201</td>\n      <td>100 of 164</td>\n    </tr>\n    <tr>\n      <th>3</th>\n      <td>Middleweight Bout</td>\n      <td>Decision - Unanimous</td>\n      <td>3</td>\n      <td>5:00</td>\n      <td>3 Rnd (5-5-5)</td>\n      <td>Herb Dean</td>\n      <td>Sal D'amato27 - 30.Junichiro Kamijo27 - 30.Ada...</td>\n      <td>Sean Strickland</td>\n      <td>Sean Strickland</td>\n      <td>Krzysztof Jotko</td>\n      <td>84 of 182</td>\n      <td>37 of 196</td>\n      <td>46%</td>\n      <td>18%</td>\n      <td>84 of 182</td>\n      <td>37 of 196</td>\n    </tr>\n    <tr>\n      <th>4</th>\n      <td>Bantamweight Bout</td>\n      <td>Decision - Unanimous</td>\n      <td>3</td>\n      <td>5:00</td>\n      <td>3 Rnd (5-5-5)</td>\n      <td>Chris Tognoni</td>\n      <td>Mike Bell27 - 30.Sal D'amato28 - 29.Rick Winte...</td>\n      <td>Merab Dvalishvili</td>\n      <td>Merab Dvalishvili</td>\n      <td>Cody Stamann</td>\n      <td>71 of 192</td>\n      <td>48 of 134</td>\n      <td>36%</td>\n      <td>35%</td>\n      <td>178 of 306</td>\n      <td>73 of 163</td>\n    </tr>\n  </tbody>\n</table>\n</div>"
     },
     "metadata": {},
     "execution_count": 62
    }
   ],
   "source": [
    "ufc_df = pd.read_csv('ufc_data.csv')\n",
    "# Change columns name\n",
    "ufc_df.rename(columns={\n",
    "    \"Fight Type\": \"fight_type\",\n",
    "    \"Time:\": \"time\",\n",
    "    \"Round:\":\"round\",\n",
    "    \"Method:\": \"method\",\n",
    "    \"Time format:\": \"time_format\",\n",
    "    \"Referee:\": \"referee\",\n",
    "    \"Details\": \"details\",\n",
    "    \"Winner\": \"winner\",\n",
    "    \"r_figher\": \"r_fighter\",\n",
    "    \"b_figher\": \"r_fighter\",\n",
    "    \"r_figher_sig_str\": \"r_fighter_ss\",\n",
    "    \"b_figher_sig_str\": \"b_fighter_ss\",\n",
    "    \"r_figher_sig_str %\":\"r_fighter_ss_pct\",\n",
    "    \"b_figher_sig_str %\": \"b_fighter_ss_pct\",\n",
    "    \"r_figher_total_str\": \"r_fighter_total_str\",\n",
    "    \"b_figher_total_str\": \"b_fighter_total_str\"\n",
    "}, inplace=True)\n",
    "ufc_df.head()"
   ]
  },
  {
   "cell_type": "code",
   "execution_count": 63,
   "metadata": {},
   "outputs": [],
   "source": [
    "# Work on copied data\n",
    "df = ufc_df.copy()"
   ]
  },
  {
   "source": [
    "## Data cleaning and preprocessing\n",
    "- convert b_fighter_sig_str % and b_fighter_sig_str % columns to int"
   ],
   "cell_type": "markdown",
   "metadata": {}
  },
  {
   "cell_type": "code",
   "execution_count": 64,
   "metadata": {},
   "outputs": [],
   "source": [
    "def to_int(number):\n",
    "    if number == \"---\":\n",
    "        return pd.to_numeric(0)\n",
    "    else:\n",
    "        return pd.to_numeric(number.replace(\"%\", \"\"))"
   ]
  },
  {
   "cell_type": "code",
   "execution_count": 65,
   "metadata": {},
   "outputs": [
    {
     "output_type": "execute_result",
     "data": {
      "text/plain": [
       "               fight_type                method  round  time  \\\n",
       "0  Light Heavyweight Bout                KO/TKO      2  4:29   \n",
       "1      Featherweight Bout                KO/TKO      1  1:03   \n",
       "2  Light Heavyweight Bout      Decision - Split      3  5:00   \n",
       "3       Middleweight Bout  Decision - Unanimous      3  5:00   \n",
       "4       Bantamweight Bout  Decision - Unanimous      3  5:00   \n",
       "\n",
       "         time_format        referee  \\\n",
       "0  5 Rnd (5-5-5-5-5)      Herb Dean   \n",
       "1      3 Rnd (5-5-5)   Jason Herzog   \n",
       "2      3 Rnd (5-5-5)     Mark Smith   \n",
       "3      3 Rnd (5-5-5)      Herb Dean   \n",
       "4      3 Rnd (5-5-5)  Chris Tognoni   \n",
       "\n",
       "                                             details             winner  \\\n",
       "0  Elbow to Head At Distance\\n      Spinning Back...     Jiri Prochazka   \n",
       "1                           Kick to Body At Distance      Giga Chikadze   \n",
       "2  Dave Hagen28 - 29.Rick Winter29 - 28.Tony Week...               draw   \n",
       "3  Sal D'amato27 - 30.Junichiro Kamijo27 - 30.Ada...    Sean Strickland   \n",
       "4  Mike Bell27 - 30.Sal D'amato28 - 29.Rick Winte...  Merab Dvalishvili   \n",
       "\n",
       "           r_fighter        r_fighter r_fighter_ss b_fighter_ss  \\\n",
       "0     Dominick Reyes   Jiri Prochazka    63 of 108    77 of 136   \n",
       "1      Giga Chikadze      Cub Swanson     12 of 18       4 of 6   \n",
       "2       Ion Cutelaba    Dustin Jacoby    71 of 152    84 of 148   \n",
       "3    Sean Strickland  Krzysztof Jotko    84 of 182    37 of 196   \n",
       "4  Merab Dvalishvili     Cody Stamann    71 of 192    48 of 134   \n",
       "\n",
       "   r_fighter_ss_pct  b_fighter_ss_pct r_fighter_total_str b_fighter_total_str  \n",
       "0                58                56           68 of 114           78 of 137  \n",
       "1                66                66            12 of 18              4 of 6  \n",
       "2                46                56          111 of 201          100 of 164  \n",
       "3                46                18           84 of 182           37 of 196  \n",
       "4                36                35          178 of 306           73 of 163  "
      ],
      "text/html": "<div>\n<style scoped>\n    .dataframe tbody tr th:only-of-type {\n        vertical-align: middle;\n    }\n\n    .dataframe tbody tr th {\n        vertical-align: top;\n    }\n\n    .dataframe thead th {\n        text-align: right;\n    }\n</style>\n<table border=\"1\" class=\"dataframe\">\n  <thead>\n    <tr style=\"text-align: right;\">\n      <th></th>\n      <th>fight_type</th>\n      <th>method</th>\n      <th>round</th>\n      <th>time</th>\n      <th>time_format</th>\n      <th>referee</th>\n      <th>details</th>\n      <th>winner</th>\n      <th>r_fighter</th>\n      <th>r_fighter</th>\n      <th>r_fighter_ss</th>\n      <th>b_fighter_ss</th>\n      <th>r_fighter_ss_pct</th>\n      <th>b_fighter_ss_pct</th>\n      <th>r_fighter_total_str</th>\n      <th>b_fighter_total_str</th>\n    </tr>\n  </thead>\n  <tbody>\n    <tr>\n      <th>0</th>\n      <td>Light Heavyweight Bout</td>\n      <td>KO/TKO</td>\n      <td>2</td>\n      <td>4:29</td>\n      <td>5 Rnd (5-5-5-5-5)</td>\n      <td>Herb Dean</td>\n      <td>Elbow to Head At Distance\\n      Spinning Back...</td>\n      <td>Jiri Prochazka</td>\n      <td>Dominick Reyes</td>\n      <td>Jiri Prochazka</td>\n      <td>63 of 108</td>\n      <td>77 of 136</td>\n      <td>58</td>\n      <td>56</td>\n      <td>68 of 114</td>\n      <td>78 of 137</td>\n    </tr>\n    <tr>\n      <th>1</th>\n      <td>Featherweight Bout</td>\n      <td>KO/TKO</td>\n      <td>1</td>\n      <td>1:03</td>\n      <td>3 Rnd (5-5-5)</td>\n      <td>Jason Herzog</td>\n      <td>Kick to Body At Distance</td>\n      <td>Giga Chikadze</td>\n      <td>Giga Chikadze</td>\n      <td>Cub Swanson</td>\n      <td>12 of 18</td>\n      <td>4 of 6</td>\n      <td>66</td>\n      <td>66</td>\n      <td>12 of 18</td>\n      <td>4 of 6</td>\n    </tr>\n    <tr>\n      <th>2</th>\n      <td>Light Heavyweight Bout</td>\n      <td>Decision - Split</td>\n      <td>3</td>\n      <td>5:00</td>\n      <td>3 Rnd (5-5-5)</td>\n      <td>Mark Smith</td>\n      <td>Dave Hagen28 - 29.Rick Winter29 - 28.Tony Week...</td>\n      <td>draw</td>\n      <td>Ion Cutelaba</td>\n      <td>Dustin Jacoby</td>\n      <td>71 of 152</td>\n      <td>84 of 148</td>\n      <td>46</td>\n      <td>56</td>\n      <td>111 of 201</td>\n      <td>100 of 164</td>\n    </tr>\n    <tr>\n      <th>3</th>\n      <td>Middleweight Bout</td>\n      <td>Decision - Unanimous</td>\n      <td>3</td>\n      <td>5:00</td>\n      <td>3 Rnd (5-5-5)</td>\n      <td>Herb Dean</td>\n      <td>Sal D'amato27 - 30.Junichiro Kamijo27 - 30.Ada...</td>\n      <td>Sean Strickland</td>\n      <td>Sean Strickland</td>\n      <td>Krzysztof Jotko</td>\n      <td>84 of 182</td>\n      <td>37 of 196</td>\n      <td>46</td>\n      <td>18</td>\n      <td>84 of 182</td>\n      <td>37 of 196</td>\n    </tr>\n    <tr>\n      <th>4</th>\n      <td>Bantamweight Bout</td>\n      <td>Decision - Unanimous</td>\n      <td>3</td>\n      <td>5:00</td>\n      <td>3 Rnd (5-5-5)</td>\n      <td>Chris Tognoni</td>\n      <td>Mike Bell27 - 30.Sal D'amato28 - 29.Rick Winte...</td>\n      <td>Merab Dvalishvili</td>\n      <td>Merab Dvalishvili</td>\n      <td>Cody Stamann</td>\n      <td>71 of 192</td>\n      <td>48 of 134</td>\n      <td>36</td>\n      <td>35</td>\n      <td>178 of 306</td>\n      <td>73 of 163</td>\n    </tr>\n  </tbody>\n</table>\n</div>"
     },
     "metadata": {},
     "execution_count": 65
    }
   ],
   "source": [
    "df['b_fighter_ss_pct'] = df['b_fighter_ss_pct'].apply(lambda x: to_int(x))\n",
    "df['r_fighter_ss_pct'] = df['r_fighter_ss_pct'].apply(lambda x: to_int(x))\n",
    "df.head()"
   ]
  },
  {
   "cell_type": "code",
   "execution_count": null,
   "metadata": {},
   "outputs": [],
   "source": []
  }
 ]
}